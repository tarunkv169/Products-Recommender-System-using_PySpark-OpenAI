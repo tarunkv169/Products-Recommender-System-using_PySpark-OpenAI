{
  "cells": [
    {
      "cell_type": "markdown",
      "metadata": {
        "id": "view-in-github",
        "colab_type": "text"
      },
      "source": [
        "<a href=\"https://colab.research.google.com/github/tarunkv169/Products-Recommender-System-using_PySpark-OpenAI/blob/main/Machine_Learning_with_PySpark_Recommender_System.ipynb\" target=\"_parent\"><img src=\"https://colab.research.google.com/assets/colab-badge.svg\" alt=\"Open In Colab\"/></a>"
      ]
    },
    {
      "cell_type": "markdown",
      "metadata": {
        "id": "bWtujWqFiBeP"
      },
      "source": [
        "# TASK 1 load data with spark"
      ]
    },
    {
      "cell_type": "code",
      "execution_count": 134,
      "metadata": {
        "id": "3jpDiZBcfRux"
      },
      "outputs": [],
      "source": [
        "import pandas as pd\n",
        "import numpy as np"
      ]
    },
    {
      "cell_type": "code",
      "execution_count": 135,
      "metadata": {
        "colab": {
          "base_uri": "https://localhost:8080/"
        },
        "id": "--8jomHSgSB5",
        "outputId": "e572753b-017c-49e2-90c4-cefde7cbd4ce"
      },
      "outputs": [
        {
          "output_type": "stream",
          "name": "stdout",
          "text": [
            "Requirement already satisfied: pyspark in /usr/local/lib/python3.11/dist-packages (3.5.4)\n",
            "Requirement already satisfied: py4j==0.10.9.7 in /usr/local/lib/python3.11/dist-packages (from pyspark) (0.10.9.7)\n"
          ]
        }
      ],
      "source": [
        "!pip install pyspark"
      ]
    },
    {
      "cell_type": "code",
      "execution_count": 136,
      "metadata": {
        "id": "M1zz0t7LgYUX"
      },
      "outputs": [],
      "source": [
        "# 1. import/create session of spark\n",
        "from pyspark.sql import SparkSession\n",
        "from pyspark.sql import functions as F\n",
        "from pyspark.sql.types import *"
      ]
    },
    {
      "cell_type": "code",
      "execution_count": 137,
      "metadata": {
        "id": "kfROd4X0gpLq"
      },
      "outputs": [],
      "source": [
        "# 2. activate session, to use spark\n",
        "spark = SparkSession.builder.appName('Product Recommander').getOrCreate()"
      ]
    },
    {
      "cell_type": "code",
      "execution_count": 138,
      "metadata": {
        "id": "_S_zFSTDg6tf"
      },
      "outputs": [],
      "source": [
        "# 3. use it, here our data goes to spark, where it is distributed to clusters\n",
        "df = spark.read.csv('/content/products_dataset.csv', header = True, inferSchema = True, samplingRatio = 1)\n",
        "# df.show()"
      ]
    },
    {
      "cell_type": "code",
      "source": [
        "df.count()"
      ],
      "metadata": {
        "colab": {
          "base_uri": "https://localhost:8080/"
        },
        "id": "gxifnO8-BADQ",
        "outputId": "7e3d6fef-9034-410d-bec8-ff0fb3b56b5d"
      },
      "execution_count": 139,
      "outputs": [
        {
          "output_type": "execute_result",
          "data": {
            "text/plain": [
              "2000"
            ]
          },
          "metadata": {},
          "execution_count": 139
        }
      ]
    },
    {
      "cell_type": "markdown",
      "metadata": {
        "id": "H_ufXpvQhuCo"
      },
      "source": [
        "#TASK 2 Now all data preprocessing--will done by---spark, as its clusters are processsing it"
      ]
    },
    {
      "cell_type": "code",
      "execution_count": 140,
      "metadata": {
        "id": "IuvGmfJfhda5"
      },
      "outputs": [],
      "source": [
        "# df.show()"
      ]
    },
    {
      "cell_type": "markdown",
      "metadata": {
        "id": "b4IWLUFwlXLa"
      },
      "source": [
        "\n",
        "\n",
        "---\n",
        "\n",
        "\n",
        "\n",
        ">  **i.    combined_text in one column**\n",
        "\n",
        "---\n",
        "\n",
        "\n",
        "\n",
        "\n"
      ]
    },
    {
      "cell_type": "code",
      "execution_count": 141,
      "metadata": {
        "id": "VcV22tqViZJP"
      },
      "outputs": [],
      "source": [
        "# as we can see all products & details are in title and description, so concat them\n",
        "\n",
        "# as data is in spark, but no worry--> here we r not modify, just create new--> so only use spark func to concat\n",
        "from pyspark.sql.functions import concat_ws"
      ]
    },
    {
      "cell_type": "code",
      "execution_count": 142,
      "metadata": {
        "id": "VJMc1p6kk5dp"
      },
      "outputs": [],
      "source": [
        "df = df.withColumn('combined_text',concat_ws(\" \",df.title,df.description))"
      ]
    },
    {
      "cell_type": "code",
      "source": [
        "df.count()"
      ],
      "metadata": {
        "colab": {
          "base_uri": "https://localhost:8080/"
        },
        "id": "Vqhw58kwAAZK",
        "outputId": "2f370c60-5b34-4c51-fc43-03e392a4c4eb"
      },
      "execution_count": 143,
      "outputs": [
        {
          "output_type": "execute_result",
          "data": {
            "text/plain": [
              "2000"
            ]
          },
          "metadata": {},
          "execution_count": 143
        }
      ]
    },
    {
      "cell_type": "code",
      "execution_count": 144,
      "metadata": {
        "id": "boMRyYBllNLj",
        "collapsed": true
      },
      "outputs": [],
      "source": [
        "# df.show()"
      ]
    },
    {
      "cell_type": "markdown",
      "metadata": {
        "id": "l_LaAIY1lfX8"
      },
      "source": [
        "\n",
        "\n",
        "---\n",
        "\n",
        "\n",
        "\n",
        ">  **ii.   column--->list, to perform operations**\n",
        "\n",
        "---\n",
        "\n",
        "\n",
        "\n",
        "\n"
      ]
    },
    {
      "cell_type": "code",
      "execution_count": 145,
      "metadata": {
        "id": "QlO7TvFulOVu"
      },
      "outputs": [],
      "source": [
        "# here we r modifying(converting col->list), so need to use \"rdd\" to interact with clusters\n",
        "# with \"rdd\" we can perform operation on data in clusters\n",
        "# with \"collect\" we can get modified data\n",
        "\n",
        "combined_text_list = df.select('combined_text').rdd.flatMap(lambda x : x).collect()"
      ]
    },
    {
      "cell_type": "code",
      "execution_count": 146,
      "metadata": {
        "colab": {
          "base_uri": "https://localhost:8080/"
        },
        "id": "E1MdO7oXnDDs",
        "outputId": "b89066cd-da1a-4f06-b3cc-16a7e6589a5b",
        "collapsed": true
      },
      "outputs": [
        {
          "output_type": "execute_result",
          "data": {
            "text/plain": [
              "[\"Men's 3X Large Carbon Heather Cotton/Polyester Rain Defender Paxton Heavyweight Hooded Zip-Front Sweatshirt This heavyweight, water-repellent hooded sweatshirt has a zip front for fast layering. ORIGINAL FIT. 13 oz., 75% cotton/25% polyester blend with Rain Defender durable water repellent. Attached, jersey-lined three-piece hood with drawcord closure. Antique-finish brass front zipper. Two front hand-warmer pockets have a hidden security pocket inside. Stretchable, spandex-reinforced rib-knit cuffs and waistband. Locker loop facilitates hanging.\",\n",
              " \"Turmode 30 ft. RP TNC Female to RP TNC Male Adapter Cable If you need more length between your existing wireless device and Hi-Gain Antenna, this is the product for you. It's compatible with most Wi-Fi Antennas, so it is easy for you to extend your wireless network. Just replace your existing cable that runs between your wireless device and Antenna and you're ready to use your network with extended range.\",\n",
              " 'Large Tapestry Bolster Bed Polyester cover resembling rich Italian tapestries wraps your pet in comfort and style. 100% recycled polyester high loft MemoryFiber fill keeps pets elevated off cold floors for relief on tired joints and pressure points. A great fit for pets up to 100 lbs. Zippered removable cover is machine washable in cold water only. To dry, use a delicate cycle or gentle setting with very low heat.',\n",
              " '16-Gauge-Sinks Vessel Sink in White with Faucet It features a rectangle shape. This vessel set is designed to be installed as a undermount vessel set. It is constructed with ceramic. This vessel set comes with an enamel glaze finish in White color. It is designed for a deck mount faucet.']"
            ]
          },
          "metadata": {},
          "execution_count": 146
        }
      ],
      "source": [
        "# list  contains [title[0]+description[0] , title[1]+description[1] , .....]----> ele(products) [prod1 , prod2,]\n",
        "# let see few elements of list\n",
        "combined_text_list[0:4]"
      ]
    },
    {
      "cell_type": "code",
      "execution_count": 147,
      "metadata": {
        "colab": {
          "base_uri": "https://localhost:8080/"
        },
        "id": "OKlv__EGDihq",
        "outputId": "3fbcce2d-17f7-4b0a-b4f3-f7d3ff2b604a"
      },
      "outputs": [
        {
          "output_type": "execute_result",
          "data": {
            "text/plain": [
              "2000"
            ]
          },
          "metadata": {},
          "execution_count": 147
        }
      ],
      "source": [
        "#total ele(products) [prod1 , prod2,]\n",
        "len(combined_text_list)\n"
      ]
    },
    {
      "cell_type": "code",
      "execution_count": 148,
      "metadata": {
        "colab": {
          "base_uri": "https://localhost:8080/"
        },
        "id": "jyte-a26GkRU",
        "outputId": "484a11ba-1e31-4324-c147-035632298b10"
      },
      "outputs": [
        {
          "output_type": "execute_result",
          "data": {
            "text/plain": [
              "70"
            ]
          },
          "metadata": {},
          "execution_count": 148
        }
      ],
      "source": [
        "# words in first ele(product)\n",
        "len(combined_text_list[0].split())"
      ]
    },
    {
      "cell_type": "code",
      "source": [
        "len(combined_text_list[1].split())"
      ],
      "metadata": {
        "colab": {
          "base_uri": "https://localhost:8080/"
        },
        "id": "Y4bMGy8-AYpq",
        "outputId": "49b1feb7-fc61-4e00-8407-e6834225c3ae"
      },
      "execution_count": 149,
      "outputs": [
        {
          "output_type": "execute_result",
          "data": {
            "text/plain": [
              "71"
            ]
          },
          "metadata": {},
          "execution_count": 149
        }
      ]
    },
    {
      "cell_type": "code",
      "execution_count": 150,
      "metadata": {
        "colab": {
          "base_uri": "https://localhost:8080/"
        },
        "id": "ZHtOHqunG4rt",
        "outputId": "78324a8b-5ed7-4592-eb27-05424ac1ea97"
      },
      "outputs": [
        {
          "output_type": "execute_result",
          "data": {
            "text/plain": [
              "178957"
            ]
          },
          "metadata": {},
          "execution_count": 150
        }
      ],
      "source": [
        "# total words in all ele(products)\n",
        "total_words = sum(len(i.split()) for i in combined_text_list)\n",
        "total_words"
      ]
    },
    {
      "cell_type": "markdown",
      "metadata": {
        "id": "qY3Fa51D4wtp"
      },
      "source": [
        "\n",
        "\n",
        "---\n",
        "\n",
        "\n",
        "\n",
        "> **iii. Vector Embedding of the list(text--->meaningful numeric)**\n",
        "\n",
        "---\n",
        "\n",
        "\n",
        "\n",
        "\n"
      ]
    },
    {
      "cell_type": "code",
      "execution_count": 151,
      "metadata": {
        "id": "ZwiCkvXO3YnJ"
      },
      "outputs": [],
      "source": [
        "# !pip install openai python-dotenv"
      ]
    },
    {
      "cell_type": "code",
      "execution_count": 152,
      "metadata": {
        "id": "zCtt6O3R9z2h"
      },
      "outputs": [],
      "source": [
        "# from openai import OpenAI\n",
        "# from dotenv import load_dotenv\n",
        "\n",
        "# import os"
      ]
    },
    {
      "cell_type": "code",
      "execution_count": 153,
      "metadata": {
        "id": "N3xaANflKAN6"
      },
      "outputs": [],
      "source": [
        "# # load_dotenv--> env_path---> os,\n",
        "# load_dotenv(dotenv_path = '/content/apikey.env.txt')\n",
        "\n",
        "# # from os--->extract env private creds\n",
        "# APIKEY = os.getenv('APIKEY')\n",
        "\n",
        "# # create instance of openai\n",
        "# client = OpenAI(\n",
        "#     api_key = APIKEY\n",
        "# )\n"
      ]
    },
    {
      "cell_type": "code",
      "execution_count": 154,
      "metadata": {
        "id": "6wGwPl2sOTmv"
      },
      "outputs": [],
      "source": [
        "##using particular model of openai to embedd, and  , select dims(cols in which data spreadout)->data will equal divide in no. of cols\n",
        "# response = client.embeddings.create(\n",
        "#     input = combined_text_list[0:5],\n",
        "#     model = 'text-embedding-3-small',\n",
        "#     dimensions = 5\n",
        "# )\n",
        "\n",
        "# response"
      ]
    },
    {
      "cell_type": "code",
      "execution_count": 155,
      "metadata": {
        "colab": {
          "base_uri": "https://localhost:8080/"
        },
        "collapsed": true,
        "id": "Hr4bqPHhW1TF",
        "outputId": "09ed9586-fcc0-4bcc-fca5-cc53d90af05e"
      },
      "outputs": [
        {
          "output_type": "stream",
          "name": "stdout",
          "text": [
            "Requirement already satisfied: sentence-transformers in /usr/local/lib/python3.11/dist-packages (3.4.1)\n",
            "Requirement already satisfied: transformers<5.0.0,>=4.41.0 in /usr/local/lib/python3.11/dist-packages (from sentence-transformers) (4.47.1)\n",
            "Requirement already satisfied: tqdm in /usr/local/lib/python3.11/dist-packages (from sentence-transformers) (4.67.1)\n",
            "Requirement already satisfied: torch>=1.11.0 in /usr/local/lib/python3.11/dist-packages (from sentence-transformers) (2.5.1+cu124)\n",
            "Requirement already satisfied: scikit-learn in /usr/local/lib/python3.11/dist-packages (from sentence-transformers) (1.6.1)\n",
            "Requirement already satisfied: scipy in /usr/local/lib/python3.11/dist-packages (from sentence-transformers) (1.13.1)\n",
            "Requirement already satisfied: huggingface-hub>=0.20.0 in /usr/local/lib/python3.11/dist-packages (from sentence-transformers) (0.27.1)\n",
            "Requirement already satisfied: Pillow in /usr/local/lib/python3.11/dist-packages (from sentence-transformers) (11.1.0)\n",
            "Requirement already satisfied: filelock in /usr/local/lib/python3.11/dist-packages (from huggingface-hub>=0.20.0->sentence-transformers) (3.17.0)\n",
            "Requirement already satisfied: fsspec>=2023.5.0 in /usr/local/lib/python3.11/dist-packages (from huggingface-hub>=0.20.0->sentence-transformers) (2024.10.0)\n",
            "Requirement already satisfied: packaging>=20.9 in /usr/local/lib/python3.11/dist-packages (from huggingface-hub>=0.20.0->sentence-transformers) (24.2)\n",
            "Requirement already satisfied: pyyaml>=5.1 in /usr/local/lib/python3.11/dist-packages (from huggingface-hub>=0.20.0->sentence-transformers) (6.0.2)\n",
            "Requirement already satisfied: requests in /usr/local/lib/python3.11/dist-packages (from huggingface-hub>=0.20.0->sentence-transformers) (2.32.3)\n",
            "Requirement already satisfied: typing-extensions>=3.7.4.3 in /usr/local/lib/python3.11/dist-packages (from huggingface-hub>=0.20.0->sentence-transformers) (4.12.2)\n",
            "Requirement already satisfied: networkx in /usr/local/lib/python3.11/dist-packages (from torch>=1.11.0->sentence-transformers) (3.4.2)\n",
            "Requirement already satisfied: jinja2 in /usr/local/lib/python3.11/dist-packages (from torch>=1.11.0->sentence-transformers) (3.1.5)\n",
            "Requirement already satisfied: nvidia-cuda-nvrtc-cu12==12.4.127 in /usr/local/lib/python3.11/dist-packages (from torch>=1.11.0->sentence-transformers) (12.4.127)\n",
            "Requirement already satisfied: nvidia-cuda-runtime-cu12==12.4.127 in /usr/local/lib/python3.11/dist-packages (from torch>=1.11.0->sentence-transformers) (12.4.127)\n",
            "Requirement already satisfied: nvidia-cuda-cupti-cu12==12.4.127 in /usr/local/lib/python3.11/dist-packages (from torch>=1.11.0->sentence-transformers) (12.4.127)\n",
            "Requirement already satisfied: nvidia-cudnn-cu12==9.1.0.70 in /usr/local/lib/python3.11/dist-packages (from torch>=1.11.0->sentence-transformers) (9.1.0.70)\n",
            "Requirement already satisfied: nvidia-cublas-cu12==12.4.5.8 in /usr/local/lib/python3.11/dist-packages (from torch>=1.11.0->sentence-transformers) (12.4.5.8)\n",
            "Requirement already satisfied: nvidia-cufft-cu12==11.2.1.3 in /usr/local/lib/python3.11/dist-packages (from torch>=1.11.0->sentence-transformers) (11.2.1.3)\n",
            "Requirement already satisfied: nvidia-curand-cu12==10.3.5.147 in /usr/local/lib/python3.11/dist-packages (from torch>=1.11.0->sentence-transformers) (10.3.5.147)\n",
            "Requirement already satisfied: nvidia-cusolver-cu12==11.6.1.9 in /usr/local/lib/python3.11/dist-packages (from torch>=1.11.0->sentence-transformers) (11.6.1.9)\n",
            "Requirement already satisfied: nvidia-cusparse-cu12==12.3.1.170 in /usr/local/lib/python3.11/dist-packages (from torch>=1.11.0->sentence-transformers) (12.3.1.170)\n",
            "Requirement already satisfied: nvidia-nccl-cu12==2.21.5 in /usr/local/lib/python3.11/dist-packages (from torch>=1.11.0->sentence-transformers) (2.21.5)\n",
            "Requirement already satisfied: nvidia-nvtx-cu12==12.4.127 in /usr/local/lib/python3.11/dist-packages (from torch>=1.11.0->sentence-transformers) (12.4.127)\n",
            "Requirement already satisfied: nvidia-nvjitlink-cu12==12.4.127 in /usr/local/lib/python3.11/dist-packages (from torch>=1.11.0->sentence-transformers) (12.4.127)\n",
            "Requirement already satisfied: triton==3.1.0 in /usr/local/lib/python3.11/dist-packages (from torch>=1.11.0->sentence-transformers) (3.1.0)\n",
            "Requirement already satisfied: sympy==1.13.1 in /usr/local/lib/python3.11/dist-packages (from torch>=1.11.0->sentence-transformers) (1.13.1)\n",
            "Requirement already satisfied: mpmath<1.4,>=1.1.0 in /usr/local/lib/python3.11/dist-packages (from sympy==1.13.1->torch>=1.11.0->sentence-transformers) (1.3.0)\n",
            "Requirement already satisfied: numpy>=1.17 in /usr/local/lib/python3.11/dist-packages (from transformers<5.0.0,>=4.41.0->sentence-transformers) (1.26.4)\n",
            "Requirement already satisfied: regex!=2019.12.17 in /usr/local/lib/python3.11/dist-packages (from transformers<5.0.0,>=4.41.0->sentence-transformers) (2024.11.6)\n",
            "Requirement already satisfied: tokenizers<0.22,>=0.21 in /usr/local/lib/python3.11/dist-packages (from transformers<5.0.0,>=4.41.0->sentence-transformers) (0.21.0)\n",
            "Requirement already satisfied: safetensors>=0.4.1 in /usr/local/lib/python3.11/dist-packages (from transformers<5.0.0,>=4.41.0->sentence-transformers) (0.5.2)\n",
            "Requirement already satisfied: joblib>=1.2.0 in /usr/local/lib/python3.11/dist-packages (from scikit-learn->sentence-transformers) (1.4.2)\n",
            "Requirement already satisfied: threadpoolctl>=3.1.0 in /usr/local/lib/python3.11/dist-packages (from scikit-learn->sentence-transformers) (3.5.0)\n",
            "Requirement already satisfied: MarkupSafe>=2.0 in /usr/local/lib/python3.11/dist-packages (from jinja2->torch>=1.11.0->sentence-transformers) (3.0.2)\n",
            "Requirement already satisfied: charset-normalizer<4,>=2 in /usr/local/lib/python3.11/dist-packages (from requests->huggingface-hub>=0.20.0->sentence-transformers) (3.4.1)\n",
            "Requirement already satisfied: idna<4,>=2.5 in /usr/local/lib/python3.11/dist-packages (from requests->huggingface-hub>=0.20.0->sentence-transformers) (3.10)\n",
            "Requirement already satisfied: urllib3<3,>=1.21.1 in /usr/local/lib/python3.11/dist-packages (from requests->huggingface-hub>=0.20.0->sentence-transformers) (2.3.0)\n",
            "Requirement already satisfied: certifi>=2017.4.17 in /usr/local/lib/python3.11/dist-packages (from requests->huggingface-hub>=0.20.0->sentence-transformers) (2024.12.14)\n"
          ]
        }
      ],
      "source": [
        "!pip install -U sentence-transformers"
      ]
    },
    {
      "cell_type": "code",
      "execution_count": 156,
      "metadata": {
        "id": "65SHDdt29v_S",
        "collapsed": true
      },
      "outputs": [],
      "source": [
        "from sentence_transformers import SentenceTransformer\n",
        "\n",
        "model = SentenceTransformer(\"all-MiniLM-L6-v2\")\n",
        "\n",
        "embeddings = model.encode(combined_text_list)"
      ]
    },
    {
      "cell_type": "code",
      "execution_count": 157,
      "metadata": {
        "colab": {
          "base_uri": "https://localhost:8080/"
        },
        "id": "3bLWs2NeB_J2",
        "outputId": "b40da4e4-b8c8-46d6-8fd3-bcf487508903"
      },
      "outputs": [
        {
          "output_type": "execute_result",
          "data": {
            "text/plain": [
              "768000"
            ]
          },
          "metadata": {},
          "execution_count": 157
        }
      ],
      "source": [
        "embeddings.size"
      ]
    },
    {
      "cell_type": "code",
      "execution_count": 158,
      "metadata": {
        "colab": {
          "base_uri": "https://localhost:8080/"
        },
        "id": "KBD9F_8TCBJE",
        "outputId": "38244195-6f61-42e0-8e2e-a70e4c9bd6ab"
      },
      "outputs": [
        {
          "output_type": "execute_result",
          "data": {
            "text/plain": [
              "numpy.ndarray"
            ]
          },
          "metadata": {},
          "execution_count": 158
        }
      ],
      "source": [
        "type(embeddings)"
      ]
    },
    {
      "cell_type": "code",
      "execution_count": 159,
      "metadata": {
        "id": "pE9CjE77QQRb",
        "collapsed": true
      },
      "outputs": [],
      "source": [
        "# combined_text_list[0]"
      ]
    },
    {
      "cell_type": "code",
      "execution_count": 160,
      "metadata": {
        "collapsed": true,
        "id": "KZp0Er3-IU9H"
      },
      "outputs": [],
      "source": [
        "# embeddings[0]"
      ]
    },
    {
      "cell_type": "code",
      "execution_count": 161,
      "metadata": {
        "colab": {
          "base_uri": "https://localhost:8080/"
        },
        "id": "GAJNV8UzQNGm",
        "outputId": "2e945615-51c8-4df1-bdbc-3e3579d290a5"
      },
      "outputs": [
        {
          "output_type": "execute_result",
          "data": {
            "text/plain": [
              "384"
            ]
          },
          "metadata": {},
          "execution_count": 161
        }
      ],
      "source": [
        "len(embeddings[0])"
      ]
    },
    {
      "cell_type": "markdown",
      "metadata": {
        "id": "3A_7fjKfYAHk"
      },
      "source": [
        "\n",
        "\n",
        "---\n",
        "\n",
        "\n",
        "\n",
        "> **iv. Inserting this embedding into our original df__ in its format**\n",
        "\n",
        "---\n",
        "\n",
        "\n",
        "\n",
        "\n"
      ]
    },
    {
      "cell_type": "markdown",
      "metadata": {
        "id": "FpM6nSTiaAPW"
      },
      "source": [
        "creating same format(dataframe) of embedding vector of orig df **bold text** **bold text**"
      ]
    },
    {
      "cell_type": "code",
      "execution_count": 162,
      "metadata": {
        "id": "q0nKMDOEXTAT"
      },
      "outputs": [],
      "source": [
        "features_col_names = [f'embedding_{i}' for i in range(len(embeddings[0]))]"
      ]
    },
    {
      "cell_type": "code",
      "execution_count": 163,
      "metadata": {
        "collapsed": true,
        "id": "pkCpx51WXryI"
      },
      "outputs": [],
      "source": [
        "# features_col_names"
      ]
    },
    {
      "cell_type": "code",
      "execution_count": 164,
      "metadata": {
        "colab": {
          "base_uri": "https://localhost:8080/"
        },
        "collapsed": true,
        "id": "_G_EJJQ2XuGX",
        "outputId": "6c4cba2a-0152-4056-e71f-03604910631a"
      },
      "outputs": [
        {
          "output_type": "stream",
          "name": "stderr",
          "text": [
            "Exception ignored in: <function JavaWrapper.__del__ at 0x7ba89c0a2fc0>\n",
            "Traceback (most recent call last):\n",
            "  File \"/usr/local/lib/python3.11/dist-packages/pyspark/ml/wrapper.py\", line 53, in __del__\n",
            "    if SparkContext._active_spark_context and self._java_obj is not None:\n",
            "                                              ^^^^^^^^^^^^^^\n",
            "AttributeError: 'PCA' object has no attribute '_java_obj'\n"
          ]
        }
      ],
      "source": [
        "embedding_df = spark.createDataFrame(embeddings, schema = features_col_names)\n",
        "# embedding_df.show()"
      ]
    },
    {
      "cell_type": "markdown",
      "metadata": {
        "id": "ULZ7l1mMa8l9"
      },
      "source": [
        "add a unique cols to both \" embedding_df and orig df \" on basis of which we join"
      ]
    },
    {
      "cell_type": "code",
      "execution_count": 165,
      "metadata": {
        "id": "QQwvQdGKax6y"
      },
      "outputs": [],
      "source": [
        "embedding_df = embedding_df.repartition(1).withColumn('uniq_row',F.monotonically_increasing_id())\n",
        "df = df.repartition(1).withColumn('uniq_row',F.monotonically_increasing_id())"
      ]
    },
    {
      "cell_type": "code",
      "execution_count": 166,
      "metadata": {
        "collapsed": true,
        "id": "c9d9eMW3cboO"
      },
      "outputs": [],
      "source": [
        "# embedding_df.show()"
      ]
    },
    {
      "cell_type": "code",
      "execution_count": 167,
      "metadata": {
        "collapsed": true,
        "id": "aGpQMEFOcemj"
      },
      "outputs": [],
      "source": [
        "# df.show()"
      ]
    },
    {
      "cell_type": "code",
      "execution_count": 168,
      "metadata": {
        "id": "JaQuumYAcgg-",
        "collapsed": true
      },
      "outputs": [],
      "source": [
        "df = df.join(embedding_df, on = 'uniq_row',how=\"inner\").drop('uniq_row')\n",
        "# df.show()"
      ]
    },
    {
      "cell_type": "code",
      "execution_count": 168,
      "metadata": {
        "id": "2AsMrZ8_c1qK"
      },
      "outputs": [],
      "source": []
    },
    {
      "cell_type": "markdown",
      "metadata": {
        "id": "61H2D2eTdHW2"
      },
      "source": [
        "# TASK 3 Cluster products using kmeans"
      ]
    },
    {
      "cell_type": "markdown",
      "metadata": {
        "id": "de3OzHfhfcq5"
      },
      "source": [
        "\n",
        "\n",
        "---\n",
        "\n",
        "\n",
        "\n",
        ">  **i.** **Assemble** **all \"embedding cols\" into one \"feature\" col**\n",
        "\n",
        "---\n",
        "\n",
        "\n",
        "\n",
        "\n"
      ]
    },
    {
      "cell_type": "code",
      "execution_count": 169,
      "metadata": {
        "id": "RoHYALz5fbEd"
      },
      "outputs": [],
      "source": [
        "# as the data in clusters of spark,___so need of spark Assembler to assembler them in clusters\n",
        "from pyspark.ml.feature import VectorAssembler\n",
        "\n",
        "# create instance by telling what to do(in its format)\n",
        "assembler = VectorAssembler(inputCols = features_col_names, outputCol = 'features')\n",
        "\n",
        "# apply instance on our df\n",
        "assembler_df = assembler.transform(df)"
      ]
    },
    {
      "cell_type": "code",
      "execution_count": 170,
      "metadata": {
        "collapsed": true,
        "id": "xKEz_HwCgU0H"
      },
      "outputs": [],
      "source": [
        "# assembler_df.show()"
      ]
    },
    {
      "cell_type": "code",
      "execution_count": 171,
      "metadata": {
        "colab": {
          "base_uri": "https://localhost:8080/"
        },
        "id": "IUw0_6ASgWax",
        "outputId": "1bbcad5e-67ba-44f6-8641-2e8f7f888e06"
      },
      "outputs": [
        {
          "output_type": "stream",
          "name": "stdout",
          "text": [
            "+----------+--------------------+--------------------+--------------------+--------------------+\n",
            "|product_id|               title|         description|       combined_text|            features|\n",
            "+----------+--------------------+--------------------+--------------------+--------------------+\n",
            "|        P0|Men's 3X Large Ca...|This heavyweight,...|Men's 3X Large Ca...|[-0.0383772663772...|\n",
            "|        P1|Turmode 30 ft. RP...|If you need more ...|Turmode 30 ft. RP...|[-0.1224228292703...|\n",
            "|        P2|Large Tapestry Bo...|Polyester cover r...|Large Tapestry Bo...|[-0.0017703186022...|\n",
            "|        P3|16-Gauge-Sinks Ve...|It features a rec...|16-Gauge-Sinks Ve...|[-0.0025794846005...|\n",
            "|        P4|Men's Crazy Horse...|This 9 in. black ...|Men's Crazy Horse...|[-0.0597802437841...|\n",
            "|        P5|Mariana 6 ft. Mul...|With robust struc...|Mariana 6 ft. Mul...|[-0.0525395274162...|\n",
            "|        P6|5 gal. #650C-2 Po...|BEHR PRO i300 Sem...|5 gal. #650C-2 Po...|[-0.0842302292585...|\n",
            "|        P7|7/8 in. x 4-1/2 i...|DEWALT High Perfo...|7/8 in. x 4-1/2 i...|[-0.1191974803805...|\n",
            "|        P8|  Ring Gold Bar Cart|This Ring Bar Car...|Ring Gold Bar Car...|[0.00208060559816...|\n",
            "|        P9|Traditional Silve...|This transitional...|Traditional Silve...|[-0.0049049500375...|\n",
            "|       P10|15 in. x 59 in. O...|Its easy to add a...|15 in. x 59 in. O...|[-0.0489380694925...|\n",
            "|       P11|1 qt. #350F-7 Wil...|BEHR PREMIUM PLUS...|1 qt. #350F-7 Wil...|[-0.0015745830023...|\n",
            "|       P12|Anthracite Cordle...|BlindsAvenue ligh...|Anthracite Cordle...|[0.00393409794196...|\n",
            "|       P13|SlimGrip 78-Inch ...|Luverne SlimGrip ...|SlimGrip 78-Inch ...|[-0.0663640722632...|\n",
            "|       P14|6 in. x 28 in. x ...|Our Rustic Collec...|6 in. x 28 in. x ...|[-0.0315623171627...|\n",
            "|       P15|Espresso Cordless...|\"The 2-1/2 in. Co...|Espresso Cordless...|[0.00899268966168...|\n",
            "|       P16|5 gal. #BL-W10 Ma...|BEHR PREMIUM PLUS...|5 gal. #BL-W10 Ma...|[-0.0677598193287...|\n",
            "|       P17|Eleyn 26 in. Indo...|This lighted chro...|Eleyn 26 in. Indo...|[0.00664192484691...|\n",
            "|       P18|1 qt. #M400-5 Bab...|BEHR PREMIUM PLUS...|1 qt. #M400-5 Bab...|[-0.1190816760063...|\n",
            "|       P19|10 in. x 4 in. x ...|Our faux wood bea...|10 in. x 4 in. x ...|[0.04962051287293...|\n",
            "+----------+--------------------+--------------------+--------------------+--------------------+\n",
            "only showing top 20 rows\n",
            "\n"
          ]
        }
      ],
      "source": [
        "assembler_df = assembler_df.select('product_id','title','description','combined_text','features')\n",
        "assembler_df.show()"
      ]
    },
    {
      "cell_type": "markdown",
      "metadata": {
        "id": "IC7J-wuZiWgs"
      },
      "source": [
        "\n",
        "\n",
        "---\n",
        "\n",
        "\n",
        "\n",
        "> **ii. Applying k-means clustering**\n",
        "\n",
        "---\n",
        "\n",
        "\n",
        "\n",
        "\n"
      ]
    },
    {
      "cell_type": "markdown",
      "metadata": {
        "id": "jXbC2QLNoGyR"
      },
      "source": [
        "Elbow method--> checking how many clusters neededd"
      ]
    },
    {
      "cell_type": "code",
      "execution_count": 172,
      "metadata": {
        "colab": {
          "base_uri": "https://localhost:8080/",
          "height": 0
        },
        "id": "bT-63sRllmUb",
        "outputId": "ce858408-0349-418d-91bf-2d3b3c693f8c"
      },
      "outputs": [
        {
          "output_type": "display_data",
          "data": {
            "text/plain": [
              "<Figure size 800x500 with 1 Axes>"
            ],
            "image/png": "[encoded data removed]"
          },
          "metadata": {}
        }
      ],
      "source": [
        "from pyspark.ml.clustering import KMeans\n",
        "import matplotlib.pyplot as plt\n",
        "import seaborn as sns\n",
        "\n",
        "x_df = assembler_df.select(\"features\")\n",
        "\n",
        "wcss = []  # Store cost for each K value\n",
        "\n",
        "for k in range(2, 11):  # Try different values of K from 2 to 10\n",
        "    kmeans = KMeans().setK(k).setSeed(1).setFeaturesCol(\"features\")\n",
        "    model = kmeans.fit(x_df)\n",
        "    wcss.append(model.summary.trainingCost)  # Append the cost function value\n",
        "\n",
        "plt.figure(figsize=(8, 5))\n",
        "plt.plot(range(2, 11), wcss, marker=\"o\", linestyle=\"--\")\n",
        "plt.xlabel(\"Number of Clusters (K)\")\n",
        "plt.ylabel(\"WCSS (Within-Cluster Sum of Squares)\")\n",
        "plt.title(\"Elbow Method for Optimal K\")\n",
        "plt.show()\n",
        "\n"
      ]
    },
    {
      "cell_type": "code",
      "execution_count": 173,
      "metadata": {
        "id": "4i2d9TCIl_qk"
      },
      "outputs": [],
      "source": [
        "# K = 6 or 7 seems to be the best choice since the rate of decrease slows down significantly after this point.\n",
        "# There's no very sharp elbow, but around K=6 or K=7, the WCSS reduction flattens."
      ]
    },
    {
      "cell_type": "markdown",
      "metadata": {
        "id": "I5d6FkXMo3GF"
      },
      "source": [
        "Silhouette_score--> for verifying , high score is best"
      ]
    },
    {
      "cell_type": "code",
      "execution_count": 174,
      "metadata": {
        "colab": {
          "base_uri": "https://localhost:8080/",
          "height": 0
        },
        "id": "_KKHheHvn0J5",
        "outputId": "8c832c7a-ffda-422f-a1c2-22dba1b1dd40"
      },
      "outputs": [
        {
          "output_type": "display_data",
          "data": {
            "text/plain": [
              "<Figure size 800x500 with 1 Axes>"
            ],
            "image/png": "[encoded data removed]"
          },
          "metadata": {}
        }
      ],
      "source": [
        "from pyspark.ml.evaluation import ClusteringEvaluator\n",
        "\n",
        "evaluator = ClusteringEvaluator()\n",
        "\n",
        "silhouette_scores = []\n",
        "\n",
        "for k in range(2, 11):\n",
        "    kmeans = KMeans().setK(k).setSeed(1).setFeaturesCol(\"features\")\n",
        "    model = kmeans.fit(x_df)\n",
        "    predictions = model.transform(x_df)\n",
        "    silhouette = evaluator.evaluate(predictions)\n",
        "    silhouette_scores.append(silhouette)\n",
        "\n",
        "# Plot Silhouette Scores\n",
        "plt.figure(figsize=(8, 5))\n",
        "plt.plot(range(2, 11), silhouette_scores, marker=\"o\", linestyle=\"--\", color=\"red\")\n",
        "plt.xlabel(\"Number of Clusters (K)\")\n",
        "plt.ylabel(\"Silhouette Score\")\n",
        "plt.title(\"Silhouette Score for Different K\")\n",
        "plt.show()\n"
      ]
    },
    {
      "cell_type": "markdown",
      "metadata": {
        "id": "lbEXcMGdo0_3"
      },
      "source": [
        "\n",
        "\n",
        "1.   so, we can see \" **in elbow 6 is flat**\n",
        "2.   **in silhte 6,8 is also high** \"\n",
        "3.   we will use ------>  ** 6 **\n",
        "\n"
      ]
    },
    {
      "cell_type": "code",
      "source": [
        "# create instance by feeding all details\n",
        "kmeans = KMeans(k=6, featuresCol = 'features' , predictionCol = 'cluster')\n",
        "\n",
        "model = kmeans.fit(assembler_df)\n",
        "clustered_data = model.transform(assembler_df)\n",
        "clustered_data.show()"
      ],
      "metadata": {
        "colab": {
          "base_uri": "https://localhost:8080/"
        },
        "id": "YNc2DAd4R-j1",
        "outputId": "4658b226-9af7-4eeb-fef8-475e61228432"
      },
      "execution_count": 175,
      "outputs": [
        {
          "output_type": "stream",
          "name": "stdout",
          "text": [
            "+----------+--------------------+--------------------+--------------------+--------------------+-------+\n",
            "|product_id|               title|         description|       combined_text|            features|cluster|\n",
            "+----------+--------------------+--------------------+--------------------+--------------------+-------+\n",
            "|        P0|Men's 3X Large Ca...|This heavyweight,...|Men's 3X Large Ca...|[-0.0383772663772...|      4|\n",
            "|        P1|Turmode 30 ft. RP...|If you need more ...|Turmode 30 ft. RP...|[-0.1224228292703...|      5|\n",
            "|        P2|Large Tapestry Bo...|Polyester cover r...|Large Tapestry Bo...|[-0.0017703186022...|      4|\n",
            "|        P3|16-Gauge-Sinks Ve...|It features a rec...|16-Gauge-Sinks Ve...|[-0.0025794846005...|      3|\n",
            "|        P4|Men's Crazy Horse...|This 9 in. black ...|Men's Crazy Horse...|[-0.0597802437841...|      5|\n",
            "|        P5|Mariana 6 ft. Mul...|With robust struc...|Mariana 6 ft. Mul...|[-0.0525395274162...|      4|\n",
            "|        P6|5 gal. #650C-2 Po...|BEHR PRO i300 Sem...|5 gal. #650C-2 Po...|[-0.0842302292585...|      1|\n",
            "|        P7|7/8 in. x 4-1/2 i...|DEWALT High Perfo...|7/8 in. x 4-1/2 i...|[-0.1191974803805...|      5|\n",
            "|        P8|  Ring Gold Bar Cart|This Ring Bar Car...|Ring Gold Bar Car...|[0.00208060559816...|      3|\n",
            "|        P9|Traditional Silve...|This transitional...|Traditional Silve...|[-0.0049049500375...|      3|\n",
            "|       P10|15 in. x 59 in. O...|Its easy to add a...|15 in. x 59 in. O...|[-0.0489380694925...|      0|\n",
            "|       P11|1 qt. #350F-7 Wil...|BEHR PREMIUM PLUS...|1 qt. #350F-7 Wil...|[-0.0015745830023...|      1|\n",
            "|       P12|Anthracite Cordle...|BlindsAvenue ligh...|Anthracite Cordle...|[0.00393409794196...|      4|\n",
            "|       P13|SlimGrip 78-Inch ...|Luverne SlimGrip ...|SlimGrip 78-Inch ...|[-0.0663640722632...|      5|\n",
            "|       P14|6 in. x 28 in. x ...|Our Rustic Collec...|6 in. x 28 in. x ...|[-0.0315623171627...|      0|\n",
            "|       P15|Espresso Cordless...|\"The 2-1/2 in. Co...|Espresso Cordless...|[0.00899268966168...|      4|\n",
            "|       P16|5 gal. #BL-W10 Ma...|BEHR PREMIUM PLUS...|5 gal. #BL-W10 Ma...|[-0.0677598193287...|      1|\n",
            "|       P17|Eleyn 26 in. Indo...|This lighted chro...|Eleyn 26 in. Indo...|[0.00664192484691...|      4|\n",
            "|       P18|1 qt. #M400-5 Bab...|BEHR PREMIUM PLUS...|1 qt. #M400-5 Bab...|[-0.1190816760063...|      1|\n",
            "|       P19|10 in. x 4 in. x ...|Our faux wood bea...|10 in. x 4 in. x ...|[0.04962051287293...|      0|\n",
            "+----------+--------------------+--------------------+--------------------+--------------------+-------+\n",
            "only showing top 20 rows\n",
            "\n"
          ]
        }
      ]
    },
    {
      "cell_type": "code",
      "source": [],
      "metadata": {
        "id": "BMGPkeg0T2yv"
      },
      "execution_count": 175,
      "outputs": []
    },
    {
      "cell_type": "markdown",
      "source": [
        "# TASK 4 Visulaize Product clusters"
      ],
      "metadata": {
        "id": "yVbRqm5zHhb2"
      }
    },
    {
      "cell_type": "markdown",
      "source": [
        "\n",
        "\n",
        "\n",
        "---\n",
        "\n",
        "\n",
        "\n",
        "1.  each combined_text have 384 embeddings(dimensions) i.e combined_test[0]--> have [0,1,2,....384]\n",
        "\n",
        "2.  so its hard to visualize 384 dims\n",
        "3.  we use PCA to visualize \" 384-D \" -->  \" 2-D \" , Just like in a transparent box 384 balls are in air (384-D), we are seeing only the front of box (2-D)\n",
        "\n",
        "\n",
        "\n",
        "---\n",
        "\n"
      ],
      "metadata": {
        "id": "_dzAv7doIvY3"
      }
    },
    {
      "cell_type": "code",
      "source": [
        "from pyspark.ml.feature import PCA\n",
        "\n",
        "#Create instance of PCA by feeding details\n",
        "pca = PCA(k=2,inputCol='features',outputCol='pca_features')\n",
        "pca_model = pca.fit(clustered_data)\n",
        "pca_results = pca_model.transform(clustered_data)"
      ],
      "metadata": {
        "id": "6KBAxNBuHzbf"
      },
      "execution_count": 176,
      "outputs": []
    },
    {
      "cell_type": "code",
      "source": [
        "pca_results.show()"
      ],
      "metadata": {
        "colab": {
          "base_uri": "https://localhost:8080/"
        },
        "id": "vJlltF9MMERp",
        "outputId": "341e01a0-619f-4c1a-871b-d8edb6c41e38"
      },
      "execution_count": 177,
      "outputs": [
        {
          "output_type": "stream",
          "name": "stdout",
          "text": [
            "+----------+--------------------+--------------------+--------------------+--------------------+-------+--------------------+\n",
            "|product_id|               title|         description|       combined_text|            features|cluster|        pca_features|\n",
            "+----------+--------------------+--------------------+--------------------+--------------------+-------+--------------------+\n",
            "|        P0|Men's 3X Large Ca...|This heavyweight,...|Men's 3X Large Ca...|[-0.0383772663772...|      4|[0.12740703879622...|\n",
            "|        P1|Turmode 30 ft. RP...|If you need more ...|Turmode 30 ft. RP...|[-0.1224228292703...|      5|[-0.0203798803551...|\n",
            "|        P2|Large Tapestry Bo...|Polyester cover r...|Large Tapestry Bo...|[-0.0017703186022...|      4|[0.14052453726172...|\n",
            "|        P3|16-Gauge-Sinks Ve...|It features a rec...|16-Gauge-Sinks Ve...|[-0.0025794846005...|      3|[0.01844509610692...|\n",
            "|        P4|Men's Crazy Horse...|This 9 in. black ...|Men's Crazy Horse...|[-0.0597802437841...|      5|[-0.1275817924879...|\n",
            "|        P5|Mariana 6 ft. Mul...|With robust struc...|Mariana 6 ft. Mul...|[-0.0525395274162...|      4|[0.07207475187808...|\n",
            "|        P6|5 gal. #650C-2 Po...|BEHR PRO i300 Sem...|5 gal. #650C-2 Po...|[-0.0842302292585...|      1|[0.63678989496828...|\n",
            "|        P7|7/8 in. x 4-1/2 i...|DEWALT High Perfo...|7/8 in. x 4-1/2 i...|[-0.1191974803805...|      5|[-0.1320974903609...|\n",
            "|        P8|  Ring Gold Bar Cart|This Ring Bar Car...|Ring Gold Bar Car...|[0.00208060559816...|      3|[0.02194080037830...|\n",
            "|        P9|Traditional Silve...|This transitional...|Traditional Silve...|[-0.0049049500375...|      3|[-0.0807868898657...|\n",
            "|       P10|15 in. x 59 in. O...|Its easy to add a...|15 in. x 59 in. O...|[-0.0489380694925...|      0|[0.06906931829124...|\n",
            "|       P11|1 qt. #350F-7 Wil...|BEHR PREMIUM PLUS...|1 qt. #350F-7 Wil...|[-0.0015745830023...|      1|[0.70437327552053...|\n",
            "|       P12|Anthracite Cordle...|BlindsAvenue ligh...|Anthracite Cordle...|[0.00393409794196...|      4|[5.39144362393342...|\n",
            "|       P13|SlimGrip 78-Inch ...|Luverne SlimGrip ...|SlimGrip 78-Inch ...|[-0.0663640722632...|      5|[0.00968767554828...|\n",
            "|       P14|6 in. x 28 in. x ...|Our Rustic Collec...|6 in. x 28 in. x ...|[-0.0315623171627...|      0|[-0.1121480691888...|\n",
            "|       P15|Espresso Cordless...|\"The 2-1/2 in. Co...|Espresso Cordless...|[0.00899268966168...|      4|[-0.0131750921095...|\n",
            "|       P16|5 gal. #BL-W10 Ma...|BEHR PREMIUM PLUS...|5 gal. #BL-W10 Ma...|[-0.0677598193287...|      1|[0.68644726604980...|\n",
            "|       P17|Eleyn 26 in. Indo...|This lighted chro...|Eleyn 26 in. Indo...|[0.00664192484691...|      4|[-0.0782886376969...|\n",
            "|       P18|1 qt. #M400-5 Bab...|BEHR PREMIUM PLUS...|1 qt. #M400-5 Bab...|[-0.1190816760063...|      1|[0.72594936940944...|\n",
            "|       P19|10 in. x 4 in. x ...|Our faux wood bea...|10 in. x 4 in. x ...|[0.04962051287293...|      0|[0.02448518757639...|\n",
            "+----------+--------------------+--------------------+--------------------+--------------------+-------+--------------------+\n",
            "only showing top 20 rows\n",
            "\n"
          ]
        }
      ]
    },
    {
      "cell_type": "markdown",
      "source": [
        "\n",
        "\n",
        "*  \n",
        "\n",
        "---\n",
        "\n",
        "\n",
        "\n",
        ">  extract x and y dims from pca_features--->to visualize\n",
        "\n",
        "\n",
        "\n",
        "---\n",
        "\n",
        "\n",
        "\n",
        "*  \n",
        "\n",
        "\n",
        "\n",
        "\n",
        "\n",
        "\n",
        "\n"
      ],
      "metadata": {
        "id": "fLPXCuKhNgcY"
      }
    },
    {
      "cell_type": "code",
      "source": [
        "pca_df = pca_results.select('product_id','pca_features','cluster').toPandas()"
      ],
      "metadata": {
        "id": "g5ybTogpMern"
      },
      "execution_count": 178,
      "outputs": []
    },
    {
      "cell_type": "code",
      "source": [
        "pca_df"
      ],
      "metadata": {
        "colab": {
          "base_uri": "https://localhost:8080/",
          "height": 0
        },
        "id": "W-LaGppFOKrj",
        "outputId": "991fcea6-65ac-4a2d-8be7-dc65486ae2fc"
      },
      "execution_count": 179,
      "outputs": [
        {
          "output_type": "execute_result",
          "data": {
            "text/plain": [
              "     product_id                                  pca_features  cluster\n",
              "0            P0    [0.12740703879622128, -0.2523959724462838]        4\n",
              "1            P1  [-0.020379880355162725, 0.05625480408216055]        5\n",
              "2            P2   [0.14052453726172104, -0.42073465495339996]        4\n",
              "3            P3   [0.018445096106929425, 0.10625132822865278]        3\n",
              "4            P4  [-0.12758179248791296, -0.16205148593212293]        5\n",
              "...         ...                                           ...      ...\n",
              "1995      P1995    [0.15589462303484147, -0.3038291678660307]        4\n",
              "1996      P1996     [0.1396634199790696, -0.6296858889845355]        2\n",
              "1997      P1997    [0.04534142615216209, -0.2560111974811752]        0\n",
              "1998      P1998    [0.6561779931531204, -0.04634203307049945]        1\n",
              "1999      P1999   [0.017766770804152072, -0.6780477648764023]        2\n",
              "\n",
              "[2000 rows x 3 columns]"
            ],
            "text/html": [
              "\n",
              "  <div id=\"df-85ff681c-df8a-48bc-8811-3f15ff1c02a9\" class=\"colab-df-container\">\n",
              "    <div>\n",
              "<style scoped>\n",
              "    .dataframe tbody tr th:only-of-type {\n",
              "        vertical-align: middle;\n",
              "    }\n",
              "\n",
              "    .dataframe tbody tr th {\n",
              "        vertical-align: top;\n",
              "    }\n",
              "\n",
              "    .dataframe thead th {\n",
              "        text-align: right;\n",
              "    }\n",
              "</style>\n",
              "<table border=\"1\" class=\"dataframe\">\n",
              "  <thead>\n",
              "    <tr style=\"text-align: right;\">\n",
              "      <th></th>\n",
              "      <th>product_id</th>\n",
              "      <th>pca_features</th>\n",
              "      <th>cluster</th>\n",
              "    </tr>\n",
              "  </thead>\n",
              "  <tbody>\n",
              "    <tr>\n",
              "      <th>0</th>\n",
              "      <td>P0</td>\n",
              "      <td>[0.12740703879622128, -0.2523959724462838]</td>\n",
              "      <td>4</td>\n",
              "    </tr>\n",
              "    <tr>\n",
              "      <th>1</th>\n",
              "      <td>P1</td>\n",
              "      <td>[-0.020379880355162725, 0.05625480408216055]</td>\n",
              "      <td>5</td>\n",
              "    </tr>\n",
              "    <tr>\n",
              "      <th>2</th>\n",
              "      <td>P2</td>\n",
              "      <td>[0.14052453726172104, -0.42073465495339996]</td>\n",
              "      <td>4</td>\n",
              "    </tr>\n",
              "    <tr>\n",
              "      <th>3</th>\n",
              "      <td>P3</td>\n",
              "      <td>[0.018445096106929425, 0.10625132822865278]</td>\n",
              "      <td>3</td>\n",
              "    </tr>\n",
              "    <tr>\n",
              "      <th>4</th>\n",
              "      <td>P4</td>\n",
              "      <td>[-0.12758179248791296, -0.16205148593212293]</td>\n",
              "      <td>5</td>\n",
              "    </tr>\n",
              "    <tr>\n",
              "      <th>...</th>\n",
              "      <td>...</td>\n",
              "      <td>...</td>\n",
              "      <td>...</td>\n",
              "    </tr>\n",
              "    <tr>\n",
              "      <th>1995</th>\n",
              "      <td>P1995</td>\n",
              "      <td>[0.15589462303484147, -0.3038291678660307]</td>\n",
              "      <td>4</td>\n",
              "    </tr>\n",
              "    <tr>\n",
              "      <th>1996</th>\n",
              "      <td>P1996</td>\n",
              "      <td>[0.1396634199790696, -0.6296858889845355]</td>\n",
              "      <td>2</td>\n",
              "    </tr>\n",
              "    <tr>\n",
              "      <th>1997</th>\n",
              "      <td>P1997</td>\n",
              "      <td>[0.04534142615216209, -0.2560111974811752]</td>\n",
              "      <td>0</td>\n",
              "    </tr>\n",
              "    <tr>\n",
              "      <th>1998</th>\n",
              "      <td>P1998</td>\n",
              "      <td>[0.6561779931531204, -0.04634203307049945]</td>\n",
              "      <td>1</td>\n",
              "    </tr>\n",
              "    <tr>\n",
              "      <th>1999</th>\n",
              "      <td>P1999</td>\n",
              "      <td>[0.017766770804152072, -0.6780477648764023]</td>\n",
              "      <td>2</td>\n",
              "    </tr>\n",
              "  </tbody>\n",
              "</table>\n",
              "<p>2000 rows × 3 columns</p>\n",
              "</div>\n",
              "    <div class=\"colab-df-buttons\">\n",
              "\n",
              "  <div class=\"colab-df-container\">\n",
              "    <button class=\"colab-df-convert\" onclick=\"convertToInteractive('df-85ff681c-df8a-48bc-8811-3f15ff1c02a9')\"\n",
              "            title=\"Convert this dataframe to an interactive table.\"\n",
              "            style=\"display:none;\">\n",
              "\n",
              "  <svg xmlns=\"http://www.w3.org/2000/svg\" height=\"24px\" viewBox=\"0 -960 960 960\">\n",
              "    <path d=\"M120-120v-720h720v720H120Zm60-500h600v-160H180v160Zm220 220h160v-160H400v160Zm0 220h160v-160H400v160ZM180-400h160v-160H180v160Zm440 0h160v-160H620v160ZM180-180h160v-160H180v160Zm440 0h160v-160H620v160Z\"/>\n",
              "  </svg>\n",
              "    </button>\n",
              "\n",
              "  <style>\n",
              "    .colab-df-container {\n",
              "      display:flex;\n",
              "      gap: 12px;\n",
              "    }\n",
              "\n",
              "    .colab-df-convert {\n",
              "      background-color: #E8F0FE;\n",
              "      border: none;\n",
              "      border-radius: 50%;\n",
              "      cursor: pointer;\n",
              "      display: none;\n",
              "      fill: #1967D2;\n",
              "      height: 32px;\n",
              "      padding: 0 0 0 0;\n",
              "      width: 32px;\n",
              "    }\n",
              "\n",
              "    .colab-df-convert:hover {\n",
              "      background-color: #E2EBFA;\n",
              "      box-shadow: 0px 1px 2px rgba(60, 64, 67, 0.3), 0px 1px 3px 1px rgba(60, 64, 67, 0.15);\n",
              "      fill: #174EA6;\n",
              "    }\n",
              "\n",
              "    .colab-df-buttons div {\n",
              "      margin-bottom: 4px;\n",
              "    }\n",
              "\n",
              "    [theme=dark] .colab-df-convert {\n",
              "      background-color: #3B4455;\n",
              "      fill: #D2E3FC;\n",
              "    }\n",
              "\n",
              "    [theme=dark] .colab-df-convert:hover {\n",
              "      background-color: #434B5C;\n",
              "      box-shadow: 0px 1px 3px 1px rgba(0, 0, 0, 0.15);\n",
              "      filter: drop-shadow(0px 1px 2px rgba(0, 0, 0, 0.3));\n",
              "      fill: #FFFFFF;\n",
              "    }\n",
              "  </style>\n",
              "\n",
              "    <script>\n",
              "      const buttonEl =\n",
              "        document.querySelector('#df-85ff681c-df8a-48bc-8811-3f15ff1c02a9 button.colab-df-convert');\n",
              "      buttonEl.style.display =\n",
              "        google.colab.kernel.accessAllowed ? 'block' : 'none';\n",
              "\n",
              "      async function convertToInteractive(key) {\n",
              "        const element = document.querySelector('#df-85ff681c-df8a-48bc-8811-3f15ff1c02a9');\n",
              "        const dataTable =\n",
              "          await google.colab.kernel.invokeFunction('convertToInteractive',\n",
              "                                                    [key], {});\n",
              "        if (!dataTable) return;\n",
              "\n",
              "        const docLinkHtml = 'Like what you see? Visit the ' +\n",
              "          '<a target=\"_blank\" href=https://colab.research.google.com/notebooks/data_table.ipynb>data table notebook</a>'\n",
              "          + ' to learn more about interactive tables.';\n",
              "        element.innerHTML = '';\n",
              "        dataTable['output_type'] = 'display_data';\n",
              "        await google.colab.output.renderOutput(dataTable, element);\n",
              "        const docLink = document.createElement('div');\n",
              "        docLink.innerHTML = docLinkHtml;\n",
              "        element.appendChild(docLink);\n",
              "      }\n",
              "    </script>\n",
              "  </div>\n",
              "\n",
              "\n",
              "<div id=\"df-7fa57878-264c-4f6b-9bd7-ca932442b5b5\">\n",
              "  <button class=\"colab-df-quickchart\" onclick=\"quickchart('df-7fa57878-264c-4f6b-9bd7-ca932442b5b5')\"\n",
              "            title=\"Suggest charts\"\n",
              "            style=\"display:none;\">\n",
              "\n",
              "<svg xmlns=\"http://www.w3.org/2000/svg\" height=\"24px\"viewBox=\"0 0 24 24\"\n",
              "     width=\"24px\">\n",
              "    <g>\n",
              "        <path d=\"M19 3H5c-1.1 0-2 .9-2 2v14c0 1.1.9 2 2 2h14c1.1 0 2-.9 2-2V5c0-1.1-.9-2-2-2zM9 17H7v-7h2v7zm4 0h-2V7h2v10zm4 0h-2v-4h2v4z\"/>\n",
              "    </g>\n",
              "</svg>\n",
              "  </button>\n",
              "\n",
              "<style>\n",
              "  .colab-df-quickchart {\n",
              "      --bg-color: #E8F0FE;\n",
              "      --fill-color: #1967D2;\n",
              "      --hover-bg-color: #E2EBFA;\n",
              "      --hover-fill-color: #174EA6;\n",
              "      --disabled-fill-color: #AAA;\n",
              "      --disabled-bg-color: #DDD;\n",
              "  }\n",
              "\n",
              "  [theme=dark] .colab-df-quickchart {\n",
              "      --bg-color: #3B4455;\n",
              "      --fill-color: #D2E3FC;\n",
              "      --hover-bg-color: #434B5C;\n",
              "      --hover-fill-color: #FFFFFF;\n",
              "      --disabled-bg-color: #3B4455;\n",
              "      --disabled-fill-color: #666;\n",
              "  }\n",
              "\n",
              "  .colab-df-quickchart {\n",
              "    background-color: var(--bg-color);\n",
              "    border: none;\n",
              "    border-radius: 50%;\n",
              "    cursor: pointer;\n",
              "    display: none;\n",
              "    fill: var(--fill-color);\n",
              "    height: 32px;\n",
              "    padding: 0;\n",
              "    width: 32px;\n",
              "  }\n",
              "\n",
              "  .colab-df-quickchart:hover {\n",
              "    background-color: var(--hover-bg-color);\n",
              "    box-shadow: 0 1px 2px rgba(60, 64, 67, 0.3), 0 1px 3px 1px rgba(60, 64, 67, 0.15);\n",
              "    fill: var(--button-hover-fill-color);\n",
              "  }\n",
              "\n",
              "  .colab-df-quickchart-complete:disabled,\n",
              "  .colab-df-quickchart-complete:disabled:hover {\n",
              "    background-color: var(--disabled-bg-color);\n",
              "    fill: var(--disabled-fill-color);\n",
              "    box-shadow: none;\n",
              "  }\n",
              "\n",
              "  .colab-df-spinner {\n",
              "    border: 2px solid var(--fill-color);\n",
              "    border-color: transparent;\n",
              "    border-bottom-color: var(--fill-color);\n",
              "    animation:\n",
              "      spin 1s steps(1) infinite;\n",
              "  }\n",
              "\n",
              "  @keyframes spin {\n",
              "    0% {\n",
              "      border-color: transparent;\n",
              "      border-bottom-color: var(--fill-color);\n",
              "      border-left-color: var(--fill-color);\n",
              "    }\n",
              "    20% {\n",
              "      border-color: transparent;\n",
              "      border-left-color: var(--fill-color);\n",
              "      border-top-color: var(--fill-color);\n",
              "    }\n",
              "    30% {\n",
              "      border-color: transparent;\n",
              "      border-left-color: var(--fill-color);\n",
              "      border-top-color: var(--fill-color);\n",
              "      border-right-color: var(--fill-color);\n",
              "    }\n",
              "    40% {\n",
              "      border-color: transparent;\n",
              "      border-right-color: var(--fill-color);\n",
              "      border-top-color: var(--fill-color);\n",
              "    }\n",
              "    60% {\n",
              "      border-color: transparent;\n",
              "      border-right-color: var(--fill-color);\n",
              "    }\n",
              "    80% {\n",
              "      border-color: transparent;\n",
              "      border-right-color: var(--fill-color);\n",
              "      border-bottom-color: var(--fill-color);\n",
              "    }\n",
              "    90% {\n",
              "      border-color: transparent;\n",
              "      border-bottom-color: var(--fill-color);\n",
              "    }\n",
              "  }\n",
              "</style>\n",
              "\n",
              "  <script>\n",
              "    async function quickchart(key) {\n",
              "      const quickchartButtonEl =\n",
              "        document.querySelector('#' + key + ' button');\n",
              "      quickchartButtonEl.disabled = true;  // To prevent multiple clicks.\n",
              "      quickchartButtonEl.classList.add('colab-df-spinner');\n",
              "      try {\n",
              "        const charts = await google.colab.kernel.invokeFunction(\n",
              "            'suggestCharts', [key], {});\n",
              "      } catch (error) {\n",
              "        console.error('Error during call to suggestCharts:', error);\n",
              "      }\n",
              "      quickchartButtonEl.classList.remove('colab-df-spinner');\n",
              "      quickchartButtonEl.classList.add('colab-df-quickchart-complete');\n",
              "    }\n",
              "    (() => {\n",
              "      let quickchartButtonEl =\n",
              "        document.querySelector('#df-7fa57878-264c-4f6b-9bd7-ca932442b5b5 button');\n",
              "      quickchartButtonEl.style.display =\n",
              "        google.colab.kernel.accessAllowed ? 'block' : 'none';\n",
              "    })();\n",
              "  </script>\n",
              "</div>\n",
              "\n",
              "  <div id=\"id_2cf1dde3-3349-481f-9b9c-7424cce6dc8d\">\n",
              "    <style>\n",
              "      .colab-df-generate {\n",
              "        background-color: #E8F0FE;\n",
              "        border: none;\n",
              "        border-radius: 50%;\n",
              "        cursor: pointer;\n",
              "        display: none;\n",
              "        fill: #1967D2;\n",
              "        height: 32px;\n",
              "        padding: 0 0 0 0;\n",
              "        width: 32px;\n",
              "      }\n",
              "\n",
              "      .colab-df-generate:hover {\n",
              "        background-color: #E2EBFA;\n",
              "        box-shadow: 0px 1px 2px rgba(60, 64, 67, 0.3), 0px 1px 3px 1px rgba(60, 64, 67, 0.15);\n",
              "        fill: #174EA6;\n",
              "      }\n",
              "\n",
              "      [theme=dark] .colab-df-generate {\n",
              "        background-color: #3B4455;\n",
              "        fill: #D2E3FC;\n",
              "      }\n",
              "\n",
              "      [theme=dark] .colab-df-generate:hover {\n",
              "        background-color: #434B5C;\n",
              "        box-shadow: 0px 1px 3px 1px rgba(0, 0, 0, 0.15);\n",
              "        filter: drop-shadow(0px 1px 2px rgba(0, 0, 0, 0.3));\n",
              "        fill: #FFFFFF;\n",
              "      }\n",
              "    </style>\n",
              "    <button class=\"colab-df-generate\" onclick=\"generateWithVariable('pca_df')\"\n",
              "            title=\"Generate code using this dataframe.\"\n",
              "            style=\"display:none;\">\n",
              "\n",
              "  <svg xmlns=\"http://www.w3.org/2000/svg\" height=\"24px\"viewBox=\"0 0 24 24\"\n",
              "       width=\"24px\">\n",
              "    <path d=\"M7,19H8.4L18.45,9,17,7.55,7,17.6ZM5,21V16.75L18.45,3.32a2,2,0,0,1,2.83,0l1.4,1.43a1.91,1.91,0,0,1,.58,1.4,1.91,1.91,0,0,1-.58,1.4L9.25,21ZM18.45,9,17,7.55Zm-12,3A5.31,5.31,0,0,0,4.9,8.1,5.31,5.31,0,0,0,1,6.5,5.31,5.31,0,0,0,4.9,4.9,5.31,5.31,0,0,0,6.5,1,5.31,5.31,0,0,0,8.1,4.9,5.31,5.31,0,0,0,12,6.5,5.46,5.46,0,0,0,6.5,12Z\"/>\n",
              "  </svg>\n",
              "    </button>\n",
              "    <script>\n",
              "      (() => {\n",
              "      const buttonEl =\n",
              "        document.querySelector('#id_2cf1dde3-3349-481f-9b9c-7424cce6dc8d button.colab-df-generate');\n",
              "      buttonEl.style.display =\n",
              "        google.colab.kernel.accessAllowed ? 'block' : 'none';\n",
              "\n",
              "      buttonEl.onclick = () => {\n",
              "        google.colab.notebook.generateWithVariable('pca_df');\n",
              "      }\n",
              "      })();\n",
              "    </script>\n",
              "  </div>\n",
              "\n",
              "    </div>\n",
              "  </div>\n"
            ],
            "application/vnd.google.colaboratory.intrinsic+json": {
              "type": "dataframe",
              "variable_name": "pca_df",
              "summary": "{\n  \"name\": \"pca_df\",\n  \"rows\": 2000,\n  \"fields\": [\n    {\n      \"column\": \"product_id\",\n      \"properties\": {\n        \"dtype\": \"string\",\n        \"num_unique_values\": 2000,\n        \"samples\": [\n          \"P1860\",\n          \"P353\",\n          \"P1333\"\n        ],\n        \"semantic_type\": \"\",\n        \"description\": \"\"\n      }\n    },\n    {\n      \"column\": \"pca_features\",\n      \"properties\": {\n        \"dtype\": \"string\",\n        \"num_unique_values\": 1994,\n        \"samples\": [\n          \"[0.11719630466461264,0.02676358567515644]\",\n          \"[0.8058190750770718,-0.13840013902647458]\",\n          \"[0.4873823341998932,-0.011403823672688962]\"\n        ],\n        \"semantic_type\": \"\",\n        \"description\": \"\"\n      }\n    },\n    {\n      \"column\": \"cluster\",\n      \"properties\": {\n        \"dtype\": \"int32\",\n        \"num_unique_values\": 6,\n        \"samples\": [\n          4,\n          5,\n          2\n        ],\n        \"semantic_type\": \"\",\n        \"description\": \"\"\n      }\n    }\n  ]\n}"
            }
          },
          "metadata": {},
          "execution_count": 179
        }
      ]
    },
    {
      "cell_type": "code",
      "source": [
        "pca_df['x'] = pca_df.pca_features.apply(lambda x: x[0])\n",
        "pca_df['y'] = pca_df.pca_features.apply(lambda x: x[1])"
      ],
      "metadata": {
        "id": "AUPdMRr1OMVm"
      },
      "execution_count": 180,
      "outputs": []
    },
    {
      "cell_type": "code",
      "source": [
        "pca_df"
      ],
      "metadata": {
        "colab": {
          "base_uri": "https://localhost:8080/",
          "height": 0
        },
        "id": "unvqDveLOZ4L",
        "outputId": "e2dd6a34-14d4-4429-8460-436a1227f28a"
      },
      "execution_count": 181,
      "outputs": [
        {
          "output_type": "execute_result",
          "data": {
            "text/plain": [
              "     product_id                                  pca_features  cluster  \\\n",
              "0            P0    [0.12740703879622128, -0.2523959724462838]        4   \n",
              "1            P1  [-0.020379880355162725, 0.05625480408216055]        5   \n",
              "2            P2   [0.14052453726172104, -0.42073465495339996]        4   \n",
              "3            P3   [0.018445096106929425, 0.10625132822865278]        3   \n",
              "4            P4  [-0.12758179248791296, -0.16205148593212293]        5   \n",
              "...         ...                                           ...      ...   \n",
              "1995      P1995    [0.15589462303484147, -0.3038291678660307]        4   \n",
              "1996      P1996     [0.1396634199790696, -0.6296858889845355]        2   \n",
              "1997      P1997    [0.04534142615216209, -0.2560111974811752]        0   \n",
              "1998      P1998    [0.6561779931531204, -0.04634203307049945]        1   \n",
              "1999      P1999   [0.017766770804152072, -0.6780477648764023]        2   \n",
              "\n",
              "             x         y  \n",
              "0     0.127407 -0.252396  \n",
              "1    -0.020380  0.056255  \n",
              "2     0.140525 -0.420735  \n",
              "3     0.018445  0.106251  \n",
              "4    -0.127582 -0.162051  \n",
              "...        ...       ...  \n",
              "1995  0.155895 -0.303829  \n",
              "1996  0.139663 -0.629686  \n",
              "1997  0.045341 -0.256011  \n",
              "1998  0.656178 -0.046342  \n",
              "1999  0.017767 -0.678048  \n",
              "\n",
              "[2000 rows x 5 columns]"
            ],
            "text/html": [
              "\n",
              "  <div id=\"df-c2a10d07-a2fe-45d2-a42d-09283693d64e\" class=\"colab-df-container\">\n",
              "    <div>\n",
              "<style scoped>\n",
              "    .dataframe tbody tr th:only-of-type {\n",
              "        vertical-align: middle;\n",
              "    }\n",
              "\n",
              "    .dataframe tbody tr th {\n",
              "        vertical-align: top;\n",
              "    }\n",
              "\n",
              "    .dataframe thead th {\n",
              "        text-align: right;\n",
              "    }\n",
              "</style>\n",
              "<table border=\"1\" class=\"dataframe\">\n",
              "  <thead>\n",
              "    <tr style=\"text-align: right;\">\n",
              "      <th></th>\n",
              "      <th>product_id</th>\n",
              "      <th>pca_features</th>\n",
              "      <th>cluster</th>\n",
              "      <th>x</th>\n",
              "      <th>y</th>\n",
              "    </tr>\n",
              "  </thead>\n",
              "  <tbody>\n",
              "    <tr>\n",
              "      <th>0</th>\n",
              "      <td>P0</td>\n",
              "      <td>[0.12740703879622128, -0.2523959724462838]</td>\n",
              "      <td>4</td>\n",
              "      <td>0.127407</td>\n",
              "      <td>-0.252396</td>\n",
              "    </tr>\n",
              "    <tr>\n",
              "      <th>1</th>\n",
              "      <td>P1</td>\n",
              "      <td>[-0.020379880355162725, 0.05625480408216055]</td>\n",
              "      <td>5</td>\n",
              "      <td>-0.020380</td>\n",
              "      <td>0.056255</td>\n",
              "    </tr>\n",
              "    <tr>\n",
              "      <th>2</th>\n",
              "      <td>P2</td>\n",
              "      <td>[0.14052453726172104, -0.42073465495339996]</td>\n",
              "      <td>4</td>\n",
              "      <td>0.140525</td>\n",
              "      <td>-0.420735</td>\n",
              "    </tr>\n",
              "    <tr>\n",
              "      <th>3</th>\n",
              "      <td>P3</td>\n",
              "      <td>[0.018445096106929425, 0.10625132822865278]</td>\n",
              "      <td>3</td>\n",
              "      <td>0.018445</td>\n",
              "      <td>0.106251</td>\n",
              "    </tr>\n",
              "    <tr>\n",
              "      <th>4</th>\n",
              "      <td>P4</td>\n",
              "      <td>[-0.12758179248791296, -0.16205148593212293]</td>\n",
              "      <td>5</td>\n",
              "      <td>-0.127582</td>\n",
              "      <td>-0.162051</td>\n",
              "    </tr>\n",
              "    <tr>\n",
              "      <th>...</th>\n",
              "      <td>...</td>\n",
              "      <td>...</td>\n",
              "      <td>...</td>\n",
              "      <td>...</td>\n",
              "      <td>...</td>\n",
              "    </tr>\n",
              "    <tr>\n",
              "      <th>1995</th>\n",
              "      <td>P1995</td>\n",
              "      <td>[0.15589462303484147, -0.3038291678660307]</td>\n",
              "      <td>4</td>\n",
              "      <td>0.155895</td>\n",
              "      <td>-0.303829</td>\n",
              "    </tr>\n",
              "    <tr>\n",
              "      <th>1996</th>\n",
              "      <td>P1996</td>\n",
              "      <td>[0.1396634199790696, -0.6296858889845355]</td>\n",
              "      <td>2</td>\n",
              "      <td>0.139663</td>\n",
              "      <td>-0.629686</td>\n",
              "    </tr>\n",
              "    <tr>\n",
              "      <th>1997</th>\n",
              "      <td>P1997</td>\n",
              "      <td>[0.04534142615216209, -0.2560111974811752]</td>\n",
              "      <td>0</td>\n",
              "      <td>0.045341</td>\n",
              "      <td>-0.256011</td>\n",
              "    </tr>\n",
              "    <tr>\n",
              "      <th>1998</th>\n",
              "      <td>P1998</td>\n",
              "      <td>[0.6561779931531204, -0.04634203307049945]</td>\n",
              "      <td>1</td>\n",
              "      <td>0.656178</td>\n",
              "      <td>-0.046342</td>\n",
              "    </tr>\n",
              "    <tr>\n",
              "      <th>1999</th>\n",
              "      <td>P1999</td>\n",
              "      <td>[0.017766770804152072, -0.6780477648764023]</td>\n",
              "      <td>2</td>\n",
              "      <td>0.017767</td>\n",
              "      <td>-0.678048</td>\n",
              "    </tr>\n",
              "  </tbody>\n",
              "</table>\n",
              "<p>2000 rows × 5 columns</p>\n",
              "</div>\n",
              "    <div class=\"colab-df-buttons\">\n",
              "\n",
              "  <div class=\"colab-df-container\">\n",
              "    <button class=\"colab-df-convert\" onclick=\"convertToInteractive('df-c2a10d07-a2fe-45d2-a42d-09283693d64e')\"\n",
              "            title=\"Convert this dataframe to an interactive table.\"\n",
              "            style=\"display:none;\">\n",
              "\n",
              "  <svg xmlns=\"http://www.w3.org/2000/svg\" height=\"24px\" viewBox=\"0 -960 960 960\">\n",
              "    <path d=\"M120-120v-720h720v720H120Zm60-500h600v-160H180v160Zm220 220h160v-160H400v160Zm0 220h160v-160H400v160ZM180-400h160v-160H180v160Zm440 0h160v-160H620v160ZM180-180h160v-160H180v160Zm440 0h160v-160H620v160Z\"/>\n",
              "  </svg>\n",
              "    </button>\n",
              "\n",
              "  <style>\n",
              "    .colab-df-container {\n",
              "      display:flex;\n",
              "      gap: 12px;\n",
              "    }\n",
              "\n",
              "    .colab-df-convert {\n",
              "      background-color: #E8F0FE;\n",
              "      border: none;\n",
              "      border-radius: 50%;\n",
              "      cursor: pointer;\n",
              "      display: none;\n",
              "      fill: #1967D2;\n",
              "      height: 32px;\n",
              "      padding: 0 0 0 0;\n",
              "      width: 32px;\n",
              "    }\n",
              "\n",
              "    .colab-df-convert:hover {\n",
              "      background-color: #E2EBFA;\n",
              "      box-shadow: 0px 1px 2px rgba(60, 64, 67, 0.3), 0px 1px 3px 1px rgba(60, 64, 67, 0.15);\n",
              "      fill: #174EA6;\n",
              "    }\n",
              "\n",
              "    .colab-df-buttons div {\n",
              "      margin-bottom: 4px;\n",
              "    }\n",
              "\n",
              "    [theme=dark] .colab-df-convert {\n",
              "      background-color: #3B4455;\n",
              "      fill: #D2E3FC;\n",
              "    }\n",
              "\n",
              "    [theme=dark] .colab-df-convert:hover {\n",
              "      background-color: #434B5C;\n",
              "      box-shadow: 0px 1px 3px 1px rgba(0, 0, 0, 0.15);\n",
              "      filter: drop-shadow(0px 1px 2px rgba(0, 0, 0, 0.3));\n",
              "      fill: #FFFFFF;\n",
              "    }\n",
              "  </style>\n",
              "\n",
              "    <script>\n",
              "      const buttonEl =\n",
              "        document.querySelector('#df-c2a10d07-a2fe-45d2-a42d-09283693d64e button.colab-df-convert');\n",
              "      buttonEl.style.display =\n",
              "        google.colab.kernel.accessAllowed ? 'block' : 'none';\n",
              "\n",
              "      async function convertToInteractive(key) {\n",
              "        const element = document.querySelector('#df-c2a10d07-a2fe-45d2-a42d-09283693d64e');\n",
              "        const dataTable =\n",
              "          await google.colab.kernel.invokeFunction('convertToInteractive',\n",
              "                                                    [key], {});\n",
              "        if (!dataTable) return;\n",
              "\n",
              "        const docLinkHtml = 'Like what you see? Visit the ' +\n",
              "          '<a target=\"_blank\" href=https://colab.research.google.com/notebooks/data_table.ipynb>data table notebook</a>'\n",
              "          + ' to learn more about interactive tables.';\n",
              "        element.innerHTML = '';\n",
              "        dataTable['output_type'] = 'display_data';\n",
              "        await google.colab.output.renderOutput(dataTable, element);\n",
              "        const docLink = document.createElement('div');\n",
              "        docLink.innerHTML = docLinkHtml;\n",
              "        element.appendChild(docLink);\n",
              "      }\n",
              "    </script>\n",
              "  </div>\n",
              "\n",
              "\n",
              "<div id=\"df-9c807db2-113b-49e8-9fad-15db438bca3c\">\n",
              "  <button class=\"colab-df-quickchart\" onclick=\"quickchart('df-9c807db2-113b-49e8-9fad-15db438bca3c')\"\n",
              "            title=\"Suggest charts\"\n",
              "            style=\"display:none;\">\n",
              "\n",
              "<svg xmlns=\"http://www.w3.org/2000/svg\" height=\"24px\"viewBox=\"0 0 24 24\"\n",
              "     width=\"24px\">\n",
              "    <g>\n",
              "        <path d=\"M19 3H5c-1.1 0-2 .9-2 2v14c0 1.1.9 2 2 2h14c1.1 0 2-.9 2-2V5c0-1.1-.9-2-2-2zM9 17H7v-7h2v7zm4 0h-2V7h2v10zm4 0h-2v-4h2v4z\"/>\n",
              "    </g>\n",
              "</svg>\n",
              "  </button>\n",
              "\n",
              "<style>\n",
              "  .colab-df-quickchart {\n",
              "      --bg-color: #E8F0FE;\n",
              "      --fill-color: #1967D2;\n",
              "      --hover-bg-color: #E2EBFA;\n",
              "      --hover-fill-color: #174EA6;\n",
              "      --disabled-fill-color: #AAA;\n",
              "      --disabled-bg-color: #DDD;\n",
              "  }\n",
              "\n",
              "  [theme=dark] .colab-df-quickchart {\n",
              "      --bg-color: #3B4455;\n",
              "      --fill-color: #D2E3FC;\n",
              "      --hover-bg-color: #434B5C;\n",
              "      --hover-fill-color: #FFFFFF;\n",
              "      --disabled-bg-color: #3B4455;\n",
              "      --disabled-fill-color: #666;\n",
              "  }\n",
              "\n",
              "  .colab-df-quickchart {\n",
              "    background-color: var(--bg-color);\n",
              "    border: none;\n",
              "    border-radius: 50%;\n",
              "    cursor: pointer;\n",
              "    display: none;\n",
              "    fill: var(--fill-color);\n",
              "    height: 32px;\n",
              "    padding: 0;\n",
              "    width: 32px;\n",
              "  }\n",
              "\n",
              "  .colab-df-quickchart:hover {\n",
              "    background-color: var(--hover-bg-color);\n",
              "    box-shadow: 0 1px 2px rgba(60, 64, 67, 0.3), 0 1px 3px 1px rgba(60, 64, 67, 0.15);\n",
              "    fill: var(--button-hover-fill-color);\n",
              "  }\n",
              "\n",
              "  .colab-df-quickchart-complete:disabled,\n",
              "  .colab-df-quickchart-complete:disabled:hover {\n",
              "    background-color: var(--disabled-bg-color);\n",
              "    fill: var(--disabled-fill-color);\n",
              "    box-shadow: none;\n",
              "  }\n",
              "\n",
              "  .colab-df-spinner {\n",
              "    border: 2px solid var(--fill-color);\n",
              "    border-color: transparent;\n",
              "    border-bottom-color: var(--fill-color);\n",
              "    animation:\n",
              "      spin 1s steps(1) infinite;\n",
              "  }\n",
              "\n",
              "  @keyframes spin {\n",
              "    0% {\n",
              "      border-color: transparent;\n",
              "      border-bottom-color: var(--fill-color);\n",
              "      border-left-color: var(--fill-color);\n",
              "    }\n",
              "    20% {\n",
              "      border-color: transparent;\n",
              "      border-left-color: var(--fill-color);\n",
              "      border-top-color: var(--fill-color);\n",
              "    }\n",
              "    30% {\n",
              "      border-color: transparent;\n",
              "      border-left-color: var(--fill-color);\n",
              "      border-top-color: var(--fill-color);\n",
              "      border-right-color: var(--fill-color);\n",
              "    }\n",
              "    40% {\n",
              "      border-color: transparent;\n",
              "      border-right-color: var(--fill-color);\n",
              "      border-top-color: var(--fill-color);\n",
              "    }\n",
              "    60% {\n",
              "      border-color: transparent;\n",
              "      border-right-color: var(--fill-color);\n",
              "    }\n",
              "    80% {\n",
              "      border-color: transparent;\n",
              "      border-right-color: var(--fill-color);\n",
              "      border-bottom-color: var(--fill-color);\n",
              "    }\n",
              "    90% {\n",
              "      border-color: transparent;\n",
              "      border-bottom-color: var(--fill-color);\n",
              "    }\n",
              "  }\n",
              "</style>\n",
              "\n",
              "  <script>\n",
              "    async function quickchart(key) {\n",
              "      const quickchartButtonEl =\n",
              "        document.querySelector('#' + key + ' button');\n",
              "      quickchartButtonEl.disabled = true;  // To prevent multiple clicks.\n",
              "      quickchartButtonEl.classList.add('colab-df-spinner');\n",
              "      try {\n",
              "        const charts = await google.colab.kernel.invokeFunction(\n",
              "            'suggestCharts', [key], {});\n",
              "      } catch (error) {\n",
              "        console.error('Error during call to suggestCharts:', error);\n",
              "      }\n",
              "      quickchartButtonEl.classList.remove('colab-df-spinner');\n",
              "      quickchartButtonEl.classList.add('colab-df-quickchart-complete');\n",
              "    }\n",
              "    (() => {\n",
              "      let quickchartButtonEl =\n",
              "        document.querySelector('#df-9c807db2-113b-49e8-9fad-15db438bca3c button');\n",
              "      quickchartButtonEl.style.display =\n",
              "        google.colab.kernel.accessAllowed ? 'block' : 'none';\n",
              "    })();\n",
              "  </script>\n",
              "</div>\n",
              "\n",
              "  <div id=\"id_ff2493d3-6280-4555-b648-f361ecee0c75\">\n",
              "    <style>\n",
              "      .colab-df-generate {\n",
              "        background-color: #E8F0FE;\n",
              "        border: none;\n",
              "        border-radius: 50%;\n",
              "        cursor: pointer;\n",
              "        display: none;\n",
              "        fill: #1967D2;\n",
              "        height: 32px;\n",
              "        padding: 0 0 0 0;\n",
              "        width: 32px;\n",
              "      }\n",
              "\n",
              "      .colab-df-generate:hover {\n",
              "        background-color: #E2EBFA;\n",
              "        box-shadow: 0px 1px 2px rgba(60, 64, 67, 0.3), 0px 1px 3px 1px rgba(60, 64, 67, 0.15);\n",
              "        fill: #174EA6;\n",
              "      }\n",
              "\n",
              "      [theme=dark] .colab-df-generate {\n",
              "        background-color: #3B4455;\n",
              "        fill: #D2E3FC;\n",
              "      }\n",
              "\n",
              "      [theme=dark] .colab-df-generate:hover {\n",
              "        background-color: #434B5C;\n",
              "        box-shadow: 0px 1px 3px 1px rgba(0, 0, 0, 0.15);\n",
              "        filter: drop-shadow(0px 1px 2px rgba(0, 0, 0, 0.3));\n",
              "        fill: #FFFFFF;\n",
              "      }\n",
              "    </style>\n",
              "    <button class=\"colab-df-generate\" onclick=\"generateWithVariable('pca_df')\"\n",
              "            title=\"Generate code using this dataframe.\"\n",
              "            style=\"display:none;\">\n",
              "\n",
              "  <svg xmlns=\"http://www.w3.org/2000/svg\" height=\"24px\"viewBox=\"0 0 24 24\"\n",
              "       width=\"24px\">\n",
              "    <path d=\"M7,19H8.4L18.45,9,17,7.55,7,17.6ZM5,21V16.75L18.45,3.32a2,2,0,0,1,2.83,0l1.4,1.43a1.91,1.91,0,0,1,.58,1.4,1.91,1.91,0,0,1-.58,1.4L9.25,21ZM18.45,9,17,7.55Zm-12,3A5.31,5.31,0,0,0,4.9,8.1,5.31,5.31,0,0,0,1,6.5,5.31,5.31,0,0,0,4.9,4.9,5.31,5.31,0,0,0,6.5,1,5.31,5.31,0,0,0,8.1,4.9,5.31,5.31,0,0,0,12,6.5,5.46,5.46,0,0,0,6.5,12Z\"/>\n",
              "  </svg>\n",
              "    </button>\n",
              "    <script>\n",
              "      (() => {\n",
              "      const buttonEl =\n",
              "        document.querySelector('#id_ff2493d3-6280-4555-b648-f361ecee0c75 button.colab-df-generate');\n",
              "      buttonEl.style.display =\n",
              "        google.colab.kernel.accessAllowed ? 'block' : 'none';\n",
              "\n",
              "      buttonEl.onclick = () => {\n",
              "        google.colab.notebook.generateWithVariable('pca_df');\n",
              "      }\n",
              "      })();\n",
              "    </script>\n",
              "  </div>\n",
              "\n",
              "    </div>\n",
              "  </div>\n"
            ],
            "application/vnd.google.colaboratory.intrinsic+json": {
              "type": "dataframe",
              "variable_name": "pca_df",
              "summary": "{\n  \"name\": \"pca_df\",\n  \"rows\": 2000,\n  \"fields\": [\n    {\n      \"column\": \"product_id\",\n      \"properties\": {\n        \"dtype\": \"string\",\n        \"num_unique_values\": 2000,\n        \"samples\": [\n          \"P1860\",\n          \"P353\",\n          \"P1333\"\n        ],\n        \"semantic_type\": \"\",\n        \"description\": \"\"\n      }\n    },\n    {\n      \"column\": \"pca_features\",\n      \"properties\": {\n        \"dtype\": \"string\",\n        \"num_unique_values\": 1994,\n        \"samples\": [\n          \"[0.11719630466461264,0.02676358567515644]\",\n          \"[0.8058190750770718,-0.13840013902647458]\",\n          \"[0.4873823341998932,-0.011403823672688962]\"\n        ],\n        \"semantic_type\": \"\",\n        \"description\": \"\"\n      }\n    },\n    {\n      \"column\": \"cluster\",\n      \"properties\": {\n        \"dtype\": \"int32\",\n        \"num_unique_values\": 6,\n        \"samples\": [\n          4,\n          5,\n          2\n        ],\n        \"semantic_type\": \"\",\n        \"description\": \"\"\n      }\n    },\n    {\n      \"column\": \"x\",\n      \"properties\": {\n        \"dtype\": \"number\",\n        \"std\": 0.30134431452174565,\n        \"min\": -0.27501447362164466,\n        \"max\": 0.8330469875682622,\n        \"num_unique_values\": 1994,\n        \"samples\": [\n          0.11719630466461264,\n          0.8058190750770718,\n          0.4873823341998932\n        ],\n        \"semantic_type\": \"\",\n        \"description\": \"\"\n      }\n    },\n    {\n      \"column\": \"y\",\n      \"properties\": {\n        \"dtype\": \"number\",\n        \"std\": 0.20431963056110752,\n        \"min\": -0.7548043272522185,\n        \"max\": 0.32881486009844796,\n        \"num_unique_values\": 1994,\n        \"samples\": [\n          0.02676358567515644,\n          -0.13840013902647458,\n          -0.011403823672688962\n        ],\n        \"semantic_type\": \"\",\n        \"description\": \"\"\n      }\n    }\n  ]\n}"
            }
          },
          "metadata": {},
          "execution_count": 181
        }
      ]
    },
    {
      "cell_type": "code",
      "source": [
        "import plotly.express as px"
      ],
      "metadata": {
        "id": "r7G2w55tOuLT"
      },
      "execution_count": 182,
      "outputs": []
    },
    {
      "cell_type": "code",
      "source": [
        "def plot_clusters(pca_df, num_clusters=5):\n",
        "    \"\"\"\n",
        "    Plots a 2D visualization of clusters using Plotly Express.\n",
        "\n",
        "    Parameters:\n",
        "    - pca_df (DataFrame): A Pandas DataFrame containing columns 'x', 'y', and 'cluster'.\n",
        "      'x' and 'y' are the 2D PCA components, and 'cluster' indicates the cluster label.\n",
        "    - num_clusters (int): The number of unique clusters to display.\n",
        "    - recently_viewed_df (DataFrame, optional): DataFrame with 'x' and 'y' coordinates for recently viewed products.\n",
        "\n",
        "    This function creates an interactive scatter plot where each point is colored according to its cluster.\n",
        "    Recently viewed products are marked as black crosses if provided.\n",
        "\n",
        "    Returns:\n",
        "    - fig (Figure): The Plotly figure object for the plot.\n",
        "    \"\"\"\n",
        "\n",
        "    # Create the base cluster plot\n",
        "    fig = px.scatter(\n",
        "        pca_df,\n",
        "        x='x',\n",
        "        y='y',\n",
        "        opacity=0.6,\n",
        "        size_max=4,\n",
        "        color= pca_df.cluster.astype(str),\n",
        "        title='2D Visualization of Clusters with Recently Viewed Products',\n",
        "        labels={'x': 'PCA Component 1', 'y': 'PCA Component 2'},\n",
        "        category_orders={'cluster': list(range(num_clusters))},\n",
        "        # show the product id in the tooltip\n",
        "        hover_data={'product_id': True}\n",
        "\n",
        "    )\n",
        "\n",
        "    # Update layout to add legend title and adjust plot settings\n",
        "    fig.update_layout(legend_title_text='Clusters', legend=dict(x=1, y=1), width=600, height=500)\n",
        "\n",
        "    return fig\n",
        "\n",
        "fig = plot_clusters(pca_df)\n",
        "fig.show()"
      ],
      "metadata": {
        "colab": {
          "base_uri": "https://localhost:8080/",
          "height": 0
        },
        "id": "-k8AavqkOauA",
        "outputId": "b2ec1a9a-28b3-416f-86e0-ffe5902bfc2d"
      },
      "execution_count": 183,
      "outputs": [
        {
          "output_type": "display_data",
          "data": {
            "text/html": [
              "<html>\n",
              "<head><meta charset=\"utf-8\" /></head>\n",
              "<body>\n",
              "    <div>            <script src=\"https://cdnjs.cloudflare.com/ajax/libs/mathjax/2.7.5/MathJax.js?config=TeX-AMS-MML_SVG\"></script><script type=\"text/javascript\">if (window.MathJax && window.MathJax.Hub && window.MathJax.Hub.Config) {window.MathJax.Hub.Config({SVG: {font: \"STIX-Web\"}});}</script>                <script type=\"text/javascript\">window.PlotlyConfig = {MathJaxConfig: 'local'};</script>\n",
              "        <script charset=\"utf-8\" src=\"https://cdn.plot.ly/plotly-2.35.2.min.js\"></script>                <div id=\"7641f565-c95f-4123-945d-86b5da1a9f1d\" class=\"plotly-graph-div\" style=\"height:500px; width:600px;\"></div>            <script type=\"text/javascript\">                                    window.PLOTLYENV=window.PLOTLYENV || {};                                    if (document.getElementById(\"7641f565-c95f-4123-945d-86b5da1a9f1d\")) {                    Plotly.newPlot(                        \"7641f565-c95f-4123-945d-86b5da1a9f1d\",                        [{\"customdata\":[[\"P0\"],[\"P2\"],[\"P5\"],[\"P12\"],[\"P15\"],[\"P17\"],[\"P32\"],[\"P34\"],[\"P35\"],[\"P44\"],[\"P49\"],[\"P51\"],[\"P60\"],[\"P68\"],[\"P70\"],[\"P83\"],[\"P85\"],[\"P91\"],[\"P94\"],[\"P95\"],[\"P97\"],[\"P99\"],[\"P109\"],[\"P121\"],[\"P124\"],[\"P127\"],[\"P134\"],[\"P137\"],[\"P151\"],[\"P152\"],[\"P169\"],[\"P171\"],[\"P186\"],[\"P192\"],[\"P194\"],[\"P195\"],[\"P223\"],[\"P230\"],[\"P233\"],[\"P234\"],[\"P236\"],[\"P240\"],[\"P244\"],[\"P249\"],[\"P252\"],[\"P257\"],[\"P260\"],[\"P270\"],[\"P271\"],[\"P274\"],[\"P276\"],[\"P281\"],[\"P282\"],[\"P290\"],[\"P293\"],[\"P297\"],[\"P310\"],[\"P311\"],[\"P325\"],[\"P328\"],[\"P332\"],[\"P339\"],[\"P341\"],[\"P343\"],[\"P344\"],[\"P353\"],[\"P361\"],[\"P362\"],[\"P369\"],[\"P370\"],[\"P371\"],[\"P375\"],[\"P379\"],[\"P392\"],[\"P401\"],[\"P413\"],[\"P417\"],[\"P431\"],[\"P438\"],[\"P441\"],[\"P443\"],[\"P454\"],[\"P475\"],[\"P482\"],[\"P483\"],[\"P484\"],[\"P485\"],[\"P488\"],[\"P489\"],[\"P497\"],[\"P500\"],[\"P509\"],[\"P522\"],[\"P526\"],[\"P528\"],[\"P530\"],[\"P533\"],[\"P539\"],[\"P546\"],[\"P548\"],[\"P553\"],[\"P557\"],[\"P559\"],[\"P566\"],[\"P570\"],[\"P573\"],[\"P590\"],[\"P595\"],[\"P596\"],[\"P598\"],[\"P611\"],[\"P613\"],[\"P615\"],[\"P625\"],[\"P633\"],[\"P634\"],[\"P638\"],[\"P641\"],[\"P651\"],[\"P656\"],[\"P663\"],[\"P665\"],[\"P666\"],[\"P688\"],[\"P689\"],[\"P702\"],[\"P704\"],[\"P712\"],[\"P713\"],[\"P717\"],[\"P719\"],[\"P722\"],[\"P727\"],[\"P734\"],[\"P736\"],[\"P739\"],[\"P744\"],[\"P747\"],[\"P754\"],[\"P761\"],[\"P767\"],[\"P769\"],[\"P770\"],[\"P779\"],[\"P785\"],[\"P796\"],[\"P798\"],[\"P804\"],[\"P805\"],[\"P809\"],[\"P810\"],[\"P827\"],[\"P835\"],[\"P837\"],[\"P839\"],[\"P844\"],[\"P847\"],[\"P859\"],[\"P862\"],[\"P871\"],[\"P878\"],[\"P879\"],[\"P890\"],[\"P893\"],[\"P894\"],[\"P898\"],[\"P900\"],[\"P911\"],[\"P914\"],[\"P930\"],[\"P931\"],[\"P933\"],[\"P936\"],[\"P937\"],[\"P959\"],[\"P961\"],[\"P969\"],[\"P970\"],[\"P975\"],[\"P991\"],[\"P992\"],[\"P994\"],[\"P999\"],[\"P1012\"],[\"P1018\"],[\"P1025\"],[\"P1026\"],[\"P1027\"],[\"P1035\"],[\"P1041\"],[\"P1056\"],[\"P1057\"],[\"P1060\"],[\"P1065\"],[\"P1074\"],[\"P1085\"],[\"P1088\"],[\"P1098\"],[\"P1122\"],[\"P1126\"],[\"P1130\"],[\"P1138\"],[\"P1140\"],[\"P1151\"],[\"P1157\"],[\"P1159\"],[\"P1161\"],[\"P1162\"],[\"P1172\"],[\"P1173\"],[\"P1186\"],[\"P1188\"],[\"P1190\"],[\"P1191\"],[\"P1198\"],[\"P1202\"],[\"P1205\"],[\"P1217\"],[\"P1218\"],[\"P1221\"],[\"P1229\"],[\"P1230\"],[\"P1233\"],[\"P1234\"],[\"P1257\"],[\"P1258\"],[\"P1259\"],[\"P1262\"],[\"P1269\"],[\"P1311\"],[\"P1315\"],[\"P1316\"],[\"P1324\"],[\"P1328\"],[\"P1331\"],[\"P1332\"],[\"P1344\"],[\"P1348\"],[\"P1349\"],[\"P1355\"],[\"P1356\"],[\"P1362\"],[\"P1365\"],[\"P1373\"],[\"P1383\"],[\"P1394\"],[\"P1406\"],[\"P1419\"],[\"P1420\"],[\"P1422\"],[\"P1438\"],[\"P1453\"],[\"P1454\"],[\"P1458\"],[\"P1459\"],[\"P1462\"],[\"P1468\"],[\"P1494\"],[\"P1516\"],[\"P1518\"],[\"P1521\"],[\"P1524\"],[\"P1530\"],[\"P1538\"],[\"P1543\"],[\"P1544\"],[\"P1550\"],[\"P1559\"],[\"P1563\"],[\"P1568\"],[\"P1574\"],[\"P1575\"],[\"P1579\"],[\"P1583\"],[\"P1595\"],[\"P1616\"],[\"P1619\"],[\"P1639\"],[\"P1642\"],[\"P1643\"],[\"P1655\"],[\"P1663\"],[\"P1666\"],[\"P1673\"],[\"P1683\"],[\"P1685\"],[\"P1697\"],[\"P1703\"],[\"P1722\"],[\"P1723\"],[\"P1734\"],[\"P1745\"],[\"P1752\"],[\"P1755\"],[\"P1762\"],[\"P1766\"],[\"P1768\"],[\"P1769\"],[\"P1774\"],[\"P1781\"],[\"P1787\"],[\"P1793\"],[\"P1795\"],[\"P1828\"],[\"P1829\"],[\"P1854\"],[\"P1873\"],[\"P1874\"],[\"P1877\"],[\"P1890\"],[\"P1913\"],[\"P1922\"],[\"P1924\"],[\"P1935\"],[\"P1939\"],[\"P1940\"],[\"P1944\"],[\"P1954\"],[\"P1957\"],[\"P1961\"],[\"P1967\"],[\"P1976\"],[\"P1980\"],[\"P1981\"],[\"P1983\"],[\"P1984\"],[\"P1989\"],[\"P1995\"]],\"hovertemplate\":\"color=4\\u003cbr\\u003ePCA Component 1=%{x}\\u003cbr\\u003ePCA Component 2=%{y}\\u003cbr\\u003eproduct_id=%{customdata[0]}\\u003cextra\\u003e\\u003c\\u002fextra\\u003e\",\"legendgroup\":\"4\",\"marker\":{\"color\":\"#636efa\",\"opacity\":0.6,\"symbol\":\"circle\"},\"mode\":\"markers\",\"name\":\"4\",\"showlegend\":true,\"x\":[0.12740703879622128,0.14052453726172104,0.07207475187808665,0.0005391443623933428,-0.013175092109535345,-0.07828863769695299,-0.10493348052550228,0.09796954376942671,0.02423302930851979,0.03098168515598785,0.04841203098270801,0.10659733561574479,0.014998476382273827,-0.01425258314331035,-0.029044348407953315,0.020386047206638037,0.024038304558768476,0.0058899880930253085,0.07955486731477474,0.12636933330453462,0.0003976639698622039,-0.020152615611795942,0.0009388045391970812,-0.032176591327065296,0.048127112939813144,0.10269253445261954,0.02699806603959633,0.011770540040845621,-0.0723931734455253,0.11557966208386644,0.13864901813098274,-0.08965213673522884,0.00099380338428854,-0.01200805054667374,-0.012511669695302142,-0.08472223618270162,0.13435868073706309,0.02130588036898859,0.03528199375129413,0.11791749882661064,0.03511401714476446,-0.02196683143788538,0.037435829185610774,0.035339476500772474,0.017017641720564494,0.16340330987894627,0.023214078352706162,-0.003979669398107746,-0.006712474390719807,0.16739886746611676,0.09472081362863036,0.015329601635002927,0.09490196344456357,-0.05550850994129818,0.025634006092847467,0.12805344961080523,0.06235915344606015,0.06128449224093886,0.02284769587312296,-0.043847202886967654,-0.04423254851862084,0.04955669419122011,0.030819588562637397,0.07202875356030246,-0.06274881683859605,0.039369154674413875,-0.029374769184336763,-0.0982345967260958,-0.013595637885120616,0.1116231476237359,0.1430184616242017,-0.0844910409926844,-0.03267455776497129,-0.007353011105224488,-0.05546234235878375,-0.0625365663612982,-0.032285897331682016,-0.06261442549766222,-0.05696241127249174,0.07566834485161954,0.08072832801617269,0.12697073261745337,0.11289844378823263,0.023792870646399934,0.14591199615061454,0.03989005071802218,0.11279918379678047,0.0945928012380245,0.05069825929680072,-0.09543472317878335,-0.044775790448602235,-0.00651576179656302,0.15136149033115115,0.029807051158931987,-0.014621611482073207,-0.10223163119797088,0.04521657599671102,0.026203855871821734,-0.06093718440746868,0.020255571073206226,-0.028872846773714163,0.0005117284723564416,0.036676570624718796,-0.025820570613240567,-0.06699588984010434,0.21247442230598598,-0.006771783656728432,0.12585183746083978,-0.006617070098795454,0.14078759854110978,0.05649754725477175,0.0310107056126841,0.1074919989679335,-0.043190012589434494,-0.08667154128224586,-0.018638220218796124,-0.10237037722024353,0.0765710352618456,0.06980315113862195,-0.05965575191998797,0.03316103309723269,-0.17496082813630534,0.11269379710722716,0.006777403857686555,0.03740048773346497,0.1346441953024278,0.020018457654728986,0.003315689640759272,-0.07574505844253578,0.01996537509917025,-0.004456677026018836,0.046709064590737696,0.06644723526879234,0.005022657105423968,0.0690112902712184,-0.007568779140464067,0.01097921546901425,0.031435529753744786,-0.0014718324388120086,0.10797874596241838,0.1686434242585414,-0.008654186207732999,-0.10894564267450968,-0.008678578287986856,-0.03401260434471044,0.012944335121836733,0.04386720967956486,0.12615053442902735,0.19112379595705992,-0.02002835961520777,-0.062080004277987454,0.0947870605718332,0.09215631236275501,0.02776140894263862,0.006837600868432447,0.10033362974860464,-0.0077257156453565505,-0.01020923728149865,0.029806660419505877,0.016034026334411245,-0.012036278918878332,-0.24168714534019936,0.007409532368725581,-0.08279232657921515,0.06868615970648273,0.10154476674569671,-0.04118494292260092,-0.02164256397710148,-0.044860775389868414,0.0518737801126069,-0.1257333023367722,-0.1442129738628524,0.037700095291252095,-0.04046387388991814,0.0696334462746851,0.11809168696359486,0.04616793008633934,0.05124583764833039,0.06957069843358583,0.016843951421193375,0.031355292919211845,-0.11009291547797183,0.08920773435575022,0.14908896492698245,0.13203465968524275,0.06584720654331566,-0.047913799818090505,0.1070119169398879,0.03556171641419144,0.18056009801183864,0.01872901429332796,0.1190901977590417,0.05721667474308809,0.050903500464397206,0.06064257251624567,0.10180002205645074,0.05879772864414266,0.03519465780850179,-0.16529351064933298,-0.06606273661894746,-0.009143370209404644,-0.040108503467126154,-0.08512225524994874,0.2790426246385719,-0.09046647806934227,-0.04287496995675282,0.26715392209955774,-0.1725372651689488,0.22054522864676013,0.23860966648877308,-0.04406552039541176,-0.00687530677958028,0.22810675174316292,0.04789415271852342,0.12499012238588805,-0.06696296033474308,-0.16642299428918952,0.09131807409342547,0.035390432777185094,-0.19290576193992665,-0.07505955136676971,-0.128606201886633,0.0182162134795245,-0.004161464638966418,-0.09910936260496049,-0.07339779720861697,0.1805495786935918,0.08050614880546564,0.02214062564133799,0.042414402949483926,0.025366441293446163,0.04521517200066961,0.06911693182079075,0.0016881666704441304,0.04570454016832086,-0.02681343596594217,-0.04995692209353202,-0.056502112776528446,0.16213399704399012,0.02345841938407517,0.18894972508018798,-0.06913321569009283,0.06894151873010307,0.04471869952125694,0.04069504714811095,0.037520997694607344,-0.13949430897171167,-0.14478982379761873,-0.06044890523710966,0.056677101657874956,-0.12643355177291893,-0.03102080990516686,0.03248736035685721,-0.02260690381384253,-0.16148042752768876,-0.017670339183986826,0.04788186014323726,-0.0045755526312201145,0.04729389432658001,0.0773187477650221,0.07585708009982649,-0.14103343525138862,0.1805579876306485,-0.028730372087609174,0.16584814793747743,0.042509835678226617,0.01572905132298879,0.14810452612553576,-0.08356439957170161,-0.012197452886079579,0.2705156569695719,0.020515767261263917,0.0647227464338903,-0.09098323379443914,-0.07727219559444973,0.05557070942379539,0.04559303498514713,0.027554998867108417,0.16983087761035376,-0.06914165554050805,-0.0006467135874749473,0.08152976934279486,-0.03871725592280977,0.02846671235233529,-0.017344008791266838,0.04197366334167675,-0.05199524944419841,0.09147761447641062,0.076125109470051,0.0971996315853454,-0.07024822276946155,-0.09516861141895026,0.08215702495439335,-0.01580123639556693,0.04360752741094301,-0.06729312965785528,0.07105910292171515,0.024396010230444756,0.16635143402142405,-0.01256891671565201,0.05619425753749001,0.081248106598134,0.05843517423246823,0.11633092343048287,0.07844219383216022,0.02023219379570637,0.1259009901610101,-0.013589408104191833,0.05301153309461614,-0.10896745010776655,-0.0002610241604903054,0.029909257052645813,-0.09479484525797227,0.10727875647914906,0.010844039663099096,0.06392546127705327,-0.020191352995598075,-0.1512243677166484,0.10043793827450989,-0.03927881456362573,0.15875003575385177,-0.011831697368922377,0.10251167352231534,-0.0584140316743071,0.18297803372795624,0.07334073727320002,-0.15925131610103882,0.15589462303484147],\"xaxis\":\"x\",\"y\":[-0.2523959724462838,-0.42073465495339996,-0.24059385101715097,-0.21142483403460505,-0.15509987296010128,-0.0076661448384756055,-0.20125771041903454,-0.22708691618760155,-0.20982330184476516,-0.02291467459329775,-0.36148167699907674,-0.1223497606640742,-0.42824094846057004,-0.01185244696626843,-0.19220982763049327,-0.2591953638961343,-0.13045547515593003,-0.06556378780710534,0.08370925584010688,-0.26330688950571546,-0.23116553930670147,-0.019414470305559796,-0.1801643366166692,-0.09409406125497924,-0.05478314275370487,-0.10722518080993948,-0.39904624159256463,-0.205047022838251,-0.2166779678579849,-0.1482857427009895,-0.16062637182297723,-0.12174064277610708,-0.12619505716986212,-0.18659868739883456,-0.14334563007117543,-0.07559571410513569,-0.2496867817471532,-0.13754135831318368,-0.33284908262053353,-0.15574001577197594,-0.09645231638009277,-0.197553228736251,-0.186167280406062,-0.023520595356453483,-0.13469342894662265,-0.2781985595044334,-0.32989728410515684,-0.02159312285725716,-0.21375055122620773,-0.16976188459952204,-0.06326491062616064,0.07171815528077825,-0.18306122998186286,-0.14274667399117796,-0.11517732715971386,-0.31053714077492667,-0.13366412870260463,-0.17251810977290732,-0.3216872426114147,0.1078497928116396,-0.21309851215105793,-0.19813876239902745,-0.20973783142110192,-0.2622169307738876,0.09813576039798654,-0.14143521678971868,-0.25446199532214764,-0.1370660979997174,-0.03483132980782258,-0.33371300305552776,-0.20358367814939685,-0.1441304591318295,-0.39461268906155605,-0.14823126696101907,-0.17789756500721066,-0.21459219323460488,-0.2201344370660273,-0.2583623470659981,0.011523334985332182,-0.16566548737866446,-0.2921986750020187,-0.39109436232267875,-0.12276613453397545,0.06663594861329245,0.0976599077925828,-0.25799491905389194,-0.24527678756188542,-0.2985431580660891,-0.1367338760462315,-0.06460656431238891,-0.3158280027269698,-0.14943559427145262,-0.339446743670843,-0.13171542831958183,-0.09195322034572945,-0.022839024581598085,-0.2604022070594451,-0.20391490030043657,-0.006634086891362984,0.04246396727311082,-0.23676528775213546,-0.17811896905790853,-0.021573293896818172,-0.1847124865588076,-0.19824546882770805,-0.2795050576430892,0.018201616743012586,-0.2547748634207338,-0.21836988386787656,-0.36531571789271994,0.09043311959536103,-0.09749456138359507,-0.0053147604094848575,-0.30168654434804565,-0.01618904867347183,-0.18373139167241503,-0.07544968694075821,0.017941909382042157,-0.10874092192549689,-0.06637159651178201,-0.1182635387690271,-0.06117198818868663,-0.2888510294598813,-0.017795792863473287,-0.11747933961482254,-0.18145977378890998,-0.02099030220143589,-0.07471224397628741,0.01870417641661045,-0.2988666005938565,-0.25418586770433943,-0.033559651784303965,-0.13288585204739384,0.003689179171843089,-0.21703722178370366,-0.08552659673095878,-0.28795522526626305,-0.20143711906807527,-0.045664571394527495,-0.11577102304407894,-0.2158643714568359,-0.13379872247383293,-0.20428547824912646,-0.13812160646396102,-0.20785648619210323,-0.13802256710910593,-0.25499844114859344,-0.1601662624155037,-0.045524561883230424,-0.07564529420790969,-0.17971748900118661,-0.006797896625777108,-0.3612436594822521,-0.19676533209536645,-0.17848408067487914,-0.18969854432953076,-0.25639256428701424,-0.1886412221189863,-0.3046517079366084,-0.1987981185774061,-0.1993626075248856,-0.06777480546428118,-0.20508173157148876,-0.28121267383858606,-0.33935524425954566,-0.1011190494429712,-0.22695961356179328,-0.26749020377193283,-0.0033353557112530997,-0.15945110692280834,-0.16754455521973535,-0.15980387210897742,-0.23644428453772245,-0.18581481277951067,-0.12823126435305504,-0.19119741967304563,-0.2885317449281911,-0.244200773668472,-0.17951811056137296,-0.18767082139909202,-0.021689541180293377,-0.10358736173186076,-0.2386746283904619,-0.25782661450333916,-0.17208401943822782,-0.12999915926127734,-0.12680682770601315,-0.21758609771858312,-0.18728829215459386,-0.28555735828067774,-0.2639209370316918,-0.4100600235964524,-0.06100933283072021,-0.2458284516949229,-0.10954383013732266,-0.38674708576703315,-0.25547007835017926,-0.07641654629250762,-0.22708031708137344,-0.035491086823573,-0.20190365682619033,-0.04112401506777318,0.05388595060626758,-0.2831638569671013,-0.07345488174585416,-0.13459176622236785,-0.13976929519258402,-0.16126111896679013,-0.2741311639378088,-0.3440226503583807,-0.03296840972672429,-0.31878468340479815,-0.26208160890046106,0.04991628893459785,-0.4412608790139668,-0.29541228212242726,-0.13797485037978174,-0.29291581426007995,-0.191210805819166,-0.1146189874621743,-0.15241704803085554,-0.15630699873135373,-0.2534981544116327,-0.19757914838062823,-0.16338247932391833,-0.1532966690474381,-0.34992999875127595,-0.219914449212646,0.08171493834824725,-0.33673168797739994,-0.24589605142615129,-0.2216001664621991,-0.10571797362159649,0.019078877162017612,-0.299237053784906,0.004386358486692928,-0.17534870989452256,-0.21402315805181837,-0.3688372915297632,-0.15647306434691835,-0.2889518894218306,-0.08133424637430856,-0.11797871844676346,-0.42230326763649584,-0.152914702954901,-0.14598408331853757,-0.1983991299075198,-0.2611187728050119,-0.09667141162315493,-0.35938051139658744,-0.32989019886375726,-0.08488886005173694,-0.20116517392483424,-0.03875509391977128,-0.0679805076453382,-0.2269440225762814,-0.35975442398680013,-0.2190614825302592,-0.4118080885136266,-0.23059229762662276,-0.12037574621686079,0.026209978603513196,-0.06394797485270182,0.04768553042225182,-0.21699089146637796,-0.23520149654167627,-0.039332263327414976,-0.26027201132635575,-0.1559661579266909,0.1475403197985274,-0.3131773062800851,-0.05848910174858771,-0.28217132452255306,-0.12601366231681752,-0.31405093294885483,-0.12309301097962891,-0.1554278534450343,-0.337510034465468,-0.2572441014330565,-0.20089047313471384,-0.14051477395981804,-0.2158522655806185,-0.1330699908625787,-0.2487162894574257,-0.05262254428340448,-0.2635368107413753,0.026237701061709043,-0.22728455115459978,-0.28280996829107335,-0.30683683580613796,-0.2360398080869771,-0.12336158370840991,-0.12830969884343707,-0.22965193297004255,-0.17740827441760523,-0.1591453153625214,-0.3106122715002472,-0.32537588485658675,-0.2718773727743925,-0.3362343852967734,-0.34947641631405885,-0.32064891249411154,-0.04961271608427639,-0.15604953742536118,0.1062553874895796,-0.1799699009753889,-0.24758313132751925,-0.2653168554340248,-0.28230572825572536,-0.04877614440944694,-0.2589366671668537,-0.20360007449392267,0.021474339441437604,0.021625105960210174,-0.25654396754642994,0.07604154681603112,0.07572082117971259,-0.07506814657969307,-0.29582785998856664,-0.07659657307645659,-0.35333135302734847,-0.10664366573711052,-0.19175303131836774,-0.05895679193935165,-0.34032195429775125,-0.21074381006617832,-0.18466317309279415,-0.3038291678660307],\"yaxis\":\"y\",\"type\":\"scattergl\"},{\"customdata\":[[\"P1\"],[\"P4\"],[\"P7\"],[\"P13\"],[\"P22\"],[\"P23\"],[\"P28\"],[\"P37\"],[\"P46\"],[\"P47\"],[\"P57\"],[\"P61\"],[\"P82\"],[\"P96\"],[\"P100\"],[\"P102\"],[\"P114\"],[\"P115\"],[\"P139\"],[\"P150\"],[\"P153\"],[\"P161\"],[\"P163\"],[\"P170\"],[\"P173\"],[\"P174\"],[\"P181\"],[\"P190\"],[\"P191\"],[\"P202\"],[\"P206\"],[\"P216\"],[\"P217\"],[\"P226\"],[\"P232\"],[\"P239\"],[\"P245\"],[\"P256\"],[\"P266\"],[\"P272\"],[\"P273\"],[\"P284\"],[\"P285\"],[\"P289\"],[\"P307\"],[\"P308\"],[\"P309\"],[\"P319\"],[\"P322\"],[\"P326\"],[\"P331\"],[\"P334\"],[\"P348\"],[\"P349\"],[\"P354\"],[\"P357\"],[\"P358\"],[\"P360\"],[\"P367\"],[\"P368\"],[\"P373\"],[\"P374\"],[\"P395\"],[\"P403\"],[\"P410\"],[\"P411\"],[\"P419\"],[\"P434\"],[\"P437\"],[\"P439\"],[\"P446\"],[\"P455\"],[\"P457\"],[\"P467\"],[\"P472\"],[\"P494\"],[\"P499\"],[\"P507\"],[\"P514\"],[\"P515\"],[\"P517\"],[\"P519\"],[\"P525\"],[\"P527\"],[\"P544\"],[\"P547\"],[\"P554\"],[\"P556\"],[\"P577\"],[\"P579\"],[\"P582\"],[\"P597\"],[\"P605\"],[\"P609\"],[\"P617\"],[\"P618\"],[\"P624\"],[\"P626\"],[\"P628\"],[\"P636\"],[\"P637\"],[\"P646\"],[\"P648\"],[\"P650\"],[\"P654\"],[\"P661\"],[\"P669\"],[\"P670\"],[\"P671\"],[\"P674\"],[\"P675\"],[\"P676\"],[\"P680\"],[\"P697\"],[\"P698\"],[\"P700\"],[\"P701\"],[\"P706\"],[\"P709\"],[\"P711\"],[\"P714\"],[\"P718\"],[\"P743\"],[\"P745\"],[\"P746\"],[\"P748\"],[\"P757\"],[\"P760\"],[\"P764\"],[\"P773\"],[\"P778\"],[\"P784\"],[\"P788\"],[\"P790\"],[\"P793\"],[\"P795\"],[\"P797\"],[\"P800\"],[\"P808\"],[\"P814\"],[\"P815\"],[\"P822\"],[\"P823\"],[\"P828\"],[\"P830\"],[\"P838\"],[\"P842\"],[\"P855\"],[\"P870\"],[\"P885\"],[\"P896\"],[\"P897\"],[\"P903\"],[\"P905\"],[\"P908\"],[\"P912\"],[\"P919\"],[\"P920\"],[\"P923\"],[\"P929\"],[\"P939\"],[\"P941\"],[\"P957\"],[\"P962\"],[\"P965\"],[\"P972\"],[\"P982\"],[\"P984\"],[\"P985\"],[\"P996\"],[\"P1003\"],[\"P1010\"],[\"P1014\"],[\"P1016\"],[\"P1022\"],[\"P1028\"],[\"P1032\"],[\"P1034\"],[\"P1036\"],[\"P1049\"],[\"P1055\"],[\"P1066\"],[\"P1067\"],[\"P1068\"],[\"P1069\"],[\"P1075\"],[\"P1092\"],[\"P1093\"],[\"P1097\"],[\"P1100\"],[\"P1106\"],[\"P1111\"],[\"P1124\"],[\"P1127\"],[\"P1152\"],[\"P1156\"],[\"P1158\"],[\"P1160\"],[\"P1163\"],[\"P1177\"],[\"P1178\"],[\"P1182\"],[\"P1184\"],[\"P1192\"],[\"P1193\"],[\"P1210\"],[\"P1219\"],[\"P1227\"],[\"P1238\"],[\"P1241\"],[\"P1244\"],[\"P1250\"],[\"P1251\"],[\"P1256\"],[\"P1264\"],[\"P1273\"],[\"P1280\"],[\"P1288\"],[\"P1293\"],[\"P1294\"],[\"P1304\"],[\"P1307\"],[\"P1314\"],[\"P1319\"],[\"P1325\"],[\"P1329\"],[\"P1338\"],[\"P1340\"],[\"P1347\"],[\"P1353\"],[\"P1357\"],[\"P1366\"],[\"P1369\"],[\"P1371\"],[\"P1379\"],[\"P1390\"],[\"P1392\"],[\"P1393\"],[\"P1395\"],[\"P1396\"],[\"P1427\"],[\"P1431\"],[\"P1439\"],[\"P1442\"],[\"P1449\"],[\"P1451\"],[\"P1465\"],[\"P1472\"],[\"P1473\"],[\"P1482\"],[\"P1485\"],[\"P1488\"],[\"P1493\"],[\"P1500\"],[\"P1507\"],[\"P1508\"],[\"P1509\"],[\"P1512\"],[\"P1513\"],[\"P1514\"],[\"P1520\"],[\"P1525\"],[\"P1528\"],[\"P1529\"],[\"P1535\"],[\"P1539\"],[\"P1547\"],[\"P1552\"],[\"P1554\"],[\"P1562\"],[\"P1566\"],[\"P1570\"],[\"P1576\"],[\"P1577\"],[\"P1582\"],[\"P1587\"],[\"P1588\"],[\"P1589\"],[\"P1592\"],[\"P1603\"],[\"P1607\"],[\"P1609\"],[\"P1620\"],[\"P1630\"],[\"P1633\"],[\"P1653\"],[\"P1656\"],[\"P1659\"],[\"P1668\"],[\"P1681\"],[\"P1682\"],[\"P1684\"],[\"P1686\"],[\"P1687\"],[\"P1688\"],[\"P1692\"],[\"P1694\"],[\"P1708\"],[\"P1720\"],[\"P1724\"],[\"P1737\"],[\"P1740\"],[\"P1744\"],[\"P1753\"],[\"P1757\"],[\"P1763\"],[\"P1770\"],[\"P1776\"],[\"P1779\"],[\"P1783\"],[\"P1784\"],[\"P1785\"],[\"P1800\"],[\"P1806\"],[\"P1809\"],[\"P1810\"],[\"P1814\"],[\"P1820\"],[\"P1821\"],[\"P1823\"],[\"P1825\"],[\"P1839\"],[\"P1841\"],[\"P1843\"],[\"P1844\"],[\"P1847\"],[\"P1857\"],[\"P1865\"],[\"P1872\"],[\"P1875\"],[\"P1879\"],[\"P1881\"],[\"P1883\"],[\"P1887\"],[\"P1888\"],[\"P1897\"],[\"P1902\"],[\"P1914\"],[\"P1919\"],[\"P1941\"],[\"P1946\"],[\"P1948\"],[\"P1949\"],[\"P1956\"],[\"P1960\"],[\"P1966\"],[\"P1982\"],[\"P1985\"],[\"P1986\"],[\"P1993\"]],\"hovertemplate\":\"color=5\\u003cbr\\u003ePCA Component 1=%{x}\\u003cbr\\u003ePCA Component 2=%{y}\\u003cbr\\u003eproduct_id=%{customdata[0]}\\u003cextra\\u003e\\u003c\\u002fextra\\u003e\",\"legendgroup\":\"5\",\"marker\":{\"color\":\"#EF553B\",\"opacity\":0.6,\"symbol\":\"circle\"},\"mode\":\"markers\",\"name\":\"5\",\"showlegend\":true,\"x\":[-0.020379880355162725,-0.12758179248791296,-0.13209749036096774,0.009687675548289077,0.22815963115322943,0.04893731825879628,-0.07035328361290313,0.01722721708587466,0.05951418954883712,-0.025142616115796455,-0.11777415914563955,0.09728175955226744,0.10175139549962488,-0.11405510744716046,-0.09672579908966149,-0.12526471087469487,0.04761574901265622,-0.0024769897553215646,-0.21795808172846023,-0.03370973833714547,-0.031079688961973766,0.08750672710638817,-0.0952680532534305,-0.07538675947056661,-0.13343881435177068,0.028534202373779904,-0.06923087433245836,0.12855316903043143,-0.16867359150703556,-0.19816491137302666,0.026987010072198614,-0.02233260300605256,0.23900751732705983,-0.22919973545653421,-0.08113640710062393,-0.032072327038808024,-0.1478412915804503,0.008564910791203013,0.015318299174383616,-0.011633965739885737,-0.012681598410199849,-0.013763417895298377,-0.0008596941405555787,-0.053348222626641434,-0.09698964283753157,0.03291417782366139,-0.0754047192958873,0.04018770714967672,-0.12962956329053452,-0.12207825900355446,-0.06377098813917065,-0.08413717104783452,0.014381985672192236,-0.05672542654216804,0.013863005947673979,-0.0104932724958996,-0.15371188359553362,-0.05695615884527144,0.1133958228012552,-0.18451059780105958,-0.21647808228265997,0.05273994433774551,-0.1512430199887464,-0.0622273350976206,-0.05633276060095144,0.11528303550449322,-0.11103484890384072,-0.06921391842255553,0.11906631260232682,0.022850505636748744,-0.10267164836597763,0.03908868962949725,0.14969081260011835,0.1168644215857863,-0.08956065071616545,0.07319080130813647,-0.00214151318168454,-0.14909046094921355,-0.19255987548857584,-0.12034044795998422,-0.18149344485232724,-0.043221423814959525,0.10846860829899627,-0.024531644833701967,-0.09607227163503797,0.12051879429522558,-0.06285946253136583,0.040348681712673536,-0.007208023422266004,-0.04878068645220411,0.03499312865633732,-0.10065834445252814,-0.07210360937772048,-0.15000787428520995,-0.10917327448593023,-0.037462400172892374,-0.2578867385874475,0.11839053742537124,0.007697642761092992,-0.055284874658504915,-0.1674380569913981,-0.12520629036935726,-0.10200131238564097,-0.03300231612625129,-0.027736101490977952,0.0499689505797732,-0.11687017354837656,0.10571085770093827,0.1147495416380002,-0.09966021497616216,-0.09280802971512093,-0.04503376841390614,0.09278763956560512,-0.10994514891125771,-0.06665643923562878,0.02205510947549456,0.023355578359934077,-0.07228508098189795,-0.10227222013440138,-0.09307403261099532,0.07483890241534567,-0.04105860512575085,0.04666580856692497,-0.09284099602008687,0.22203138259190724,-0.05540710157414734,0.14712415990147193,0.0397601356149579,-0.006560364916929393,-0.006233568136253774,-0.020828522266514556,-0.207401100413528,-0.08800118961786835,-0.02206024880915147,-0.007065811430184855,0.019848783277088857,0.23816433677158355,-0.051904252857917485,0.10049265554531933,-0.10292189744653266,-0.01056398135235961,0.16369989319333772,-0.11747688914422788,-0.19246392478993068,-0.008967305900257738,0.102472413183811,-0.09806243477505538,-0.0036258744906339513,-0.09826767319360809,0.09132822911664991,-0.1426188022153238,-0.16299986148421364,-0.027402434768829573,0.11211388077768342,-0.21943600612988548,0.037245626605288386,0.047250396604583224,-0.25638258556749605,0.017337361878938085,-0.09732410924503676,-0.05677856839516618,-0.04569334073918756,-0.03330387764433929,-0.07986969860935264,0.06269540208784438,-0.17385591430315583,-0.09284692508357284,0.06079196714743422,-0.07495960503889068,-0.07857189304449058,-0.154575980562286,0.054225961278918114,0.04131097331529579,0.016097197344312683,0.13456630133139402,-0.0889801917376527,0.0062954274410738295,-0.008536222273462388,0.10985866029612384,-0.0875808029353621,0.025305935111462195,-0.14716792912941362,-0.11470690010567147,0.0916465533661048,-0.06176031036310646,-0.054081684490278545,0.09113397894652542,-0.12347206319653209,-0.01925539737430119,0.03782193833895637,0.054225961278918114,-0.19563518356850942,0.1231649534957256,0.014037507917447645,-0.16473853621178283,-0.04679122179954638,0.025305935111462195,0.01338461402472901,-0.11262366160402347,-0.06885664450150016,0.10299675553851073,-0.12175853467522404,-0.27501447362164466,0.16385107899556667,-0.002992370874192709,-0.12858002148901126,-0.09652563718169006,-0.07405218750934071,-0.07199247638369946,0.0824280958688195,-0.07445783594525661,0.21382016686753139,0.1837771991458112,-0.052736517699774894,0.09384122524310981,-0.006421966350979021,0.06327265594921677,-0.022592151077075205,-0.011656773953306047,0.11602921065864376,0.010419878029900045,-0.02325571884413736,0.07116591318129932,-0.011040302504472228,-0.10096818549245509,0.04055467401146304,0.051518131379961724,0.06419293397014943,-0.032072327038808024,-0.2107687048444284,-0.16266750957226442,0.013175062917748736,-0.050210436845716,-0.008212705932904346,0.14623854302858214,-0.06445453063199152,0.10617097543535227,-0.10004807676567348,-0.04537794723444796,-0.006482621363487316,-0.022293551112349007,0.09821175098812343,0.11608539360628381,0.02067540888141509,0.22563276190104198,-0.13263320583637023,-0.07094524011661943,0.0677448351811886,0.0609130106045544,0.07649176534751281,0.11015282405982206,-0.021718173696388975,0.05225259520731006,0.05662409018134064,0.10647561826853202,-0.19146542406680953,-0.010056556478828157,-0.13251279682966033,0.10024437532164691,0.0040110218984400915,-0.05877504114524384,-0.17902098351564713,0.018280234543389277,0.02672132739378081,-0.0065247279081277944,0.08432338245168698,-0.09167363074532178,-0.2232267943943394,0.056018156684181475,-0.01446327294974881,-0.06584737476734756,-0.03415369933844031,0.05067477712293636,-0.04429243286671468,-0.07317020516361618,0.005160659123235184,0.14423651115159242,-0.12943423319384367,-0.1252855769277994,-0.1011112389482944,0.22702246783355368,0.11519221501392649,0.10695156642527034,0.04591190952758363,-0.05436316012428396,-0.039772646127898936,-0.1086936328064834,-0.05414437337932869,0.09882086067116982,-0.0714295251103581,-0.02806234911615716,0.09353541719597164,-0.10078538073800689,0.07820031456847121,0.0867156238922041,-0.03245875127059637,-0.027970677694964637,-0.014066197266109678,-0.024566647741428926,-0.06136925488803883,0.00929163421506523,-0.12781696770712883,-0.06633714004367536,-0.042007227360800536,0.11168361667851263,-0.03318914346621662,0.05816091347727301,-0.032072327038808024,-0.14145244598379078,-0.052851858702350665,-0.02092185018315567,0.0803477197514279,0.012714742454849048,-0.025683304667288017,-0.004789448846503097,-0.04342343599821187,0.14352786152291314,0.00929163421506523,0.03471332202235391,0.08320205577449048,-0.0577002926475787,-0.07749288889344072,-0.1219676558684327,-0.09319368238139647,-0.13503668593522222,0.0873971106459483,0.07901762936155331,-0.026422214688458234,-0.18912311780920965,-0.12237321669743079,-0.04121585462770959,0.00929163421506523,0.14614763669475245,-0.051418752020865516,-0.006429301188808471,0.07763901271882964,-0.046880267778525,-0.05096862579808324,0.1155435370828731,-0.017564679343193102,-0.09629876861629547,-0.024620948147607742,-0.04062390208608737,-0.00026580529316003534,-0.012659419151562955,-0.032662441160098074,-0.05467165262062712,0.042831598466844395,-0.0927406160178171,-0.12001995905318155],\"xaxis\":\"x\",\"y\":[0.05625480408216055,-0.16205148593212293,0.06471415384004695,0.011626496545880806,0.1139167825187394,0.1846467932011815,0.07097931651865123,0.013061478823160645,-0.031147040687460898,0.1862936743586613,0.23659907846417122,0.14947659442928868,0.25599448871451336,-0.28801336453307363,0.0938565250583421,0.064366410779977,0.23700333784139538,0.1497269671547204,0.2107346873509589,0.09958997201893667,-0.009499417901408557,0.06347864049875276,0.32368604594764516,0.1651181503431448,-0.008225724141912565,0.10983674574319932,-0.0014160489094801262,-0.12141544354402647,0.05607060152176355,0.05495008088095654,0.22530540679168387,0.03124310539799125,0.1591930785774534,0.14012988782509112,0.01576411464935698,0.13547402274736275,0.03209213099095583,0.0027985679523453016,-0.049837728669523525,0.1007028737403704,0.1022502444334028,0.0805008605774571,0.14935108939482886,0.14012471490636041,-0.12048457250176345,0.27497715877893747,0.09814193477576798,0.19510694010466265,0.2233415506639173,0.10896931528320725,0.23988244888106552,0.07783356586030638,-0.04003779953248636,0.15245069577261572,0.28110329179761845,0.07236510539206714,0.07046813868761267,0.08666361671924651,0.020703854998259434,0.2344223097326822,0.20483734227638045,-0.007876165193335366,0.13005353198943004,0.041528914045431735,0.02034947463748408,0.19599794803472692,-0.033802561361143534,-0.10320922357158036,-0.06197017866943301,0.06249411335344901,0.12827139435259585,0.31262975338907695,-0.18272167387057286,0.09555394373482937,0.1495219807896047,0.16394451052008596,0.19812727629894739,-0.06335323077699738,0.12906892243221005,0.09589182805695173,0.1083884037293601,0.049700847636931576,0.1262571639585675,0.08050055161402768,0.13715898670250995,-0.0335317958258191,-0.0016477699028344533,0.03858948459086628,0.05451873471826734,0.2131124928347627,0.09533078808356675,0.15481192350121903,0.13991034841796662,0.18014332255748472,-0.1746108707333637,0.2787257452089763,0.13188807068944783,0.030626292185868036,0.1184735806601859,0.12078157657140742,0.034603645553877765,0.025573738967301505,0.014135012604850762,0.07108620541565434,0.11225157913981856,0.08065618569332053,0.053301549109051466,0.24108623539678126,0.20471252163940645,0.20492476503335377,0.08678410027451375,0.1605359646124402,0.026108221299164097,0.08649296794246115,0.04975941346351698,-0.001456353242418891,0.1138312195656916,0.17416818032033066,0.1882232302103109,-0.14066695054698247,0.045372313141591666,0.018994668097435913,0.2476649258967894,0.036780198077416566,0.2233832023855286,-0.06843378520329721,0.23788130127207968,0.14506751791609915,0.07486802822550173,0.08812212392702021,0.16347242615930244,-0.015918868377510925,0.061221397206263885,0.049603303703617804,0.1849257234366586,0.10683573801043238,0.02205363511376854,0.035111375813784526,0.22180951397482396,0.004271744137541438,0.061515226433532626,-0.18562883862750285,-0.021972526552847992,0.08385639657266761,0.2857558060438683,0.17060183524832487,0.04568203722652132,-0.004282700642789648,0.18453376184685666,0.1572667184315065,0.11407580211472915,0.17353181773002108,0.11189550088712794,0.1944588299988725,0.1270974898886048,0.13304493256687927,0.022586503416584656,0.03953731549988035,0.08805086490385156,0.17104920948911823,0.1368136047445001,-0.08840276503976052,-0.07247338420395541,-0.10559803839620056,0.10835889020848895,0.162229325863776,0.19750386307431866,0.17308794418239515,-0.11403256944581158,0.1109860390307633,0.12299974068030657,0.09716591430247684,0.03161238281672308,0.10909125900460953,0.013324833299068035,0.2368715393461363,0.22207650218455174,0.030081019004697566,0.01753860138468599,0.13630394692274767,0.11588093236708713,0.09648062045262809,0.05047093290744903,0.08451673221494377,0.06556203847926147,0.1097680067543145,0.14831237770198147,0.2608399647014833,0.10904246519719668,0.24581321697043362,0.09716591430247684,0.15678399306377766,0.07270574451305956,0.07469876940154961,0.19649476093743334,0.1612294474631576,0.11588093236708713,0.17024952507191504,0.13100830900790583,-0.0789964860931496,-0.07164715480630011,0.0970412386760785,0.1534032357630279,0.05258373456110846,0.07948624485858896,0.0327325258839863,0.08673682814920469,0.19543015575361827,-0.08029357553554234,0.11212900566025397,0.08664110479686796,0.12771603502972795,-0.025229118441933658,0.2792259310688554,0.05076624157137926,0.1979592266588978,0.11703374214623541,0.1168485064717899,0.224194079529838,-0.11517404389073234,0.1906361377320431,0.07561977262634582,0.052203783168042535,0.16862091297813367,0.05598874965426859,0.27519974240213596,0.09194716915657125,0.043675521099801926,0.13547402274736275,0.1712365589473957,0.024628757572156438,-0.07216610960606998,0.18466951326340086,0.08201784897933086,0.04362290338509289,0.1844741063073307,-0.12797858535668163,0.1672558110803005,0.16832457820203683,0.16385602647010913,0.061597730492738735,0.17368555083816195,-0.10394677528467301,0.12307904327975691,-0.014784023852080986,-0.05322711192709851,0.04986070584539092,0.07396047444956291,0.24064094412396733,0.08084883176489775,-0.2470676692673859,0.18552551808195142,0.17990006340188758,0.18464740695224002,0.14885660638776985,0.007261349212044304,0.05410068829928158,0.01383971351862163,0.017039743068798317,0.13912646024374953,0.034499805135047176,0.16865831794582872,-0.24131167034064305,0.14359793478003666,0.101512539756754,0.0018031352557993938,0.08503787844110486,0.20281359457324993,0.021601835432884235,0.02968652942757701,0.19941500543772928,0.26330995176913435,0.21600655854088785,0.042911160842968976,0.11811360495814083,0.23304221780996745,0.15818303516547638,0.14859419945250835,0.12122523602938097,0.07965448878689434,0.20221314655377576,0.14124821715050848,0.16028102140228748,0.01523007297662064,0.09506548812652424,0.2577880998299175,0.13632807771599026,0.17652065987572188,0.0512237861731812,0.03655083537026735,0.08014377198188795,0.17054959300656686,0.04699398967417347,0.06624605272936591,0.12755901900800012,0.182408332615018,0.22743078582952736,0.10474680576849843,0.07740282838051182,0.025881001677150316,0.2486101627667499,0.22115946153299348,0.16499448019691618,0.1350953675654645,0.1212150862615875,0.18464666062705182,0.10707418642128069,0.13547402274736275,0.17475881532092144,0.16990935974950594,0.1860758599882264,0.21540667406529818,0.24184445927867612,-0.1887818156530281,0.023630379296566785,0.06603887829918191,-0.2027467730273469,0.2486101627667499,0.1419909978076416,-0.14795265336090688,-0.07244010555914993,0.07921543580233767,0.07848712255639322,0.3172459719328258,-0.1306473988043932,0.15437458355707634,-0.0021408546710802827,0.021680124810202213,-0.0625046436566788,0.31170729984117984,-0.0847055088980739,0.2486101627667499,0.22741535160571089,-0.004423459862333778,0.1378599405447213,0.1559068944331165,0.2110725184753535,0.12660429213747143,-0.08300601432235027,0.1599034217926245,0.11006183610471129,0.12936025871681212,0.15302714804345446,0.05475920477181784,0.1369426779371641,0.20026152825014099,0.12393914443502055,0.2922996171029578,-0.018612431303510056,0.25999537261877703],\"yaxis\":\"y\",\"type\":\"scattergl\"},{\"customdata\":[[\"P3\"],[\"P8\"],[\"P9\"],[\"P20\"],[\"P25\"],[\"P27\"],[\"P45\"],[\"P48\"],[\"P55\"],[\"P56\"],[\"P64\"],[\"P66\"],[\"P67\"],[\"P73\"],[\"P74\"],[\"P76\"],[\"P77\"],[\"P78\"],[\"P79\"],[\"P86\"],[\"P103\"],[\"P104\"],[\"P110\"],[\"P116\"],[\"P120\"],[\"P136\"],[\"P144\"],[\"P147\"],[\"P164\"],[\"P168\"],[\"P172\"],[\"P184\"],[\"P196\"],[\"P228\"],[\"P238\"],[\"P247\"],[\"P277\"],[\"P286\"],[\"P288\"],[\"P298\"],[\"P303\"],[\"P304\"],[\"P313\"],[\"P317\"],[\"P335\"],[\"P345\"],[\"P346\"],[\"P347\"],[\"P352\"],[\"P356\"],[\"P363\"],[\"P372\"],[\"P385\"],[\"P388\"],[\"P396\"],[\"P429\"],[\"P440\"],[\"P442\"],[\"P458\"],[\"P461\"],[\"P465\"],[\"P470\"],[\"P471\"],[\"P474\"],[\"P477\"],[\"P495\"],[\"P501\"],[\"P510\"],[\"P551\"],[\"P561\"],[\"P562\"],[\"P563\"],[\"P569\"],[\"P572\"],[\"P574\"],[\"P588\"],[\"P600\"],[\"P606\"],[\"P629\"],[\"P639\"],[\"P643\"],[\"P649\"],[\"P662\"],[\"P668\"],[\"P673\"],[\"P677\"],[\"P682\"],[\"P685\"],[\"P696\"],[\"P710\"],[\"P715\"],[\"P726\"],[\"P730\"],[\"P732\"],[\"P740\"],[\"P752\"],[\"P753\"],[\"P756\"],[\"P759\"],[\"P765\"],[\"P768\"],[\"P772\"],[\"P775\"],[\"P780\"],[\"P786\"],[\"P787\"],[\"P791\"],[\"P801\"],[\"P812\"],[\"P818\"],[\"P832\"],[\"P833\"],[\"P846\"],[\"P858\"],[\"P876\"],[\"P883\"],[\"P895\"],[\"P899\"],[\"P902\"],[\"P904\"],[\"P915\"],[\"P916\"],[\"P917\"],[\"P921\"],[\"P925\"],[\"P932\"],[\"P940\"],[\"P942\"],[\"P946\"],[\"P947\"],[\"P954\"],[\"P964\"],[\"P971\"],[\"P973\"],[\"P983\"],[\"P1006\"],[\"P1007\"],[\"P1008\"],[\"P1009\"],[\"P1013\"],[\"P1019\"],[\"P1021\"],[\"P1023\"],[\"P1029\"],[\"P1047\"],[\"P1052\"],[\"P1053\"],[\"P1064\"],[\"P1072\"],[\"P1089\"],[\"P1090\"],[\"P1102\"],[\"P1109\"],[\"P1110\"],[\"P1118\"],[\"P1123\"],[\"P1128\"],[\"P1132\"],[\"P1136\"],[\"P1137\"],[\"P1142\"],[\"P1153\"],[\"P1154\"],[\"P1155\"],[\"P1165\"],[\"P1169\"],[\"P1176\"],[\"P1180\"],[\"P1185\"],[\"P1197\"],[\"P1214\"],[\"P1216\"],[\"P1231\"],[\"P1236\"],[\"P1239\"],[\"P1242\"],[\"P1245\"],[\"P1247\"],[\"P1254\"],[\"P1271\"],[\"P1272\"],[\"P1287\"],[\"P1289\"],[\"P1295\"],[\"P1303\"],[\"P1305\"],[\"P1335\"],[\"P1336\"],[\"P1351\"],[\"P1352\"],[\"P1354\"],[\"P1358\"],[\"P1360\"],[\"P1363\"],[\"P1367\"],[\"P1368\"],[\"P1377\"],[\"P1385\"],[\"P1391\"],[\"P1399\"],[\"P1414\"],[\"P1418\"],[\"P1423\"],[\"P1424\"],[\"P1429\"],[\"P1436\"],[\"P1443\"],[\"P1464\"],[\"P1466\"],[\"P1467\"],[\"P1474\"],[\"P1486\"],[\"P1489\"],[\"P1495\"],[\"P1498\"],[\"P1506\"],[\"P1517\"],[\"P1519\"],[\"P1531\"],[\"P1534\"],[\"P1540\"],[\"P1545\"],[\"P1555\"],[\"P1557\"],[\"P1558\"],[\"P1567\"],[\"P1569\"],[\"P1571\"],[\"P1572\"],[\"P1581\"],[\"P1594\"],[\"P1600\"],[\"P1601\"],[\"P1602\"],[\"P1610\"],[\"P1611\"],[\"P1614\"],[\"P1622\"],[\"P1625\"],[\"P1631\"],[\"P1634\"],[\"P1635\"],[\"P1637\"],[\"P1638\"],[\"P1641\"],[\"P1649\"],[\"P1665\"],[\"P1695\"],[\"P1696\"],[\"P1700\"],[\"P1711\"],[\"P1726\"],[\"P1739\"],[\"P1741\"],[\"P1742\"],[\"P1751\"],[\"P1764\"],[\"P1765\"],[\"P1780\"],[\"P1789\"],[\"P1797\"],[\"P1798\"],[\"P1803\"],[\"P1812\"],[\"P1848\"],[\"P1852\"],[\"P1858\"],[\"P1866\"],[\"P1867\"],[\"P1884\"],[\"P1893\"],[\"P1898\"],[\"P1905\"],[\"P1906\"],[\"P1911\"],[\"P1915\"],[\"P1918\"],[\"P1923\"],[\"P1933\"],[\"P1934\"],[\"P1943\"],[\"P1945\"],[\"P1971\"],[\"P1978\"],[\"P1992\"]],\"hovertemplate\":\"color=3\\u003cbr\\u003ePCA Component 1=%{x}\\u003cbr\\u003ePCA Component 2=%{y}\\u003cbr\\u003eproduct_id=%{customdata[0]}\\u003cextra\\u003e\\u003c\\u002fextra\\u003e\",\"legendgroup\":\"3\",\"marker\":{\"color\":\"#00cc96\",\"opacity\":0.6,\"symbol\":\"circle\"},\"mode\":\"markers\",\"name\":\"3\",\"showlegend\":true,\"x\":[0.018445096106929425,0.0219408003783068,-0.08078688986578555,-0.041170586205074675,0.0019335672430500009,0.061441312589570515,-0.01589010132405251,-0.0531049460862083,0.08302842016418152,0.11466115175855032,-0.001861168848995419,0.07858241442322207,-0.00472837202645366,0.14570141751216095,0.019816403880407705,0.013791228412040172,-0.043965443855367145,-0.02241523361258852,0.08317750357671257,-0.04900017935134574,-0.09410565222460929,-0.05013046701335051,-0.09375319147712391,-0.002551156010148931,0.10100758302015289,0.019480348321421294,0.048580348154422644,0.00037333956930152984,0.035455521700720125,-0.054833095426025984,0.021361652516820893,0.06254775671096334,0.024413165930579055,-0.034914864244083764,0.06707144615348218,-0.019785925096598492,-0.012322371761396937,-0.052799265983190534,-0.014741809134993707,-0.10998229588197815,0.04251787201650796,-0.0525142154558066,-0.08657904907120367,-0.024688450681319345,0.027998505468962598,0.047226921641727,0.23479021091008462,0.04354771263822198,-0.006079052257814032,-0.06659019761515832,-0.15190225342828273,0.12185595404450328,0.10570735874136876,0.04345573826613659,-0.03110037577730436,-0.0861982741503483,-0.018658625652008785,0.11448446082316097,-0.08845115364548563,0.09379238053020394,0.07899463922211061,0.059514962553417136,0.048564799836707626,-0.06329738738495216,-0.17094500288371156,0.004036656156114857,0.135355449884689,0.025374340606546184,-0.11316938379686879,0.10076925244967144,-0.06381120835086908,0.037378632610141356,-0.002852754728631699,0.15945612135662263,-0.046278044185303666,-0.0701980597486623,0.10661186678230088,0.01432025987701271,0.023413016157785366,-0.10130642899908156,0.039037073743999104,0.03856503669447156,0.1875049505329595,-0.10367891141426204,-0.014614642205322971,-0.059889597824312295,0.10479483171447443,-0.059400966601030544,0.10152671811366759,0.0559966569590014,-0.006548227920373947,-0.10148587542350379,0.016158767297301632,0.019072641084748675,-0.017420063662123002,-0.07761731388589749,0.07463865969542782,0.11434414988925982,0.010608903037973372,-0.03689748028093999,-0.032078473074127034,0.019514626424469224,0.21216840044516305,0.038530890034599204,-0.2168465965501018,-0.054917414033904016,0.006838065922239971,-0.0961054905371693,0.005343434599571005,0.23166895000713292,-0.15480484793401927,-0.047925315616794764,-0.06215076755501952,0.04736288496681742,-0.03312039102705759,-0.02320327635915276,-0.015399952532090295,-0.09104115324089003,0.011889735067467332,-0.042439053423947916,0.13004896205983618,0.05763967743755519,-0.1904929178051441,0.043314629971044724,0.044765580848492324,-0.09933155838990781,-0.0360281284157158,0.000045166590810752014,0.14061797882654126,-0.05842901080440174,0.028158446968802917,0.11282718371575523,-0.015344098912170626,0.03736208124757833,0.09957386717606545,0.20825789092075356,-0.02729394914309791,0.016537363431541864,0.0007406868367758335,0.009427166815457591,0.050895724371566656,-0.0019435952979759454,0.05348865386518453,0.060756677539716204,0.09012165276277895,-0.11241584025673339,0.027320601054882356,0.0004002024278362236,0.06437713886873732,0.033153289669556635,0.06065715900050306,0.028556383266631354,-0.10397773666627427,-0.0424844664456306,0.006572744982509071,-0.14498401151795962,0.11079189698097378,-0.025057874021265837,-0.053624448435883904,0.07389497039461636,0.016677654565747164,0.04697756322611706,0.1041346778363365,-0.04825099271733433,0.00008845402714379759,0.19386675272141238,-0.0691307640211494,0.061615228365666935,0.004893533445673502,-0.08711097354816397,-0.03231477204524469,-0.04878998331280368,-0.03270743553949238,-0.016213610270797672,-0.12153186491471285,0.06890352020604647,0.04163275513716481,-0.07201259565219856,-0.0806437750524637,-0.11599384784724849,-0.04876882337896322,-0.04341263601424679,-0.07478085498583803,0.040615012836731815,-0.01152957572590868,-0.03332609584895753,0.15615199378861128,0.029949967004833628,0.10065238910620158,-0.05802171665770883,0.05789683752109402,-0.20014110181396652,0.12618713486576982,0.09907360471734598,-0.106678874621804,0.042575087909305045,0.033541118322340614,-0.08030804739029643,-0.01869863016539879,0.057159568816312276,-0.09643985084790768,-0.026612718193490013,0.07200812522975503,0.12964030052717293,0.02460341861027449,0.06543605124406812,-0.017675363088296592,-0.0699812910580534,-0.09095026749955037,-0.03169843164719328,-0.14384696614334572,-0.010509311787018406,-0.005410287634923235,0.10194769007482024,-0.086165312961853,0.0147710273261475,0.1559072345486773,-0.008631604072651476,0.021606344386011528,-0.10942162484377425,0.14679131455293631,0.12463346726053115,0.06294314159224566,-0.05911782033047018,-0.0917054749919652,0.1587291690364751,-0.04181615325129165,-0.11924460025797776,0.07367443792299347,-0.10498730878719455,-0.07126980317340867,-0.2033517435851876,-0.041013475656552445,-0.100422553537557,-0.03553116969194445,0.060694316175759974,0.015227323548480444,-0.012937274942524526,0.011971159277159237,0.13571045513128538,0.14677068230358178,-0.05866462536394169,0.0609606055169484,0.1121298970750314,-0.13091011025913646,0.014417957393083408,0.13887111173570016,0.12896102943074872,-0.0301827159937878,0.007981485253414864,-0.06196030206600023,-0.001856464217925919,0.04270043211333388,-0.08997873061688477,0.11024166860014073,0.04823716218367361,0.0454192131877411,0.11433377009178354,0.11464455012431173,0.0075665761389338,-0.06783277026000585,0.0034777764982229092,0.07099979107079282,-0.12051575969239416,-0.07500984893529113,0.04070617419261304,0.00791600227117898,0.008137717444557352,-0.09542760645498599,0.04243711568347497,-0.020141461397180597,-0.06259904578493251,0.003402633932716044,0.022595283878880615,0.038013984134158726,0.06751327558178313,0.10686018752593283,0.022930639045913675,0.03225822288871362,0.13679886355193555,-0.10992169648869637,0.05672557522618662,0.013434924068592796,0.13997953703340837,-0.06145415891470659],\"xaxis\":\"x\",\"y\":[0.10625132822865278,-0.02951711457073933,-0.18505029140287133,-0.3480332155147349,-0.037327711244516434,-0.0512894116447036,0.06987335539522703,-0.10973654545058606,-0.17003920354110275,-0.019675253981737365,0.08779661751359774,0.1516965933587881,-0.03814797937875913,-0.2839711085629698,-0.12594536882157323,-0.12518986054897366,-0.009059932835264526,-0.04364558961048665,-0.039231070717850744,-0.05837975580954893,-0.11585782472330153,-0.17003240204877784,0.036926625895178075,0.06178335074316032,0.1401986235663653,-0.13572174990808816,0.08344098030047448,-0.19676189629211582,-0.12406202456047985,-0.18698140232599336,-0.21538329036019482,-0.02268111106314119,-0.04890024747029367,-0.20209777138499918,-0.049308060428718076,-0.037847227885705964,-0.16059076897101396,-0.18050098792604413,0.18116776576853133,-0.05558429410727703,-0.14009366814611104,-0.04172800886978971,-0.058089391766219606,-0.25008908034470806,0.026877093077083067,0.025462590170935235,0.012576471722675928,0.05559512178776527,-0.027406841086289192,-0.2339381388018159,-0.2791173640145713,-0.2053675852813806,-0.21186005353893744,-0.0879861795808043,-0.17814262149901186,-0.026971117467403567,-0.215432418833935,-0.020136069374018517,-0.15993763479857548,-0.12749471058481948,-0.2562248472098665,-0.11276354133694096,0.0387609801653638,-0.2078107565319316,-0.11809801617839832,0.2701614507820149,0.1582502789505067,-0.3309199840806569,-0.26284974012168766,0.04607618828630357,-0.29356785725654666,-0.14118347492766917,-0.05360175441546376,0.13609185588718478,-0.1001811392842574,-0.021594386508054265,-0.23494058748271754,-0.14273769073662235,-0.11537973353369936,-0.07424566699845697,0.04963482241678481,0.06673150951118803,0.32881486009844796,-0.1760646110239589,-0.2046509461798954,-0.09947568838548894,-0.2072346778446718,-0.17528961702321874,-0.2513814284627371,-0.05884770363566112,-0.1466014550155745,-0.1442225686253794,-0.15280563805019154,-0.09038450771603565,-0.08869814900686633,-0.15650413393150184,0.19870481027108244,0.14288032328498118,-0.16720170789484176,-0.21927441848402782,-0.1946081197663348,-0.1934629060454142,0.14663830221573418,-0.07944315126147977,-0.023571784336233102,-0.18177858833785365,-0.16698476883253524,-0.0794472581643891,-0.14526518707887456,-0.17587801547634732,-0.12858395732995498,-0.0782051178453502,-0.16479407514243402,-0.17595648569434014,-0.05415038694892874,0.16969783625700197,0.022141783475978408,-0.052553527674990726,-0.16241735014916484,0.04843734375653212,0.13561931785519793,0.02439042098532425,-0.21484793434220098,-0.12115758299219793,-0.1173582814344642,-0.06930428086224369,0.04828976655111769,-0.3637410107337399,0.11107038603272651,-0.04725502582282365,-0.25570408695316815,-0.026942006267317426,0.06961167989509513,-0.020846096904553826,0.0007497356298250806,0.16935339418079823,-0.06994579643999595,0.03983842089922933,-0.20515866364439866,0.20689399495658664,-0.11026578754589397,0.11101936917222124,-0.02387129499733375,-0.2852759197427692,0.15954043875767684,-0.07434521748792752,0.08390998942674553,-0.10088339853836756,-0.043870557345766975,-0.10654258139367649,0.24248273450196,-0.035222854229208685,-0.011253602180031484,0.28438382738465884,-0.08481217662835262,0.025205375771204207,0.05706047633430551,-0.08132594922466196,-0.12746715033847852,0.20548716403942607,-0.1034608694310065,-0.07265289030777984,-0.024121094838803064,0.17870746884181937,0.24062800238182677,0.008741661257125416,0.05823799840302346,0.09521395455776102,-0.051933001562297146,0.2393246304372335,-0.03600478750783648,0.21282761102231246,-0.3097204900910071,-0.05432613757058817,0.05398697988736213,0.0020159704336760696,0.15079605823480835,0.05782378617500785,-0.09026988577086821,-0.05883905751011348,-0.13521920761419132,-0.13561391940711,-0.17695260768794546,-0.051146493603450305,-0.16477613396132917,-0.22631916564882965,-0.11215035323058292,0.029450758354753227,0.24992196334623856,-0.15903660745942189,0.08720096724387724,-0.2896152333075806,-0.03555740175720556,-0.22613943335483044,0.21370064798931393,-0.03921264295396756,-0.10301097687187064,-0.18978559985217744,-0.005513491731085399,0.1751176731308311,-0.07953393968171044,-0.18952309977407744,-0.10591733145646803,0.07386259073962162,-0.088282521971151,0.12050688875610263,0.06637055974600992,0.12155335462562272,-0.07506117318955342,0.08487421622897062,-0.09700244282790557,0.07375722263312152,-0.2774190441202669,-0.042312176993169845,-0.1648249668091365,-0.021840513751160043,0.07976718530158397,0.07239455584418755,-0.21782223936505732,-0.27897340306969043,-0.20741511622474654,-0.010514631940853508,0.03729448424465076,-0.07635222562258567,-0.10772642674294426,0.1138078137423153,-0.2250420532728558,-0.23807435967834176,0.03593880055476964,-0.0545290599100139,-0.1960480470228323,-0.13556834103789187,0.2901526409220131,-0.13085916237358883,-0.08356432929503115,0.15313287988882512,0.20507810171273705,-0.015941749263418244,0.06719143996900655,0.28394392641682575,-0.23954739616825443,0.2313249711435515,-0.25226763958459686,0.238719428964006,-0.1620116345996797,0.02625571716049395,0.24157842631725251,0.056934095201579125,0.0029461604751479763,-0.16036637647987087,0.01336621493098088,-0.18952178446475249,-0.15373598213383302,0.11551908488137853,-0.12849724874435825,-0.2957241870361843,-0.14318702504038952,0.14503308959719616,-0.23230746276901906,0.019073755343248556,-0.09363226675004557,0.02995799179419847,0.15798521448151218,-0.166150774742953,0.24862553549415936,0.1940021544542056,0.24859633476030246,-0.14102755157454594,-0.07651813107591565,-0.12545635937103297,0.07746755322824145,0.0031852366424740767,-0.06253125242442914,0.04935342161589068,0.017857099993026926,-0.17392330635048237,-0.192844490695667,0.09951079443642757,-0.1871149667431524,0.1381428459031136,-0.04817776831329377,0.02494414456893359,-0.07411102707321757,-0.17580950308192173,-0.030860751149781845],\"yaxis\":\"y\",\"type\":\"scattergl\"},{\"customdata\":[[\"P6\"],[\"P11\"],[\"P16\"],[\"P18\"],[\"P24\"],[\"P26\"],[\"P30\"],[\"P33\"],[\"P40\"],[\"P50\"],[\"P53\"],[\"P58\"],[\"P59\"],[\"P63\"],[\"P65\"],[\"P69\"],[\"P72\"],[\"P80\"],[\"P81\"],[\"P88\"],[\"P89\"],[\"P90\"],[\"P93\"],[\"P98\"],[\"P105\"],[\"P106\"],[\"P111\"],[\"P113\"],[\"P117\"],[\"P118\"],[\"P122\"],[\"P125\"],[\"P129\"],[\"P131\"],[\"P132\"],[\"P133\"],[\"P135\"],[\"P142\"],[\"P154\"],[\"P156\"],[\"P157\"],[\"P159\"],[\"P160\"],[\"P165\"],[\"P166\"],[\"P167\"],[\"P177\"],[\"P182\"],[\"P183\"],[\"P185\"],[\"P189\"],[\"P198\"],[\"P199\"],[\"P200\"],[\"P201\"],[\"P205\"],[\"P208\"],[\"P211\"],[\"P212\"],[\"P213\"],[\"P215\"],[\"P219\"],[\"P220\"],[\"P221\"],[\"P222\"],[\"P225\"],[\"P229\"],[\"P237\"],[\"P241\"],[\"P242\"],[\"P246\"],[\"P248\"],[\"P253\"],[\"P254\"],[\"P264\"],[\"P267\"],[\"P278\"],[\"P280\"],[\"P283\"],[\"P287\"],[\"P291\"],[\"P295\"],[\"P300\"],[\"P305\"],[\"P312\"],[\"P314\"],[\"P318\"],[\"P323\"],[\"P324\"],[\"P327\"],[\"P329\"],[\"P336\"],[\"P338\"],[\"P342\"],[\"P350\"],[\"P351\"],[\"P359\"],[\"P364\"],[\"P365\"],[\"P366\"],[\"P377\"],[\"P378\"],[\"P380\"],[\"P381\"],[\"P382\"],[\"P386\"],[\"P387\"],[\"P390\"],[\"P391\"],[\"P394\"],[\"P397\"],[\"P398\"],[\"P400\"],[\"P402\"],[\"P406\"],[\"P409\"],[\"P412\"],[\"P414\"],[\"P418\"],[\"P425\"],[\"P426\"],[\"P427\"],[\"P428\"],[\"P430\"],[\"P432\"],[\"P444\"],[\"P447\"],[\"P448\"],[\"P449\"],[\"P452\"],[\"P453\"],[\"P456\"],[\"P459\"],[\"P464\"],[\"P469\"],[\"P473\"],[\"P476\"],[\"P480\"],[\"P486\"],[\"P490\"],[\"P491\"],[\"P493\"],[\"P498\"],[\"P503\"],[\"P504\"],[\"P505\"],[\"P506\"],[\"P508\"],[\"P513\"],[\"P518\"],[\"P520\"],[\"P521\"],[\"P524\"],[\"P529\"],[\"P545\"],[\"P549\"],[\"P550\"],[\"P560\"],[\"P564\"],[\"P567\"],[\"P575\"],[\"P576\"],[\"P580\"],[\"P581\"],[\"P583\"],[\"P592\"],[\"P594\"],[\"P601\"],[\"P604\"],[\"P607\"],[\"P608\"],[\"P610\"],[\"P619\"],[\"P620\"],[\"P623\"],[\"P627\"],[\"P632\"],[\"P635\"],[\"P642\"],[\"P645\"],[\"P647\"],[\"P659\"],[\"P664\"],[\"P672\"],[\"P678\"],[\"P686\"],[\"P692\"],[\"P695\"],[\"P699\"],[\"P703\"],[\"P705\"],[\"P716\"],[\"P723\"],[\"P724\"],[\"P725\"],[\"P729\"],[\"P731\"],[\"P733\"],[\"P735\"],[\"P749\"],[\"P750\"],[\"P755\"],[\"P758\"],[\"P766\"],[\"P777\"],[\"P783\"],[\"P789\"],[\"P792\"],[\"P799\"],[\"P802\"],[\"P803\"],[\"P806\"],[\"P811\"],[\"P813\"],[\"P816\"],[\"P819\"],[\"P820\"],[\"P825\"],[\"P829\"],[\"P841\"],[\"P843\"],[\"P845\"],[\"P850\"],[\"P851\"],[\"P852\"],[\"P854\"],[\"P857\"],[\"P860\"],[\"P863\"],[\"P865\"],[\"P866\"],[\"P868\"],[\"P869\"],[\"P873\"],[\"P877\"],[\"P880\"],[\"P881\"],[\"P882\"],[\"P887\"],[\"P888\"],[\"P906\"],[\"P907\"],[\"P909\"],[\"P910\"],[\"P913\"],[\"P922\"],[\"P924\"],[\"P926\"],[\"P934\"],[\"P935\"],[\"P938\"],[\"P943\"],[\"P944\"],[\"P945\"],[\"P949\"],[\"P950\"],[\"P951\"],[\"P952\"],[\"P955\"],[\"P958\"],[\"P960\"],[\"P963\"],[\"P976\"],[\"P978\"],[\"P979\"],[\"P986\"],[\"P988\"],[\"P989\"],[\"P998\"],[\"P1002\"],[\"P1004\"],[\"P1015\"],[\"P1017\"],[\"P1024\"],[\"P1031\"],[\"P1037\"],[\"P1042\"],[\"P1044\"],[\"P1046\"],[\"P1048\"],[\"P1051\"],[\"P1054\"],[\"P1058\"],[\"P1059\"],[\"P1061\"],[\"P1062\"],[\"P1063\"],[\"P1070\"],[\"P1079\"],[\"P1082\"],[\"P1086\"],[\"P1094\"],[\"P1096\"],[\"P1099\"],[\"P1101\"],[\"P1107\"],[\"P1112\"],[\"P1114\"],[\"P1116\"],[\"P1117\"],[\"P1121\"],[\"P1125\"],[\"P1129\"],[\"P1131\"],[\"P1133\"],[\"P1135\"],[\"P1139\"],[\"P1141\"],[\"P1144\"],[\"P1145\"],[\"P1164\"],[\"P1175\"],[\"P1181\"],[\"P1183\"],[\"P1189\"],[\"P1194\"],[\"P1196\"],[\"P1199\"],[\"P1201\"],[\"P1203\"],[\"P1207\"],[\"P1211\"],[\"P1212\"],[\"P1215\"],[\"P1225\"],[\"P1235\"],[\"P1240\"],[\"P1246\"],[\"P1248\"],[\"P1255\"],[\"P1260\"],[\"P1263\"],[\"P1266\"],[\"P1267\"],[\"P1268\"],[\"P1270\"],[\"P1274\"],[\"P1276\"],[\"P1277\"],[\"P1282\"],[\"P1285\"],[\"P1291\"],[\"P1292\"],[\"P1296\"],[\"P1297\"],[\"P1299\"],[\"P1300\"],[\"P1302\"],[\"P1306\"],[\"P1310\"],[\"P1312\"],[\"P1313\"],[\"P1320\"],[\"P1327\"],[\"P1333\"],[\"P1334\"],[\"P1339\"],[\"P1342\"],[\"P1345\"],[\"P1346\"],[\"P1350\"],[\"P1359\"],[\"P1361\"],[\"P1364\"],[\"P1370\"],[\"P1372\"],[\"P1374\"],[\"P1375\"],[\"P1378\"],[\"P1381\"],[\"P1387\"],[\"P1400\"],[\"P1402\"],[\"P1405\"],[\"P1407\"],[\"P1409\"],[\"P1410\"],[\"P1411\"],[\"P1415\"],[\"P1417\"],[\"P1426\"],[\"P1428\"],[\"P1432\"],[\"P1434\"],[\"P1440\"],[\"P1441\"],[\"P1444\"],[\"P1445\"],[\"P1450\"],[\"P1452\"],[\"P1455\"],[\"P1460\"],[\"P1463\"],[\"P1470\"],[\"P1471\"],[\"P1475\"],[\"P1477\"],[\"P1480\"],[\"P1481\"],[\"P1483\"],[\"P1484\"],[\"P1487\"],[\"P1490\"],[\"P1492\"],[\"P1497\"],[\"P1501\"],[\"P1503\"],[\"P1504\"],[\"P1505\"],[\"P1510\"],[\"P1515\"],[\"P1522\"],[\"P1527\"],[\"P1533\"],[\"P1536\"],[\"P1537\"],[\"P1541\"],[\"P1546\"],[\"P1549\"],[\"P1551\"],[\"P1553\"],[\"P1556\"],[\"P1564\"],[\"P1573\"],[\"P1578\"],[\"P1580\"],[\"P1584\"],[\"P1585\"],[\"P1591\"],[\"P1598\"],[\"P1606\"],[\"P1608\"],[\"P1618\"],[\"P1621\"],[\"P1623\"],[\"P1626\"],[\"P1629\"],[\"P1632\"],[\"P1640\"],[\"P1644\"],[\"P1645\"],[\"P1646\"],[\"P1647\"],[\"P1648\"],[\"P1652\"],[\"P1660\"],[\"P1661\"],[\"P1662\"],[\"P1664\"],[\"P1670\"],[\"P1672\"],[\"P1675\"],[\"P1676\"],[\"P1678\"],[\"P1689\"],[\"P1693\"],[\"P1699\"],[\"P1701\"],[\"P1702\"],[\"P1705\"],[\"P1710\"],[\"P1712\"],[\"P1713\"],[\"P1716\"],[\"P1717\"],[\"P1718\"],[\"P1719\"],[\"P1725\"],[\"P1729\"],[\"P1732\"],[\"P1733\"],[\"P1747\"],[\"P1748\"],[\"P1750\"],[\"P1759\"],[\"P1771\"],[\"P1782\"],[\"P1786\"],[\"P1791\"],[\"P1792\"],[\"P1801\"],[\"P1813\"],[\"P1815\"],[\"P1816\"],[\"P1817\"],[\"P1818\"],[\"P1819\"],[\"P1822\"],[\"P1830\"],[\"P1831\"],[\"P1832\"],[\"P1833\"],[\"P1835\"],[\"P1836\"],[\"P1837\"],[\"P1838\"],[\"P1845\"],[\"P1846\"],[\"P1851\"],[\"P1853\"],[\"P1861\"],[\"P1862\"],[\"P1870\"],[\"P1871\"],[\"P1878\"],[\"P1882\"],[\"P1886\"],[\"P1891\"],[\"P1892\"],[\"P1899\"],[\"P1901\"],[\"P1904\"],[\"P1907\"],[\"P1909\"],[\"P1920\"],[\"P1925\"],[\"P1928\"],[\"P1930\"],[\"P1937\"],[\"P1938\"],[\"P1942\"],[\"P1950\"],[\"P1953\"],[\"P1962\"],[\"P1963\"],[\"P1964\"],[\"P1965\"],[\"P1968\"],[\"P1969\"],[\"P1970\"],[\"P1975\"],[\"P1977\"],[\"P1979\"],[\"P1988\"],[\"P1990\"],[\"P1994\"],[\"P1998\"]],\"hovertemplate\":\"color=1\\u003cbr\\u003ePCA Component 1=%{x}\\u003cbr\\u003ePCA Component 2=%{y}\\u003cbr\\u003eproduct_id=%{customdata[0]}\\u003cextra\\u003e\\u003c\\u002fextra\\u003e\",\"legendgroup\":\"1\",\"marker\":{\"color\":\"#ab63fa\",\"opacity\":0.6,\"symbol\":\"circle\"},\"mode\":\"markers\",\"name\":\"1\",\"showlegend\":true,\"x\":[0.6367898949682896,0.7043732755205341,0.6864472660498054,0.7259493694094481,0.5101743684743667,0.7354901834691584,0.4712847789643899,0.7388797437045138,0.6810411496685356,0.7214562802750286,0.6456886625765526,0.7653718285491884,0.6864550360277785,0.6732140679878733,0.77159683253717,0.6256712276465481,0.7794825779279833,0.4872663328286575,0.777308503178856,0.516672943865852,0.5928149587809712,0.49903947645713304,0.7919271817817048,0.7542883310065427,0.8257919393451827,0.44323070202259096,0.7504263334037213,0.7511188970529029,0.7551532438579196,0.603650267673101,0.7492814592777484,0.6291535371567044,0.6234201854301302,0.7278247276845331,0.7244187252575949,0.6088099031561625,0.5127316712447477,0.7183261142822277,0.5088508618838238,0.7503721533518084,0.6337840418565234,0.6048661003705709,0.4155647703803784,0.7199168548751327,0.6207739613524299,0.6385273491082037,0.7219147382939769,0.6408389381780772,0.6933205238441265,0.5239401695190842,0.6645786654117033,0.4916928862226351,0.7329161232756942,0.7791708757048157,0.798219156157087,0.6056436110772396,0.6359016266108863,0.5668683907656755,0.6535715344796282,0.6383643848429561,0.702377979340207,0.5524339847718371,0.7511390334225605,0.7887769132244266,0.6711342553550483,0.6470545065614876,0.6677009227540388,0.6142010984024131,0.720668915414447,0.7607412093489209,0.6876475288372945,0.4550150052057284,0.7048027084775337,0.753579539500993,0.5885589806146551,0.5504210485788923,0.7624605736763439,0.5949076372299396,0.6721127855770683,0.6885968530916313,0.740108511886335,0.5241572597324307,0.7967564583330602,0.7059239382053779,0.46475967812614427,0.5876327477504828,0.7487666211169421,0.746431118844408,0.5996552641652682,0.623703505590298,0.7489288177852211,0.7815374048599211,0.6000145250517128,0.5892821514467201,0.6220260624178044,0.43411748217839863,0.5884042116566319,0.6033032134290255,0.46820236526599224,0.7605389020041751,0.7715803510098241,0.750644974474596,0.6577568378196439,0.35992870116361386,0.5195320317370207,0.7593058302030739,0.7223141497936385,0.6376058917405343,0.6216112312065576,0.8016796629378617,0.7556263376918975,0.697633485681463,0.5905596443007535,0.5484040771429632,0.6445535963173634,0.8330469875682622,0.5831616512673112,0.4873823341998932,0.45354656534156546,0.6710552305013765,0.6161407940387842,0.7728814557336352,0.7004978045074379,0.7165843799527547,0.5279347387786725,0.5674146320288423,0.6597842831035037,0.783011846121662,0.7092047890455251,0.7915308973329755,0.7126003740659149,0.7325948662313275,0.5756997474905972,0.46308668112614104,0.581606502878612,0.6264904361312457,0.49637371691977117,0.7871075998563818,0.6062844880335272,0.5509442035043773,0.7318171692541996,0.4918694428573507,0.5133742534232704,0.753227125275699,0.7931015543817166,0.4656931577521112,0.6000526755821258,0.7856402115670573,0.6406303936391223,0.8193724638526785,0.5909459936734257,0.45908434769190326,0.7611946512180754,0.5050345951041859,0.5353849638601487,0.548187771966732,0.5438298497146643,0.6204770159369228,0.760211852596868,0.7344693692051989,0.7578514070361055,0.7278899748718303,0.5777850053719467,0.5712865414492698,0.6965497047709774,0.4575410679150278,0.5316510640078418,0.7012379715941159,0.6933057059333081,0.5379086181658932,0.5321822284594373,0.7539979654427578,0.7323127035472987,0.7152134491445604,0.6445808252923024,0.7616794131500279,0.6060685536432404,0.5097056400601792,0.604257928927525,0.5883575532231446,0.6461226171443847,0.7910450802948265,0.6241718328999135,0.7695352289791532,0.6076998113981978,0.6147853099161279,0.6615367672089313,0.3888350366580968,0.6925494395598107,0.5925801311851819,0.6166658382008681,0.7384336172990132,0.7610952918244844,0.7741485635384158,0.5510342487798757,0.6080410886462144,0.6763833113679341,0.7633970403670891,0.7548512981298174,0.55560156628433,0.707730495818101,0.7110050003300674,0.4554984246125045,0.34034698129736013,0.7809395000989043,0.5147406040799751,0.6309351740332407,0.582882356120447,0.49369224870877093,0.7543960715092319,0.6033362223162655,0.6547220819529982,0.7610893665029389,0.6309471331861864,0.6469570046824316,0.7824963055897105,0.7371457747281883,0.43942798117262527,0.7040892109957932,0.502171878933523,0.7110549336814322,0.6173396989973914,0.5735303665040395,0.7428720271917231,0.4963529520761132,0.7867166330264155,0.7770439846045243,0.4437820978482578,0.7713871294023581,0.8075639511545105,0.6080886178512452,0.6310213617824054,0.3747514723069083,0.6608666016595508,0.5745755137130507,0.7452649700028546,0.5611629004267931,0.6636828260098891,0.6604904412236444,0.6390776502872305,0.6481892526794243,0.6291024803320036,0.5322551845095638,0.7196857109299366,0.7993709075125268,0.5215233912020134,0.6296934572452549,0.6480533090879281,0.7477486230053789,0.7639427396785052,0.5265084958463607,0.7497639062047126,0.5720094935340674,0.4669961297271006,0.7414094077783,0.63299659325706,0.7232505157050715,0.6126466330565625,0.5557784515781845,0.6186001739192146,0.5035826225563462,0.6045193904344688,0.6468421967781353,0.7005479833753254,0.4988301734479985,0.6814507017000405,0.5384051405988786,0.7186533158592663,0.7129620025528282,0.7347009500966153,0.6850497681167305,0.6678261645381515,0.7351776922640163,0.715687269231877,0.7325514220954126,0.6175380604802404,0.6293250185570074,0.6082627319722727,0.6676219144092204,0.7674201711886636,0.49783193551879273,0.5628463397444929,0.5444902844884348,0.6328434366837437,0.5959161952553925,0.5222408945896222,0.7159410557095729,0.5218580489748385,0.7298576699462234,0.7426585146224405,0.5194717962427485,0.5311508596373244,0.6261554240790284,0.6418167363168548,0.7716536831829348,0.693489069812042,0.7599402703075357,0.6912616623908754,0.7435089305810652,0.7161686456153276,0.7561361795730702,0.5717872066322738,0.6154350283354775,0.6052401802504555,0.5199330593425303,0.7978293964746681,0.681654115100417,0.4793224941054507,0.698710987198166,0.6475792492267252,0.6902305633675117,0.6273198101711672,0.5296700886036928,0.6780625700886527,0.6286787637014006,0.5317086245143623,0.7742633456165893,0.7196047914872645,0.6296992525859206,0.7194427418619284,0.6931042850725813,0.7873202397150116,0.5236558208944228,0.7581018436014026,0.6912894539850798,0.7408138592471285,0.40987902422724953,0.6838114746002455,0.6358915558187787,0.7468761199456722,0.770245944340729,0.7790831753795748,0.7499791821679194,0.6962118183368555,0.7521066373904853,0.7008703975456081,0.560418140039383,0.6208382170804447,0.5646797536271368,0.693399788914717,0.7068891388012458,0.6003825733668624,0.513248807444634,0.7721784775447524,0.6566951453493144,0.5745088695297419,0.7240434157664752,0.736834680099798,0.44921679156983474,0.7600106734857769,0.6260700545951369,0.6033624052569416,0.7541170332888341,0.7896985429783521,0.7617473173904753,0.6503060594157111,0.7004897429607412,0.7631357412388222,0.6100230914012352,0.7438569245129749,0.7669512149893669,0.6408822410894655,0.6128867833420926,0.5220004289958607,0.7603371382543649,0.6247514961582126,0.3639808531283143,0.6881436340647394,0.7870033948975287,0.6392691826604932,0.7574345569616361,0.5587002323597644,0.6233059548845775,0.713391853083494,0.5902107387009596,0.6871502964727461,0.761800140738426,0.5789115144556863,0.7593799993256005,0.5176734517276556,0.8187292667036437,0.7544422138213556,0.4061250574090036,0.5580230027118025,0.6234498747538737,0.7159374121916597,0.7797275339251467,0.7799579459109289,0.6822876681664215,0.5983597478809248,0.7269367158341808,0.6194288637008643,0.7623144414935094,0.6796158539040069,0.6592508000950481,0.5928713798472047,0.7020634648610202,0.7490169777117182,0.39361029959295113,0.7524719438397853,0.5847416357168131,0.740154919690786,0.7283716505611207,0.8262855390351017,0.6265640720972907,0.6559594878552268,0.5673924745327974,0.710204773641117,0.720546330207154,0.7125525560955368,0.651358719705748,0.6916911561292868,0.7720339194180359,0.7416060559948354,0.7485386686384323,0.43660392306983825,0.6026196037584673,0.6319497990958478,0.7888534601454961,0.6832532190576495,0.639753249740725,0.7952517598723006,0.6506539905832824,0.8269699675542772,0.6986982511255004,0.69908916279691,0.7653086244484637,0.7075102648979384,0.7712769724699509,0.4367969819137983,0.8160053257831938,0.6465871359574424,0.6793277876357142,0.7154423117634503,0.7264956221116574,0.7416340608797993,0.6354568005834285,0.7223020451976737,0.7160690961890941,0.6381417428213694,0.5995875525609338,0.7224380596502823,0.6906666755575439,0.6205915404599496,0.48473650463837903,0.5713621686899125,0.7805656742019049,0.7321821458920492,0.6344541169709732,0.581482681727855,0.5905855737017626,0.8058190750770718,0.49513463926601764,0.5839809729979715,0.5051302964896991,0.7413945900475302,0.5521771549411724,0.7832604325814345,0.744670185078294,0.7671342811376672,0.73754863328701,0.7921897914147834,0.7417413225008073,0.7418858473222188,0.4526000716947223,0.7452287699822235,0.7278770594483678,0.6204773930810599,0.5221859815419276,0.41567422462384795,0.6917902965650446,0.5934552747342348,0.6078294780485993,0.5576784661315852,0.8055023689656502,0.7898933843716007,0.6638310692424256,0.7247804990613207,0.6226343226394147,0.6331452641731122,0.6263566262317826,0.7063905291852429,0.7413463844488472,0.7743484080202061,0.623898625254728,0.5784132198567947,0.6523585094762947,0.7714563808683722,0.6772841054388047,0.5414174376360459,0.7464541955095361,0.8100529227763275,0.5228906144160954,0.6281803868634093,0.8093607646505137,0.7384669242896029,0.7017431754660266,0.7194494565912826,0.7917790371054283,0.7799381319868588,0.7557222785062542,0.7973946861740489,0.48071577599563287,0.5964427246545052,0.5197149429950683,0.6806270752303456,0.5465581423632077,0.5669406569730563,0.7731421731763579,0.5822836054539735,0.6458071465901221,0.520770417042677,0.7318842423643164,0.7563006719295702,0.7705785989597733,0.5829631531979593,0.4858463194460855,0.7625427677454153,0.5456977857051697,0.6524862104392859,0.7955862351498271,0.80993431306573,0.5962622865411795,0.5475204800285673,0.5840393716908383,0.6208856512576448,0.7930987597166568,0.667405854618474,0.6031121581623564,0.6555979683964388,0.7801453826863398,0.4370866210328672,0.4500996621321527,0.7488363389035966,0.5728681532183336,0.8220225164955656,0.6561779931531204],\"xaxis\":\"x\",\"y\":[-0.12259294936371334,-0.07766438993847821,-0.055399888053165355,-0.05219585870731819,-0.20907202727582103,-0.132222825814318,-0.1125912521882988,-0.15902590585982185,-0.024802016281614676,-0.0582405454947731,-0.18930299582779703,-0.16322130817404873,-0.05040615480468785,-0.0973156824033278,-0.1239940241896812,-0.018246229426730376,-0.10980729534834774,-0.05309995788319208,-0.15051555671044037,-0.08629043070263041,-0.20399403471634608,-0.19288541815567473,-0.1775386453344508,-0.10074948223511677,-0.11593268301795197,-0.043446632230317174,-0.1340824718851304,-0.06358271773099117,-0.03464545227461291,-0.28507582581196844,-0.11381376216992185,-0.09548321584933962,-0.10115068784447752,-0.10470290831082832,-0.07327854591784419,-0.22994736585947045,-0.07949850226412772,-0.2170087568741117,-0.10658171758292813,-0.04027171709164623,-0.11300643260899636,-0.13751754774105446,-0.12007368891940381,-0.13345921943151123,-0.1296691388460549,-0.06508821762865236,-0.05324155009435016,-0.2192550670040916,-0.11399758095125925,-0.10999554077583752,-0.20443655683120543,-0.17301638468824376,-0.05801584798812557,-0.10668941537611981,-0.1569896452745072,-0.27695001393832713,-0.06883412222907972,-0.16169912509809814,-0.009111884228079951,0.016332214163680216,-0.12640104965678045,-0.1354822992702968,-0.11126540531287857,-0.06383650455319884,-0.17285116255353483,0.00975351186422424,-0.20395464880218428,-0.10694331566059703,-0.1593334565071303,-0.1965657708580347,-0.043338333639969626,-0.14590572339790425,-0.10459270775454128,-0.08266775215387936,-0.13804508915891958,-0.17310704297203924,-0.1289856569399667,-0.21833929729778373,-0.0664886617843855,-0.11249433980612013,-0.1646512786398343,-0.09449055423959213,-0.17243942236588178,-0.025357639883826492,-0.03718228592912409,-0.21208404205701475,-0.07859412271749533,-0.26242914696572606,-0.24392027932598218,0.006635699927985222,-0.081056777785506,-0.17701215216029728,-0.21646861728418754,-0.0653316270438073,-0.21423931224030665,-0.09441152493767804,0.0032759135083875995,-0.015120522861347928,-0.11095757354015329,-0.11986032739595945,-0.18316524710595647,-0.19378433893332786,-0.1882035606201234,-0.16512055787461666,-0.15115620769654856,-0.08755363959592467,-0.06981932031725428,-0.10551629301107374,-0.09302863947739756,-0.12452141197262204,-0.10260472454480485,-0.18187901400153325,-0.14844844402976937,-0.10654246648812285,-0.20918250116298234,-0.14186928940162025,-0.09509799763934557,-0.011403823672688962,0.010380489639655644,-0.14421498970519553,-0.17961337796148397,-0.1231994033847938,-0.076549350149093,-0.01922750888504855,-0.049033541388479936,-0.015161710593008706,-0.03543680977404462,-0.15166445788787597,-0.017551514545237856,-0.17930442770095734,-0.10680062224592334,-0.04972819510500097,-0.07301665470182357,-0.16959119847683096,-0.2502506691636639,-0.09923536116163167,-0.08111307576496812,-0.13317855785726498,-0.1077642957024672,-0.1864659973501506,-0.018079252576314674,-0.04063465287579103,-0.12120841218491236,-0.21124421584236422,-0.12650183701269568,-0.18947957396582626,-0.15659580140363072,-0.13066326363365577,-0.16161260688086712,-0.13841449924342386,-0.14708283665223082,-0.18604710124913298,-0.10057196358059489,-0.10758162536980052,-0.0974597685521873,-0.15240358022485595,-0.1214465986619617,-0.1865380644020071,-0.13908437587092004,-0.0834836145666998,-0.1444414238106726,-0.22926940320747757,-0.01894798558573265,-0.1456884597288279,-0.09950630487208513,-0.09628840145745751,-0.2041941120789454,-0.08819254572957802,-0.07231076225510445,-0.17337010801013703,0.02246258590709508,-0.10543364387859686,-0.08514102196564043,-0.09816303073909724,-0.07236053537728918,-0.10016886085132568,-0.15048617828831612,-0.11088876038159147,-0.17580483987723,-0.06736874708854707,-0.18713625808833692,-0.14501578340394372,-0.09440903010501098,-0.18868944911788998,-0.12392755630777738,-0.2056004542221047,-0.1730088734045001,-0.19168873353159183,-0.12562939085808644,-0.10047253666972034,-0.026625036374079356,-0.18866071880125335,-0.027658917731553462,-0.030892438252937797,-0.13327570745527656,-0.16025449981242446,-0.11715742086697988,-0.1259344808258426,-0.046180774870734756,-0.1356436265565986,-0.0501855452280211,-0.025505701127145498,-0.2135137596696956,-0.11419460107836142,-0.09994933305884601,-0.09309291178716032,-0.14959576235089245,0.000554129730254707,-0.08257851970449852,-0.05602588462905256,-0.08242884223643869,-0.05530593744742265,-0.1279229156989777,-0.15271471059014444,-0.11830992869731036,-0.18045610426793268,-0.058137133885148254,-0.007237229463506723,-0.24492246504722515,-0.04436285513492438,-0.03144937619010192,-0.08247736111067047,-0.1586252848474496,-0.267279502916166,-0.17087627673531708,-0.20867260015223216,-0.13971249365670607,-0.12800141642195323,0.007511560891176751,-0.08959526672393381,-0.22640785478220116,-0.14935092708144057,-0.20299023523348667,-0.13325335676099823,-0.10679082643305715,-0.14199197409578895,-0.12501866296507982,0.022012837490527057,-0.08403206624195646,-0.057423008123511046,-0.09867943333167227,-0.061725010223478524,-0.061543690337493656,0.0013114946722015096,-0.04099550923046534,-0.14195017090384485,-0.002643006022675594,-0.11938115502754039,-0.14555162211396067,-0.08926219848836098,-0.0769272521130355,-0.03384214605619493,-0.017888074879252674,-0.15494412681754496,0.00797990854942783,-0.02312272128843034,-0.08072211197240518,-0.20335383507931587,-0.05713535927913502,-0.23490311675230907,-0.07599608079498116,-0.19380128613123349,-0.15580579478577275,-0.08423650315496062,-0.10747291500921652,-0.09883140307653207,-0.18989357980297605,-0.19248653954492229,-0.08914302388840459,-0.13382110845802203,-0.10081013713890989,-0.22308906440504525,-0.1280713434715557,-0.20497078173620809,-0.08362893040659948,-0.15218237834620313,-0.2405609118894013,-0.16141146805934997,-0.09408576792679435,-0.18212080160685196,-0.1781338181471426,-0.037264507398053294,-0.0293744778051289,-0.21405268924519527,-0.15422104310131063,-0.04467352890432226,-0.08150911404311914,-0.03278950263868605,-0.0667000687267634,-0.11282897562027003,-0.14493939093630084,-0.11365315437413001,-0.14993298390806117,-0.2205348302147933,-0.05736670080640741,-0.1745053843104894,-0.13762043955378908,-0.048326065493143285,-0.07636781787464014,-0.029619215095578535,-0.10264539442371642,-0.13618156253376695,-0.2066549165263626,-0.14196130017736233,-0.09316710512016949,-0.04979236441999554,-0.1387837301929466,-0.09799564280351525,-0.12877399278544557,-0.25537712057508877,0.009989043190326913,0.014364888045228818,-0.14583218651544064,-0.16876701652263504,-0.19375905204497762,-0.012442056133978944,-0.15230295340805844,-0.10034990395999233,-0.16944114983934006,-0.047608796662626074,-0.10146032775282052,-0.09146067234700601,-0.1294341155857992,-0.007364503375042374,-0.1421082988835117,-0.17641664091261997,0.14538944942032112,-0.03515712866078076,-0.08670863009089107,-0.1328050688498356,-0.09751665127646682,-0.09748536227078422,-0.18078057110377505,-0.0555127625504154,-0.15185958420721446,-0.17742376584048591,-0.15847125765472406,-0.20376585086890497,-0.10511825473221258,-0.13861170460896508,0.0022475776268298386,-0.17938667331553837,-0.10613334286232684,-0.18068791027206726,-0.21958294911259818,-0.23369427595820785,-0.09216794800098481,-0.06557238066880351,-0.1352433937645836,-0.14542156124634548,-0.09258852764809804,-0.051137047116015834,-0.15019239966980374,-0.12799124750868496,-0.13427515982968385,-0.1385910449762943,0.022730759091863652,-0.17048114385349172,-0.09238764230266894,-0.13598949092380727,-0.050246797978963226,-0.18206239512808423,-0.25569555833191376,0.0825714068935888,-0.16599315711194917,-0.1852639872585587,-0.229003134051795,-0.08648295867743953,-0.05630533542069686,0.026891290593848895,-0.19601016884173134,-0.11443123786239115,-0.20086788808557393,-0.05695013110928129,-0.2648919779527463,-0.0659040103777819,-0.08788879986701216,-0.1302567750637094,-0.07246323794126938,-0.036342981754415436,-0.11557695112270991,-0.17003444754322083,-0.17048776172618096,-0.20718440355265103,-0.06835687346322786,-0.024136212399176737,-0.11806570441223452,-0.06697697942259466,-0.2219511737186562,-0.07358116420455793,-0.10920960853531829,-0.2173405867095981,-0.08938524070455484,-0.04973292803444543,-0.16793876433804503,-0.08873260544520462,-0.05945307896900791,-0.1114686375668702,-0.09071501598169635,-0.008642537933020777,-0.2117697274916352,-0.15914170051763027,-0.03314632367675971,-0.11211288095070718,-0.09887811914716951,-0.14122751542440629,-0.19358604711611743,-0.2620576510207653,-0.02545726989134932,-0.1833855114637964,-0.18379061507914168,-0.06976183068148775,-0.1033285918069871,-0.16801161218475297,-0.12074597542531443,-0.11519193291172562,-0.042360719141057795,-0.0648305173144869,-0.03827878300840267,-0.16675790537684756,-0.12728609081211165,-0.16646100562483512,-0.023970300278246315,-0.1137695393684682,0.016749884195433443,-0.1614028503974425,-0.021498083860441716,-0.13972052969632515,-0.15350913644492348,-0.045026741052614214,-0.13808657964358068,-0.08064676627888694,-0.07470185412002384,-0.14786136720245913,-0.11902106872006185,-0.21792967230901147,-0.2004907110651036,-0.07793680001002519,-0.04377932053358821,-0.19724472836790422,-0.28860890724889887,-0.1828780654031483,-0.12375921707840712,-0.14416597805346124,-0.07405679093534297,-0.048339002318537015,-0.17376486198348104,-0.05300869622035836,-0.029768323189759267,-0.011270645477878488,-0.05911620348097332,-0.13840013902647458,0.06247108579974167,-0.056435684465494323,-0.06908952919595891,-0.05455205799448074,-0.1052080329138013,-0.1576039513130334,-0.15460444739753493,-0.13345175769289666,-0.1285329574386941,-0.1497161609974534,-0.19062136595072887,-0.1113972602509145,-0.09252132341153486,-0.06480787256562484,-0.1447939606013856,-0.03762723503551518,-0.14901480882815463,-0.1383046350467733,-0.09424065157791636,-0.11367739839839358,-0.11755765102848711,-0.10212972859057856,-0.07669820449063193,-0.18435128496088726,-0.07013221655039342,-0.0023660118958648575,-0.148202975554704,-0.08798727419278776,-0.2018602965408926,-0.20654141621632804,-0.08703260246748555,-0.16522234360943447,-0.1763477303504644,-0.08393519283514117,-0.04981794031460959,-0.06183770559447854,-0.03925024557076771,-0.15950441260692622,-0.038830184340342966,-0.1297065449884146,-0.08707322971167242,-0.05869731910073477,-0.1438280179617133,-0.1646801770753583,-0.10473912544191932,-0.22657108838152423,-0.1341277938739048,-0.12883601617442103,-0.20718585873508477,-0.11213083454902362,-0.0598306468243994,-0.09118813390111724,-0.09598473570840232,-0.10305942351252667,-0.04484487167792053,-0.028751009258980314,-0.17308860322068706,-0.038743265791723325,-0.16708904154682774,-0.19226947659252977,-0.08070740495976282,-0.03745439951067763,-0.08474768873650493,-0.18229913870166733,-0.07177713152993259,-0.0346684518111544,-0.1378349991515968,-0.14869170235369772,-0.060996325834985286,-0.13530943016115812,-0.028999818607785575,-0.15751521846783578,-0.21497782129070503,-0.23432028978733704,-0.1559649628025634,-0.07514496444760049,-0.20648274811452164,-0.18225858403552223,-0.025285686338050166,-0.01859994839824674,-0.034268682487299654,-0.013649419219357632,-0.25002244873204904,-0.11140161706868214,-0.04634203307049945],\"yaxis\":\"y\",\"type\":\"scattergl\"},{\"customdata\":[[\"P10\"],[\"P14\"],[\"P19\"],[\"P29\"],[\"P31\"],[\"P36\"],[\"P38\"],[\"P39\"],[\"P41\"],[\"P42\"],[\"P43\"],[\"P54\"],[\"P62\"],[\"P75\"],[\"P84\"],[\"P92\"],[\"P107\"],[\"P112\"],[\"P123\"],[\"P128\"],[\"P130\"],[\"P138\"],[\"P141\"],[\"P143\"],[\"P146\"],[\"P155\"],[\"P158\"],[\"P162\"],[\"P175\"],[\"P178\"],[\"P193\"],[\"P197\"],[\"P203\"],[\"P204\"],[\"P207\"],[\"P209\"],[\"P210\"],[\"P218\"],[\"P227\"],[\"P231\"],[\"P235\"],[\"P243\"],[\"P250\"],[\"P255\"],[\"P258\"],[\"P259\"],[\"P268\"],[\"P294\"],[\"P296\"],[\"P299\"],[\"P301\"],[\"P315\"],[\"P320\"],[\"P321\"],[\"P330\"],[\"P337\"],[\"P340\"],[\"P376\"],[\"P384\"],[\"P399\"],[\"P407\"],[\"P415\"],[\"P416\"],[\"P420\"],[\"P423\"],[\"P433\"],[\"P435\"],[\"P450\"],[\"P460\"],[\"P462\"],[\"P463\"],[\"P466\"],[\"P478\"],[\"P479\"],[\"P496\"],[\"P511\"],[\"P512\"],[\"P516\"],[\"P523\"],[\"P532\"],[\"P537\"],[\"P540\"],[\"P541\"],[\"P542\"],[\"P552\"],[\"P555\"],[\"P558\"],[\"P578\"],[\"P585\"],[\"P586\"],[\"P587\"],[\"P589\"],[\"P591\"],[\"P593\"],[\"P599\"],[\"P603\"],[\"P612\"],[\"P616\"],[\"P621\"],[\"P630\"],[\"P631\"],[\"P640\"],[\"P644\"],[\"P653\"],[\"P657\"],[\"P658\"],[\"P660\"],[\"P667\"],[\"P679\"],[\"P681\"],[\"P684\"],[\"P687\"],[\"P690\"],[\"P691\"],[\"P693\"],[\"P694\"],[\"P707\"],[\"P720\"],[\"P721\"],[\"P728\"],[\"P737\"],[\"P742\"],[\"P751\"],[\"P762\"],[\"P763\"],[\"P771\"],[\"P774\"],[\"P776\"],[\"P781\"],[\"P782\"],[\"P794\"],[\"P826\"],[\"P840\"],[\"P853\"],[\"P856\"],[\"P861\"],[\"P864\"],[\"P867\"],[\"P874\"],[\"P875\"],[\"P886\"],[\"P889\"],[\"P891\"],[\"P892\"],[\"P901\"],[\"P918\"],[\"P928\"],[\"P948\"],[\"P953\"],[\"P956\"],[\"P966\"],[\"P974\"],[\"P977\"],[\"P980\"],[\"P981\"],[\"P987\"],[\"P990\"],[\"P993\"],[\"P997\"],[\"P1000\"],[\"P1005\"],[\"P1011\"],[\"P1020\"],[\"P1030\"],[\"P1033\"],[\"P1039\"],[\"P1040\"],[\"P1071\"],[\"P1073\"],[\"P1080\"],[\"P1083\"],[\"P1084\"],[\"P1087\"],[\"P1104\"],[\"P1108\"],[\"P1120\"],[\"P1143\"],[\"P1148\"],[\"P1150\"],[\"P1170\"],[\"P1171\"],[\"P1174\"],[\"P1187\"],[\"P1195\"],[\"P1200\"],[\"P1204\"],[\"P1206\"],[\"P1208\"],[\"P1209\"],[\"P1213\"],[\"P1220\"],[\"P1222\"],[\"P1224\"],[\"P1226\"],[\"P1232\"],[\"P1243\"],[\"P1249\"],[\"P1261\"],[\"P1265\"],[\"P1275\"],[\"P1278\"],[\"P1281\"],[\"P1283\"],[\"P1284\"],[\"P1286\"],[\"P1298\"],[\"P1301\"],[\"P1308\"],[\"P1309\"],[\"P1317\"],[\"P1330\"],[\"P1341\"],[\"P1382\"],[\"P1384\"],[\"P1388\"],[\"P1389\"],[\"P1401\"],[\"P1403\"],[\"P1404\"],[\"P1412\"],[\"P1413\"],[\"P1416\"],[\"P1421\"],[\"P1425\"],[\"P1435\"],[\"P1446\"],[\"P1447\"],[\"P1456\"],[\"P1461\"],[\"P1469\"],[\"P1496\"],[\"P1499\"],[\"P1511\"],[\"P1532\"],[\"P1548\"],[\"P1560\"],[\"P1561\"],[\"P1565\"],[\"P1586\"],[\"P1590\"],[\"P1593\"],[\"P1596\"],[\"P1597\"],[\"P1604\"],[\"P1612\"],[\"P1613\"],[\"P1615\"],[\"P1624\"],[\"P1627\"],[\"P1628\"],[\"P1636\"],[\"P1650\"],[\"P1651\"],[\"P1657\"],[\"P1658\"],[\"P1674\"],[\"P1679\"],[\"P1698\"],[\"P1704\"],[\"P1709\"],[\"P1715\"],[\"P1727\"],[\"P1728\"],[\"P1730\"],[\"P1731\"],[\"P1749\"],[\"P1756\"],[\"P1758\"],[\"P1760\"],[\"P1761\"],[\"P1767\"],[\"P1772\"],[\"P1773\"],[\"P1775\"],[\"P1777\"],[\"P1778\"],[\"P1788\"],[\"P1790\"],[\"P1794\"],[\"P1796\"],[\"P1799\"],[\"P1802\"],[\"P1804\"],[\"P1811\"],[\"P1827\"],[\"P1834\"],[\"P1840\"],[\"P1849\"],[\"P1850\"],[\"P1855\"],[\"P1856\"],[\"P1860\"],[\"P1864\"],[\"P1868\"],[\"P1869\"],[\"P1876\"],[\"P1889\"],[\"P1896\"],[\"P1900\"],[\"P1912\"],[\"P1917\"],[\"P1926\"],[\"P1929\"],[\"P1936\"],[\"P1947\"],[\"P1952\"],[\"P1955\"],[\"P1958\"],[\"P1972\"],[\"P1973\"],[\"P1987\"],[\"P1997\"]],\"hovertemplate\":\"color=0\\u003cbr\\u003ePCA Component 1=%{x}\\u003cbr\\u003ePCA Component 2=%{y}\\u003cbr\\u003eproduct_id=%{customdata[0]}\\u003cextra\\u003e\\u003c\\u002fextra\\u003e\",\"legendgroup\":\"0\",\"marker\":{\"color\":\"#FFA15A\",\"opacity\":0.6,\"symbol\":\"circle\"},\"mode\":\"markers\",\"name\":\"0\",\"showlegend\":true,\"x\":[0.06906931829124628,-0.11214806918885425,0.02448518757639564,0.01593575845794044,-0.017223221935136035,-0.1279233648802934,0.0063782886861922725,0.005905837364764363,-0.10844230559931711,0.06962613581843943,0.05391995482099808,-0.09904558305099281,-0.06547400941207762,0.14363427019104147,-0.022163394644403745,0.011936265497922555,-0.019295053540352308,-0.032352945359593765,0.12883171690015152,-0.007985183467541276,-0.089757727871589,0.011420006952198634,-0.07829866928386836,-0.00849536667467083,-0.01909540008894302,0.07549838307821145,-0.0037435859276525457,-0.057782097744429335,-0.060635692043982045,-0.017706076780860447,0.1371193127651581,0.09965222488368984,-0.025508673409763132,-0.18292047834665578,-0.04513654470373306,0.047184621017959935,0.054400514462714405,0.03958158603490088,0.08591090597745939,-0.16458397826247748,0.06322508562356337,0.09374516750219225,0.01834244165745804,0.02774373329592099,-0.14429792096048855,0.01648816227811763,0.02233296699930312,-0.06303965204358315,-0.06916257560905828,-0.13010724537755974,-0.01487453627071082,-0.07712160132725887,-0.0077392910964632754,-0.06628417512778598,0.02737223582552023,0.10960771297393074,-0.16339964283996966,-0.117846948825525,0.04988366142137994,-0.0753615560345858,0.09380754182174202,0.04000711028526243,0.009780260166934382,-0.09583721088082735,-0.015456352465987543,0.06692035046137039,-0.09880654159704398,0.028468589345793587,-0.06872100182689049,0.06617751437083202,-0.03250022163371711,0.18381333616625767,-0.08021104631373902,0.018578678657250013,0.052811098352819316,0.0417059244924117,0.16533060386522033,-0.009317062972482585,-0.12614463628740222,0.023316993258227513,-0.0335790022926554,-0.00008276658410108495,0.05884956179868761,-0.07935023515436677,0.01268568293427817,-0.028432420868554818,0.008468922144895683,-0.01482431573956064,-0.12997583461149434,-0.039146007545061215,-0.05226934618902401,0.1418394470197787,0.14459103916379445,0.17485833950872484,-0.0973689765713023,0.004960286428227108,0.07785455714037315,-0.08592214803415635,-0.05529736716040134,-0.10224924159003154,-0.062328369977725256,0.047274403739192894,0.06668473114279534,0.18854754628229559,-0.09097563263885772,0.021414684412521645,0.09187894791057984,0.059212282027783114,0.01564799145050027,-0.03393490766094322,0.12608259152983128,0.04214908119361535,-0.08573691829617816,0.0026686074373697896,-0.06416300729266453,-0.16330284638003106,0.028013808309972802,0.08428235925582508,0.11024954940896406,0.06578446424483726,0.03988968005198129,0.05071157405841245,-0.1182693985579534,-0.06945884957258236,0.024824748171062803,-0.05777600217408473,-0.06507733943789709,-0.028210180401007885,0.11187195943815396,0.017140348646599107,-0.05634344332254251,-0.15115225248318787,-0.008580451990539386,-0.12378393796560312,0.03653904819215965,0.096647592725529,0.1291154889825603,-0.05820184896328939,-0.09311611165567789,-0.00628938931279382,0.06889363680492845,0.11719630466461264,0.06028939914911976,0.03262728196037672,-0.01694208780504595,-0.12655519586828204,0.08921266308430584,-0.12158270623810885,-0.04537680771585114,0.11160914311757476,0.062084967359093995,0.02939162768536774,0.002308201138907919,-0.0280694069543325,-0.1430194338143832,-0.018621358554880705,-0.07273863527563598,0.05155025660268281,-0.0634096524887591,0.07169581397027514,0.05345610283571575,0.0016479243342182176,-0.03211317929379427,0.04389013242447684,-0.18017114126510048,-0.06104355258924318,0.0021907042213529203,-0.05697538895444311,0.03210337379290833,-0.07951932496968972,-0.01565099923839687,-0.04346212867244843,-0.10780746898894365,0.14680062541954125,0.048551131187849754,0.06200786956934066,0.17886194989822163,-0.008126342762752314,-0.07852890989451135,-0.04820639173454845,0.09063051258274482,-0.12120466357420472,0.05794427527223961,0.12944495051659777,0.0021947208407528864,-0.02476743968772893,0.09555459689947081,-0.04415328205324234,-0.06978512859413807,0.06755490247411944,0.03202982334095916,0.005841128221934177,0.02723054235348564,0.1236727414066372,-0.163358165454353,0.0056412448295073934,0.10904066530273963,-0.06310558537301358,-0.006756565482761989,0.08377880034378643,-0.12369827617161328,0.09591665361383651,-0.12370385069459837,0.004083751433143677,-0.09340712586105906,0.09125296989432878,0.004053903827709625,0.021253052929813165,0.14642496729646914,-0.09718026223335319,0.08637204357837205,-0.09483903720292196,0.05680656963653475,0.07733715307880437,0.04627551598216566,-0.0065910651209317205,-0.0026755509256133,-0.0526708096959078,0.04987657380750429,0.028644545306787707,0.07257493253451043,0.12438525654834104,0.11415443007017725,-0.0680669917755704,0.02380859562934133,-0.1296920529139297,0.034601569649875194,-0.01378586457992627,0.041592455383274905,-0.13011312743722747,0.018556978403462966,-0.15601840228188257,0.16502532922659524,0.039482905587562914,0.05228163713639487,-0.018409997856025716,-0.017194602387499987,-0.013905979652569272,0.12405706589368523,0.01572230523675188,0.015209760935356208,-0.1819835560844022,0.14648802862993132,-0.04710576526278444,-0.0874189241587138,-0.11169133522662592,0.08467160324140412,-0.1549197936856213,-0.0857418578007976,-0.055870560332673014,0.023786615721298254,-0.16749754241941314,-0.04742024170386334,-0.1335322706120948,-0.14050841167856315,-0.0022387692472885176,0.11654952535465818,-0.12279254135408608,0.11540910221132779,-0.007277762215580755,-0.06353134311459911,0.012412139757443139,-0.04096442972431552,0.04935987250884134,-0.010810331088261842,-0.04272630299356703,0.12589381441013542,-0.01988749951642493,-0.08063843726034929,-0.04286995337091825,0.06379695702284036,-0.06075400609113366,-0.07242527304766469,-0.1150617971731632,-0.07815676400957676,-0.0030192059131680833,-0.019993212494148597,-0.07088265923737358,-0.04785106283384889,0.1480568195166419,-0.11039266653034743,-0.024018363855212103,0.01148793254596803,0.014367718205328773,-0.043907436619363714,0.03240627695341673,-0.14536799243511747,-0.06624732310313462,-0.10997692257883443,0.0119196324685864,-0.02236406547271438,-0.0007276896515503103,-0.08644810118421696,-0.26876285151614765,0.08481892775347975,0.005824395259516158,-0.01447056964841321,-0.14718005799696735,-0.07730489480303038,0.012965380282478376,-0.028350780625613053,0.035348494276289895,-0.001960847764369671,0.10789267592969384,-0.03529256685051299,0.10614132828148709,-0.0007575250855567234,0.024096847304992147,-0.11072897197621298,0.031128876447033466,-0.04336456325510015,0.04534142615216209],\"xaxis\":\"x\",\"y\":[-0.12794709319453645,-0.2957135369569519,-0.26874049987642346,-0.25060159020003114,-0.16644098555234474,-0.13391759888841898,-0.26322854880177154,-0.2682774554675212,-0.26736274524243075,-0.3724339181272561,-0.21662475421213648,-0.2065273522022294,-0.2537016016286254,-0.33776969537853996,-0.18104408947446515,-0.126482323989701,-0.3461253307435865,-0.08435674554007883,-0.13734350792751593,-0.26808141570572874,-0.24630722309186825,-0.13915667402737728,-0.29190155332819506,-0.14916746668624692,-0.06638018103514823,-0.2241476703463605,-0.24025022570651228,-0.2715610806828482,-0.04853532584883971,-0.13981465763849663,-0.39395667934532097,-0.22282784998043645,-0.23261836590260143,-0.2333436219484312,-0.369567273996693,-0.12123993942981731,-0.21877889511690402,-0.020340350785946645,-0.40351480060619815,-0.054602656488062645,-0.3356311028171859,-0.15541523093769832,-0.20481078393802332,-0.372645519015288,-0.22332324015212415,-0.10067324416589973,-0.24287308645602973,-0.09552326713250242,-0.2367578106560431,-0.13446049409705374,-0.29418456273257343,-0.2849693786642636,-0.0774479739673738,-0.13023212590197947,-0.3565457039917227,-0.18885736937707748,-0.2001196501092175,-0.27364019156497976,-0.11471930345527265,-0.1303764977101874,-0.2999625103053216,-0.32107059243358166,-0.1415227426852344,-0.2622902272903188,-0.08586031699067476,-0.23419891055819497,-0.2530966336354741,-0.0759550324522588,-0.2983271599536531,-0.19727494618241756,-0.1870423013973537,-0.3723343993867822,-0.19327522427507957,-0.06690387123620971,-0.16915803239490185,-0.20131484632441263,-0.22181854968243223,-0.12551645315602197,-0.16447748900522918,-0.24735163660848122,-0.03757276503241683,-0.23301133892302822,-0.15432034556487667,-0.1165115177062104,-0.32230618474227146,-0.17078941106448714,-0.14014429266826156,-0.36587780710987183,-0.2624900049385208,-0.2153010751627198,-0.2543744027934217,-0.33847755946538827,-0.2603218850015041,-0.35291773493443884,-0.20708361136884884,-0.143051407492779,-0.11247276721307531,-0.25967098318813775,-0.13515786474772962,-0.20860723354426242,-0.09936782928289906,-0.26343221943432404,-0.34128344728725535,-0.15773588578157968,-0.2967632038595378,-0.43747199943652215,-0.10893419120838224,-0.03710464264564026,-0.07003246485944001,-0.11390592922068786,-0.4257561911558711,-0.24975650234153496,-0.0638021293025958,0.019218572436983914,-0.13608528064061665,-0.28120019478858455,-0.2841855952777512,-0.3324316139469303,-0.30754330504114846,-0.08384169608332989,-0.31505696343478934,-0.05452607265624421,-0.24633853328474065,-0.17639642246221415,-0.01938026388274415,-0.2290924080604344,-0.25645597661803804,-0.3884990179589056,-0.18101215191752465,-0.07640147562298534,-0.17480590023352202,-0.19474156726771277,-0.17032650161789842,-0.1423145823892921,-0.2822452884934521,-0.24732723072758075,-0.10710041812578618,-0.04940308472360187,-0.3848163845597979,-0.10285342205572454,-0.14912403459981738,0.02676358567515644,-0.09605012282190462,-0.2609159448041261,-0.035460292085580374,-0.001706226463401267,-0.08792775169579586,-0.21340737606732557,-0.2391383104046804,-0.3402403707565523,-0.4182703112917113,-0.29747770628964665,-0.32522863169290306,-0.404534730658182,-0.034217536538557074,-0.3245497355034458,-0.11324633749812961,-0.2656536934705236,-0.04537497779551992,-0.2584379065120819,-0.23762586010535916,-0.17440726845971877,-0.4138782143829937,-0.0761286647920569,-0.2870736747183277,-0.2568639734382594,-0.26679203025640796,-0.30069328982207816,-0.1660761030223457,-0.09944306647032095,-0.1538109338708773,-0.01438503273390744,-0.25374398025326417,-0.19237171065106706,-0.27763730606445763,-0.30767006421250076,-0.19875403080273807,-0.3750856723399821,-0.16475258680379046,-0.36672728801746834,-0.1313373329995877,-0.340713804843832,-0.2397770135960851,-0.22735279687218166,-0.257232881628831,-0.15597093632811293,-0.37270147449674706,-0.3065563932718109,-0.1438307133825775,-0.32417189117138934,-0.11928986041182325,-0.040505981609520805,-0.07621470562183251,-0.23973237362616634,-0.19794305739881016,-0.3198002181877637,-0.34003429750983794,-0.16276495074013436,-0.24434453247432802,-0.30780151690988433,0.0102021850512002,-0.3905398118240426,-0.19862697112334765,-0.06436920476980139,-0.18997712779766135,-0.2897116918675504,-0.2536221178742487,-0.11345776155481582,-0.3124350336879542,-0.39082153099017325,-0.36232507705258155,-0.32602594723390665,-0.28649993374987637,-0.2617787236201083,-0.34561300658173,-0.351457247650804,-0.0435918077645092,-0.32258367981076347,-0.2733966334832805,-0.08985677814064194,-0.371706533313959,-0.19342544166525585,-0.22988252550818744,-0.12371924476359936,-0.24946841679391396,-0.04517398244614451,-0.21665625816395878,-0.11848689373608937,-0.3812987741359751,-0.24779405690089257,-0.053470997283962166,-0.0687645737374018,-0.27631093526003236,0.019412783294641654,-0.34438075898713993,-0.2309275925016015,-0.12119818835864588,-0.1846967130520396,-0.18337522136729353,-0.24128961480450303,-0.19824466375661623,-0.28810331524587085,-0.07280727658967927,-0.10681609407888311,-0.21467300128025932,-0.3420978616998285,-0.3174006260894231,-0.31354338056910147,-0.11299175135219065,-0.28989360821638605,-0.27400903490531947,-0.1375510932404317,-0.2047884023910821,-0.32299416474107895,-0.067394870953538,-0.23541874486127615,-0.031075432433592877,-0.28919196313080775,-0.16995192315901936,-0.026372045981682645,-0.0672269507239148,-0.28911864801256676,-0.1209392168630614,-0.07905538963663802,-0.12042313233910995,0.05960417357431452,-0.31345852942944774,-0.10403715513182057,-0.28842736558068105,-0.07848892620268104,-0.32956571277107793,-0.17493639829388175,-0.1123681948565504,-0.3133298707361756,-0.026442556068742063,-0.1470267266512204,-0.20609880751860482,-0.295127577512735,-0.26766921750951267,-0.20041077903560306,-0.2855703090424536,-0.2806894711586871,-0.22982244082314696,-0.30375263572153555,-0.25618209800604763,-0.09962200578545174,-0.2220915523772503,-0.23328551844108314,-0.06017330418256139,-0.2565541750714665,-0.29071894132508197,-0.09539339453845744,-0.25563301738621713,-0.23233716020574485,-0.2187247484688853,-0.33875214063608006,-0.1824777376231117,-0.22594837958042707,-0.23641129705311986,-0.24697937455676508,-0.29527290922022914,-0.04494309026013702,-0.023766984589912964,-0.3511615217709297,0.0023865970798796037,-0.21198944263440744,-0.17960673099885432,-0.12987957077282605,-0.15336328046670494,-0.2990999572802139,-0.10072449498218274,-0.2560111974811752],\"yaxis\":\"y\",\"type\":\"scattergl\"},{\"customdata\":[[\"P21\"],[\"P52\"],[\"P71\"],[\"P87\"],[\"P101\"],[\"P108\"],[\"P119\"],[\"P126\"],[\"P140\"],[\"P145\"],[\"P148\"],[\"P149\"],[\"P176\"],[\"P179\"],[\"P180\"],[\"P187\"],[\"P188\"],[\"P214\"],[\"P224\"],[\"P251\"],[\"P261\"],[\"P262\"],[\"P263\"],[\"P265\"],[\"P269\"],[\"P275\"],[\"P279\"],[\"P292\"],[\"P302\"],[\"P306\"],[\"P316\"],[\"P333\"],[\"P355\"],[\"P383\"],[\"P389\"],[\"P393\"],[\"P404\"],[\"P405\"],[\"P408\"],[\"P421\"],[\"P422\"],[\"P424\"],[\"P436\"],[\"P445\"],[\"P451\"],[\"P468\"],[\"P481\"],[\"P487\"],[\"P492\"],[\"P502\"],[\"P531\"],[\"P534\"],[\"P535\"],[\"P536\"],[\"P538\"],[\"P543\"],[\"P565\"],[\"P568\"],[\"P571\"],[\"P584\"],[\"P602\"],[\"P614\"],[\"P622\"],[\"P652\"],[\"P655\"],[\"P683\"],[\"P708\"],[\"P738\"],[\"P741\"],[\"P807\"],[\"P817\"],[\"P821\"],[\"P824\"],[\"P831\"],[\"P834\"],[\"P836\"],[\"P848\"],[\"P849\"],[\"P872\"],[\"P884\"],[\"P927\"],[\"P967\"],[\"P968\"],[\"P995\"],[\"P1001\"],[\"P1038\"],[\"P1043\"],[\"P1045\"],[\"P1050\"],[\"P1076\"],[\"P1077\"],[\"P1078\"],[\"P1081\"],[\"P1091\"],[\"P1095\"],[\"P1103\"],[\"P1105\"],[\"P1113\"],[\"P1115\"],[\"P1119\"],[\"P1134\"],[\"P1146\"],[\"P1147\"],[\"P1149\"],[\"P1166\"],[\"P1167\"],[\"P1168\"],[\"P1179\"],[\"P1223\"],[\"P1228\"],[\"P1237\"],[\"P1252\"],[\"P1253\"],[\"P1279\"],[\"P1290\"],[\"P1318\"],[\"P1321\"],[\"P1322\"],[\"P1323\"],[\"P1326\"],[\"P1337\"],[\"P1343\"],[\"P1376\"],[\"P1380\"],[\"P1386\"],[\"P1397\"],[\"P1398\"],[\"P1408\"],[\"P1430\"],[\"P1433\"],[\"P1437\"],[\"P1448\"],[\"P1457\"],[\"P1476\"],[\"P1478\"],[\"P1479\"],[\"P1491\"],[\"P1502\"],[\"P1523\"],[\"P1526\"],[\"P1542\"],[\"P1599\"],[\"P1605\"],[\"P1617\"],[\"P1654\"],[\"P1667\"],[\"P1669\"],[\"P1671\"],[\"P1677\"],[\"P1680\"],[\"P1690\"],[\"P1691\"],[\"P1706\"],[\"P1707\"],[\"P1714\"],[\"P1721\"],[\"P1735\"],[\"P1736\"],[\"P1738\"],[\"P1743\"],[\"P1746\"],[\"P1754\"],[\"P1805\"],[\"P1807\"],[\"P1808\"],[\"P1824\"],[\"P1826\"],[\"P1842\"],[\"P1859\"],[\"P1863\"],[\"P1880\"],[\"P1885\"],[\"P1894\"],[\"P1895\"],[\"P1903\"],[\"P1908\"],[\"P1910\"],[\"P1916\"],[\"P1921\"],[\"P1927\"],[\"P1931\"],[\"P1932\"],[\"P1951\"],[\"P1959\"],[\"P1974\"],[\"P1991\"],[\"P1996\"],[\"P1999\"]],\"hovertemplate\":\"color=2\\u003cbr\\u003ePCA Component 1=%{x}\\u003cbr\\u003ePCA Component 2=%{y}\\u003cbr\\u003eproduct_id=%{customdata[0]}\\u003cextra\\u003e\\u003c\\u002fextra\\u003e\",\"legendgroup\":\"2\",\"marker\":{\"color\":\"#19d3f3\",\"opacity\":0.6,\"symbol\":\"circle\"},\"mode\":\"markers\",\"name\":\"2\",\"showlegend\":true,\"x\":[0.1281734655673855,0.1296278893982818,0.022747011618002896,0.12746815429173508,0.06566300676719099,-0.019608644572055786,0.00743835655914162,0.11037682236271018,-0.03694026717984206,0.0643016747285077,0.014798344642651827,-0.0016281330251275376,-0.01545395854584692,0.1001061903567356,-0.005793407548205898,0.020750613925592003,0.16974870516836987,0.10113581126620913,0.10106340743898726,-0.03262143715725809,0.04198010580445609,0.018889992310327168,0.06303841929715277,0.08857300134477944,0.062476222999662906,0.029915820457409877,0.09098148737894113,-0.0263607669168595,0.12012561574478886,0.05726618609498005,0.029841456101118786,0.022790235221072225,0.02585888446945936,0.06286271205116006,0.030844155091593557,0.032393750340728,-0.04530290542567784,0.02216546998544173,0.1769418258539155,0.021441111068123006,0.08712584295180423,0.1652765796406908,-0.030503249451562815,0.11613075963435573,0.03744067474199725,0.053194012895025705,0.02467571888580742,0.074164549972276,0.05933569225147342,0.08301175782518701,0.037636801883714904,0.10596597629212248,0.05249742012223389,0.0428564251641666,0.096965016080581,-0.03615314062916919,0.010213326160577844,0.07811613265651227,0.05352099013733222,0.07693727001032624,0.11346332890195923,-0.024352138106922376,-0.010036974445662952,0.005565946860183883,0.0315872642541421,0.15289505095420614,-0.05162599939291579,0.042141803584564846,0.07325095162117656,-0.06380937500688795,0.13193818506800062,0.022349782278701453,0.13555533439736356,0.07713836880356259,0.09387754865607498,0.13870531127344027,0.05510636161948886,0.03699803620245743,-0.01091968767330977,0.013157036093732942,0.09066673772619518,0.09769464058886915,-0.04254471753713525,0.06846866274759379,0.07024291749061863,2.649247706797749e-6,0.09191162085782391,0.0719728422669322,0.0767559752889489,-0.032199859680796875,0.1580900122007848,0.08505433595507368,0.11940468328913012,0.04615241660574536,0.07791660059251145,0.028392618544545115,0.07897664423245704,0.08862437028137346,0.06436515459395933,-0.027494971711655186,0.0835144701055272,0.07190373135659023,0.07386368206454975,0.010715582632524638,-0.07249280504922129,0.09136493911114708,0.04548706421836171,0.09572788080081385,0.07617562237303296,0.09474193120709451,0.025291148695535635,0.09888908178174108,-0.0390721439817089,0.08297876842422307,0.1786399057206547,0.04162258306030685,0.06906647266576715,0.09781642477514027,0.17401051204390888,0.0502261473381735,0.007038357720682545,0.25322656339200866,0.08471029314788542,0.08139168937184968,0.037824200119874404,0.030899384817388104,0.1284151419360137,0.12140023969739747,0.11734529337730802,0.11855385811716848,0.1751463913775225,0.11842894146202582,0.09290308419237443,0.010894020842731663,0.032415768295970475,0.04643712458233449,-0.013857874853584333,0.08527543603613894,-0.06031925793782131,0.03302861962217496,-0.03318426050485447,0.012808798041197701,0.11965189545804358,0.20348888800497333,0.05698391017113888,0.05959412544034068,0.030232990971271738,0.20312538044910505,-0.015067888393558534,-0.03489147005945992,0.06829704307103207,0.09736831137065768,0.03210435963448355,0.07579758959754304,0.033283296539196615,0.01900910930818595,0.11611471987116045,0.024501329623810277,0.0043080763586525374,0.1666390593444358,0.009572913545137606,0.13416172153272796,0.05629638489354129,0.033496999966061675,0.08522649107465788,0.0370138309330387,0.11189107033095486,0.17324442419512465,0.10879729488784187,0.00975816938215083,0.12363837595526553,0.038320790732736566,0.05242836432093541,0.09523213565727567,0.09320967473620416,0.11588889019095612,0.03835027633203211,0.008262765354097375,0.08417823242186906,0.007959626279244125,0.04136389464483892,0.00713299960256594,0.0235624217703042,0.05697927133227733,0.12021214446694953,0.018896768769126923,0.1396634199790696,0.017766770804152072],\"xaxis\":\"x\",\"y\":[-0.5431935454798205,-0.6618096145123125,-0.571387502940075,-0.6618537214591238,-0.6109359624164121,-0.5536690430479629,-0.6076861654772769,-0.6099670348775375,-0.4282224713491213,-0.6146851901089148,-0.6113969288751772,-0.5240329276562667,-0.32953370112882957,-0.5644234129518845,-0.610842705364202,-0.6765171748108565,-0.5594597194654752,-0.6207021198594163,-0.6337794209599248,-0.45396781255230423,-0.6297366897927485,-0.6474247339424588,-0.5958865448736943,-0.7548043272522185,-0.6859451100572648,-0.6600238030108574,-0.6590074555787727,-0.48208804612755973,-0.5562836891381532,-0.513125308049234,-0.5989542584190095,-0.6213545858215319,-0.5766083058533882,-0.5291073425562656,-0.5982336987221545,-0.4716866692151044,-0.43054446610498676,-0.6153286557545152,-0.5581645511211734,-0.6025167941375502,-0.588505511447779,-0.6133309920305104,-0.6299063696342657,-0.6977173766522522,-0.6974491587940783,-0.7341334398129522,-0.3926046429660052,-0.6256347597498448,-0.7050093320326964,-0.628891538278322,-0.5108525117601217,-0.7120335328592622,-0.6573144282869303,-0.7135875295648331,-0.6464855540884382,-0.42786292189501224,-0.5375458474743295,-0.6313348739170518,-0.5674701101448817,-0.5340803014023467,-0.6300350688429532,-0.31566461780178295,-0.6204323363001324,-0.5993521213311652,-0.48455824434831385,-0.4498009427840735,-0.5031105574749063,-0.6243387900993598,-0.631313015677729,-0.38894473983099964,-0.6625803049680309,-0.5590943026673902,-0.5684496293866479,-0.5719647743499097,-0.6816840597880907,-0.6086639171161274,-0.6492407211239296,-0.6315646906939396,-0.5921041974721765,-0.5415108283995387,-0.7354749105082706,-0.6564949033701393,-0.6195317815006797,-0.7074181993901438,-0.6219419092441499,-0.6404907365836607,-0.691485579863006,-0.6014446710383614,-0.6975773508922165,-0.4301155739835165,-0.5004544341893633,-0.5418080736912885,-0.6569840125939441,-0.6539933729707388,-0.5151051466333314,-0.7105562835213121,-0.5119694114696665,-0.5420969273904236,-0.6195139300463762,-0.497433364019525,-0.5458629692962023,-0.6193201377976879,-0.5195366662760025,-0.6889695983600205,-0.629076953919341,-0.6191280217086181,-0.5824856100704796,-0.6654410081593569,-0.7145501477397389,-0.6628433283800387,-0.6875509884687139,-0.6664883516797708,-0.5456718281317784,-0.6487879045945806,-0.5635822639636177,-0.6941761730329217,-0.588827227310838,-0.4894949320677861,-0.6305631985729061,-0.5749969455520147,-0.7248140512697105,-0.45604256979546953,-0.6182648615440509,-0.6191633349963908,-0.6245687865240837,-0.6076027080841917,-0.6379974056695157,-0.646258223013507,-0.5876460802903403,-0.6735992143273157,-0.46431954856671004,-0.6415688425243229,-0.5807709733124493,-0.6261703800025417,-0.6677035036800729,-0.6233670587820668,-0.44880028761087304,-0.5223148110887885,-0.44838139315770154,-0.541850317045791,-0.46593596597930587,-0.6264951500747225,-0.7161257937658894,-0.5984257012462871,-0.5028587173269448,-0.5966873606875325,-0.6599445132060286,-0.540111231520483,-0.5606035280600943,-0.5365385888133354,-0.6575886751858051,-0.5332765822161492,-0.5999218008284077,-0.5125733477611083,-0.6193936949724065,-0.3353778491150652,-0.6433971473370976,-0.6277034774999115,-0.610415213527806,-0.65076115401116,-0.5781707136602638,-0.6088587998660442,-0.4775549125938611,-0.4976930280374373,-0.6313088013535808,-0.7400428768627864,-0.44569399637199886,-0.5979607910101883,-0.646875000130023,-0.526062766961185,-0.6231983587877864,-0.6681778581952632,-0.5898510710648734,-0.48561570490830597,-0.637320503841462,-0.6374104569107542,-0.627480732577581,-0.5232624394837504,-0.6206187807533038,-0.5866956604314607,-0.6183242764861427,-0.4513361304135129,-0.5999276512545464,-0.6231452677287908,-0.59617810725367,-0.5793480370874184,-0.6296858889845355,-0.6780477648764023],\"yaxis\":\"y\",\"type\":\"scattergl\"}],                        {\"template\":{\"data\":{\"histogram2dcontour\":[{\"type\":\"histogram2dcontour\",\"colorbar\":{\"outlinewidth\":0,\"ticks\":\"\"},\"colorscale\":[[0.0,\"#0d0887\"],[0.1111111111111111,\"#46039f\"],[0.2222222222222222,\"#7201a8\"],[0.3333333333333333,\"#9c179e\"],[0.4444444444444444,\"#bd3786\"],[0.5555555555555556,\"#d8576b\"],[0.6666666666666666,\"#ed7953\"],[0.7777777777777778,\"#fb9f3a\"],[0.8888888888888888,\"#fdca26\"],[1.0,\"#f0f921\"]]}],\"choropleth\":[{\"type\":\"choropleth\",\"colorbar\":{\"outlinewidth\":0,\"ticks\":\"\"}}],\"histogram2d\":[{\"type\":\"histogram2d\",\"colorbar\":{\"outlinewidth\":0,\"ticks\":\"\"},\"colorscale\":[[0.0,\"#0d0887\"],[0.1111111111111111,\"#46039f\"],[0.2222222222222222,\"#7201a8\"],[0.3333333333333333,\"#9c179e\"],[0.4444444444444444,\"#bd3786\"],[0.5555555555555556,\"#d8576b\"],[0.6666666666666666,\"#ed7953\"],[0.7777777777777778,\"#fb9f3a\"],[0.8888888888888888,\"#fdca26\"],[1.0,\"#f0f921\"]]}],\"heatmap\":[{\"type\":\"heatmap\",\"colorbar\":{\"outlinewidth\":0,\"ticks\":\"\"},\"colorscale\":[[0.0,\"#0d0887\"],[0.1111111111111111,\"#46039f\"],[0.2222222222222222,\"#7201a8\"],[0.3333333333333333,\"#9c179e\"],[0.4444444444444444,\"#bd3786\"],[0.5555555555555556,\"#d8576b\"],[0.6666666666666666,\"#ed7953\"],[0.7777777777777778,\"#fb9f3a\"],[0.8888888888888888,\"#fdca26\"],[1.0,\"#f0f921\"]]}],\"heatmapgl\":[{\"type\":\"heatmapgl\",\"colorbar\":{\"outlinewidth\":0,\"ticks\":\"\"},\"colorscale\":[[0.0,\"#0d0887\"],[0.1111111111111111,\"#46039f\"],[0.2222222222222222,\"#7201a8\"],[0.3333333333333333,\"#9c179e\"],[0.4444444444444444,\"#bd3786\"],[0.5555555555555556,\"#d8576b\"],[0.6666666666666666,\"#ed7953\"],[0.7777777777777778,\"#fb9f3a\"],[0.8888888888888888,\"#fdca26\"],[1.0,\"#f0f921\"]]}],\"contourcarpet\":[{\"type\":\"contourcarpet\",\"colorbar\":{\"outlinewidth\":0,\"ticks\":\"\"}}],\"contour\":[{\"type\":\"contour\",\"colorbar\":{\"outlinewidth\":0,\"ticks\":\"\"},\"colorscale\":[[0.0,\"#0d0887\"],[0.1111111111111111,\"#46039f\"],[0.2222222222222222,\"#7201a8\"],[0.3333333333333333,\"#9c179e\"],[0.4444444444444444,\"#bd3786\"],[0.5555555555555556,\"#d8576b\"],[0.6666666666666666,\"#ed7953\"],[0.7777777777777778,\"#fb9f3a\"],[0.8888888888888888,\"#fdca26\"],[1.0,\"#f0f921\"]]}],\"surface\":[{\"type\":\"surface\",\"colorbar\":{\"outlinewidth\":0,\"ticks\":\"\"},\"colorscale\":[[0.0,\"#0d0887\"],[0.1111111111111111,\"#46039f\"],[0.2222222222222222,\"#7201a8\"],[0.3333333333333333,\"#9c179e\"],[0.4444444444444444,\"#bd3786\"],[0.5555555555555556,\"#d8576b\"],[0.6666666666666666,\"#ed7953\"],[0.7777777777777778,\"#fb9f3a\"],[0.8888888888888888,\"#fdca26\"],[1.0,\"#f0f921\"]]}],\"mesh3d\":[{\"type\":\"mesh3d\",\"colorbar\":{\"outlinewidth\":0,\"ticks\":\"\"}}],\"scatter\":[{\"fillpattern\":{\"fillmode\":\"overlay\",\"size\":10,\"solidity\":0.2},\"type\":\"scatter\"}],\"parcoords\":[{\"type\":\"parcoords\",\"line\":{\"colorbar\":{\"outlinewidth\":0,\"ticks\":\"\"}}}],\"scatterpolargl\":[{\"type\":\"scatterpolargl\",\"marker\":{\"colorbar\":{\"outlinewidth\":0,\"ticks\":\"\"}}}],\"bar\":[{\"error_x\":{\"color\":\"#2a3f5f\"},\"error_y\":{\"color\":\"#2a3f5f\"},\"marker\":{\"line\":{\"color\":\"#E5ECF6\",\"width\":0.5},\"pattern\":{\"fillmode\":\"overlay\",\"size\":10,\"solidity\":0.2}},\"type\":\"bar\"}],\"scattergeo\":[{\"type\":\"scattergeo\",\"marker\":{\"colorbar\":{\"outlinewidth\":0,\"ticks\":\"\"}}}],\"scatterpolar\":[{\"type\":\"scatterpolar\",\"marker\":{\"colorbar\":{\"outlinewidth\":0,\"ticks\":\"\"}}}],\"histogram\":[{\"marker\":{\"pattern\":{\"fillmode\":\"overlay\",\"size\":10,\"solidity\":0.2}},\"type\":\"histogram\"}],\"scattergl\":[{\"type\":\"scattergl\",\"marker\":{\"colorbar\":{\"outlinewidth\":0,\"ticks\":\"\"}}}],\"scatter3d\":[{\"type\":\"scatter3d\",\"line\":{\"colorbar\":{\"outlinewidth\":0,\"ticks\":\"\"}},\"marker\":{\"colorbar\":{\"outlinewidth\":0,\"ticks\":\"\"}}}],\"scattermapbox\":[{\"type\":\"scattermapbox\",\"marker\":{\"colorbar\":{\"outlinewidth\":0,\"ticks\":\"\"}}}],\"scatterternary\":[{\"type\":\"scatterternary\",\"marker\":{\"colorbar\":{\"outlinewidth\":0,\"ticks\":\"\"}}}],\"scattercarpet\":[{\"type\":\"scattercarpet\",\"marker\":{\"colorbar\":{\"outlinewidth\":0,\"ticks\":\"\"}}}],\"carpet\":[{\"aaxis\":{\"endlinecolor\":\"#2a3f5f\",\"gridcolor\":\"white\",\"linecolor\":\"white\",\"minorgridcolor\":\"white\",\"startlinecolor\":\"#2a3f5f\"},\"baxis\":{\"endlinecolor\":\"#2a3f5f\",\"gridcolor\":\"white\",\"linecolor\":\"white\",\"minorgridcolor\":\"white\",\"startlinecolor\":\"#2a3f5f\"},\"type\":\"carpet\"}],\"table\":[{\"cells\":{\"fill\":{\"color\":\"#EBF0F8\"},\"line\":{\"color\":\"white\"}},\"header\":{\"fill\":{\"color\":\"#C8D4E3\"},\"line\":{\"color\":\"white\"}},\"type\":\"table\"}],\"barpolar\":[{\"marker\":{\"line\":{\"color\":\"#E5ECF6\",\"width\":0.5},\"pattern\":{\"fillmode\":\"overlay\",\"size\":10,\"solidity\":0.2}},\"type\":\"barpolar\"}],\"pie\":[{\"automargin\":true,\"type\":\"pie\"}]},\"layout\":{\"autotypenumbers\":\"strict\",\"colorway\":[\"#636efa\",\"#EF553B\",\"#00cc96\",\"#ab63fa\",\"#FFA15A\",\"#19d3f3\",\"#FF6692\",\"#B6E880\",\"#FF97FF\",\"#FECB52\"],\"font\":{\"color\":\"#2a3f5f\"},\"hovermode\":\"closest\",\"hoverlabel\":{\"align\":\"left\"},\"paper_bgcolor\":\"white\",\"plot_bgcolor\":\"#E5ECF6\",\"polar\":{\"bgcolor\":\"#E5ECF6\",\"angularaxis\":{\"gridcolor\":\"white\",\"linecolor\":\"white\",\"ticks\":\"\"},\"radialaxis\":{\"gridcolor\":\"white\",\"linecolor\":\"white\",\"ticks\":\"\"}},\"ternary\":{\"bgcolor\":\"#E5ECF6\",\"aaxis\":{\"gridcolor\":\"white\",\"linecolor\":\"white\",\"ticks\":\"\"},\"baxis\":{\"gridcolor\":\"white\",\"linecolor\":\"white\",\"ticks\":\"\"},\"caxis\":{\"gridcolor\":\"white\",\"linecolor\":\"white\",\"ticks\":\"\"}},\"coloraxis\":{\"colorbar\":{\"outlinewidth\":0,\"ticks\":\"\"}},\"colorscale\":{\"sequential\":[[0.0,\"#0d0887\"],[0.1111111111111111,\"#46039f\"],[0.2222222222222222,\"#7201a8\"],[0.3333333333333333,\"#9c179e\"],[0.4444444444444444,\"#bd3786\"],[0.5555555555555556,\"#d8576b\"],[0.6666666666666666,\"#ed7953\"],[0.7777777777777778,\"#fb9f3a\"],[0.8888888888888888,\"#fdca26\"],[1.0,\"#f0f921\"]],\"sequentialminus\":[[0.0,\"#0d0887\"],[0.1111111111111111,\"#46039f\"],[0.2222222222222222,\"#7201a8\"],[0.3333333333333333,\"#9c179e\"],[0.4444444444444444,\"#bd3786\"],[0.5555555555555556,\"#d8576b\"],[0.6666666666666666,\"#ed7953\"],[0.7777777777777778,\"#fb9f3a\"],[0.8888888888888888,\"#fdca26\"],[1.0,\"#f0f921\"]],\"diverging\":[[0,\"#8e0152\"],[0.1,\"#c51b7d\"],[0.2,\"#de77ae\"],[0.3,\"#f1b6da\"],[0.4,\"#fde0ef\"],[0.5,\"#f7f7f7\"],[0.6,\"#e6f5d0\"],[0.7,\"#b8e186\"],[0.8,\"#7fbc41\"],[0.9,\"#4d9221\"],[1,\"#276419\"]]},\"xaxis\":{\"gridcolor\":\"white\",\"linecolor\":\"white\",\"ticks\":\"\",\"title\":{\"standoff\":15},\"zerolinecolor\":\"white\",\"automargin\":true,\"zerolinewidth\":2},\"yaxis\":{\"gridcolor\":\"white\",\"linecolor\":\"white\",\"ticks\":\"\",\"title\":{\"standoff\":15},\"zerolinecolor\":\"white\",\"automargin\":true,\"zerolinewidth\":2},\"scene\":{\"xaxis\":{\"backgroundcolor\":\"#E5ECF6\",\"gridcolor\":\"white\",\"linecolor\":\"white\",\"showbackground\":true,\"ticks\":\"\",\"zerolinecolor\":\"white\",\"gridwidth\":2},\"yaxis\":{\"backgroundcolor\":\"#E5ECF6\",\"gridcolor\":\"white\",\"linecolor\":\"white\",\"showbackground\":true,\"ticks\":\"\",\"zerolinecolor\":\"white\",\"gridwidth\":2},\"zaxis\":{\"backgroundcolor\":\"#E5ECF6\",\"gridcolor\":\"white\",\"linecolor\":\"white\",\"showbackground\":true,\"ticks\":\"\",\"zerolinecolor\":\"white\",\"gridwidth\":2}},\"shapedefaults\":{\"line\":{\"color\":\"#2a3f5f\"}},\"annotationdefaults\":{\"arrowcolor\":\"#2a3f5f\",\"arrowhead\":0,\"arrowwidth\":1},\"geo\":{\"bgcolor\":\"white\",\"landcolor\":\"#E5ECF6\",\"subunitcolor\":\"white\",\"showland\":true,\"showlakes\":true,\"lakecolor\":\"white\"},\"title\":{\"x\":0.05},\"mapbox\":{\"style\":\"light\"}}},\"xaxis\":{\"anchor\":\"y\",\"domain\":[0.0,1.0],\"title\":{\"text\":\"PCA Component 1\"}},\"yaxis\":{\"anchor\":\"x\",\"domain\":[0.0,1.0],\"title\":{\"text\":\"PCA Component 2\"}},\"legend\":{\"title\":{\"text\":\"Clusters\"},\"tracegroupgap\":0,\"x\":1,\"y\":1},\"title\":{\"text\":\"2D Visualization of Clusters with Recently Viewed Products\"},\"width\":600,\"height\":500},                        {\"responsive\": true}                    ).then(function(){\n",
              "                            \n",
              "var gd = document.getElementById('7641f565-c95f-4123-945d-86b5da1a9f1d');\n",
              "var x = new MutationObserver(function (mutations, observer) {{\n",
              "        var display = window.getComputedStyle(gd).display;\n",
              "        if (!display || display === 'none') {{\n",
              "            console.log([gd, 'removed!']);\n",
              "            Plotly.purge(gd);\n",
              "            observer.disconnect();\n",
              "        }}\n",
              "}});\n",
              "\n",
              "// Listen for the removal of the full notebook cells\n",
              "var notebookContainer = gd.closest('#notebook-container');\n",
              "if (notebookContainer) {{\n",
              "    x.observe(notebookContainer, {childList: true});\n",
              "}}\n",
              "\n",
              "// Listen for the clearing of the current output cell\n",
              "var outputEl = gd.closest('.output');\n",
              "if (outputEl) {{\n",
              "    x.observe(outputEl, {childList: true});\n",
              "}}\n",
              "\n",
              "                        })                };                            </script>        </div>\n",
              "</body>\n",
              "</html>"
            ]
          },
          "metadata": {}
        }
      ]
    },
    {
      "cell_type": "markdown",
      "source": [
        "# TASK 5 Recommend the Products based on Recently viewed Products"
      ],
      "metadata": {
        "id": "oy841--tTp9N"
      }
    },
    {
      "cell_type": "code",
      "source": [
        "recently_viewed_products = [\n",
        "    'P316',\n",
        "    'P333',\n",
        "    'P1115',\n",
        "    'P1691',\n",
        "    'P1082',\n",
        "    'P397',\n",
        "    'P1441',\n",
        "    'P1054',\n",
        "]"
      ],
      "metadata": {
        "id": "owlQXNGEUrgD"
      },
      "execution_count": 184,
      "outputs": []
    },
    {
      "cell_type": "code",
      "source": [
        "print(\"The user has recently viewed the following products: \", recently_viewed_products)"
      ],
      "metadata": {
        "colab": {
          "base_uri": "https://localhost:8080/"
        },
        "id": "bNiAXGJWU1ii",
        "outputId": "86afd118-dcc9-4af5-9d51-624140ade995"
      },
      "execution_count": 185,
      "outputs": [
        {
          "output_type": "stream",
          "name": "stdout",
          "text": [
            "The user has recently viewed the following products:  ['P316', 'P333', 'P1115', 'P1691', 'P1082', 'P397', 'P1441', 'P1054']\n"
          ]
        }
      ]
    },
    {
      "cell_type": "markdown",
      "source": [
        "\n",
        "\n",
        "---\n",
        "\n",
        "\n",
        "\n",
        "> **1. Check records in our clustered_data related to recently viewed products**\n",
        "\n",
        "\n",
        "\n",
        "---\n",
        "\n"
      ],
      "metadata": {
        "id": "MOPpUcABT6zQ"
      }
    },
    {
      "cell_type": "code",
      "source": [
        "filtered_data = clustered_data.where(F.col('product_id').isin(recently_viewed_products))\n",
        "filtered_data.show()"
      ],
      "metadata": {
        "colab": {
          "base_uri": "https://localhost:8080/"
        },
        "id": "5LkfkM7UOwdT",
        "outputId": "d0403c0e-c027-455c-a2d8-02b30c1fb832"
      },
      "execution_count": 186,
      "outputs": [
        {
          "output_type": "stream",
          "name": "stdout",
          "text": [
            "+----------+--------------------+--------------------+--------------------+--------------------+-------+\n",
            "|product_id|               title|         description|       combined_text|            features|cluster|\n",
            "+----------+--------------------+--------------------+--------------------+--------------------+-------+\n",
            "|      P316|Mystic Fitz Roy B...|With its distress...|Mystic Fitz Roy B...|[0.02467826008796...|      2|\n",
            "|      P333|Florida Shag Beig...|Lavish natural mo...|Florida Shag Beig...|[0.04507098346948...|      2|\n",
            "|      P397|1 gal. #M250-3 Ap...|BEHR ULTRA SCUFF ...|1 gal. #M250-3 Ap...|[-0.0400581583380...|      1|\n",
            "|     P1054|1 gal. #HDPG60 Mi...|The improved PPG ...|1 gal. #HDPG60 Mi...|[-0.0943634882569...|      1|\n",
            "|     P1082|1 qt. #S220-7 Mol...|BEHR ULTRA SCUFF ...|1 qt. #S220-7 Mol...|[-0.0793181285262...|      1|\n",
            "|     P1115|Modern Gray/Multi...|This Modern Gray/...|Modern Gray/Multi...|[0.08431105315685...|      2|\n",
            "|     P1441|1 qt. #PPU6-06 Ho...|BEHR PREMIUM PLUS...|1 qt. #PPU6-06 Ho...|[-0.0183295980095...|      1|\n",
            "|     P1691|Genet Rust/Red-Br...|Add a refreshing ...|Genet Rust/Red-Br...|[-0.0520709306001...|      2|\n",
            "+----------+--------------------+--------------------+--------------------+--------------------+-------+\n",
            "\n"
          ]
        }
      ]
    },
    {
      "cell_type": "markdown",
      "source": [
        "\n",
        "\n",
        "---\n",
        "\n",
        "\n",
        "\n",
        "> **2. select the unique clusters, we recommend on basis of unique cluste**r(i.e similar products occur in them)\n",
        "\n",
        "\n",
        "\n",
        "---\n",
        "\n"
      ],
      "metadata": {
        "id": "VoFmCtq0V3MB"
      }
    },
    {
      "cell_type": "code",
      "source": [
        "unique_clusters = filtered_data.select('cluster').distinct().rdd.flatMap(lambda x : x).collect()\n",
        "unique_clusters"
      ],
      "metadata": {
        "colab": {
          "base_uri": "https://localhost:8080/"
        },
        "id": "625M0-gWWL9k",
        "outputId": "ddd59950-056e-415c-b80b-1d5b80e0c9f5"
      },
      "execution_count": 187,
      "outputs": [
        {
          "output_type": "execute_result",
          "data": {
            "text/plain": [
              "[2, 1]"
            ]
          },
          "metadata": {},
          "execution_count": 187
        }
      ]
    },
    {
      "cell_type": "markdown",
      "source": [
        "\n",
        "\n",
        "---\n",
        "\n",
        "\n",
        "\n",
        "> **3. extract the unique clusters(our product belong to) from whole record**\n",
        "\n",
        "\n",
        "\n",
        "---\n",
        "\n"
      ],
      "metadata": {
        "id": "R7bRhlkBhjkM"
      }
    },
    {
      "cell_type": "code",
      "source": [
        "unique_cluster_data = clustered_data.filter(clustered_data.cluster.isin(unique_clusters))"
      ],
      "metadata": {
        "id": "9vkKPBtRWqvU"
      },
      "execution_count": 188,
      "outputs": []
    },
    {
      "cell_type": "code",
      "source": [
        "unique_cluster_data.show()"
      ],
      "metadata": {
        "colab": {
          "base_uri": "https://localhost:8080/"
        },
        "id": "6Rw4B887eecG",
        "outputId": "35d99269-bb6d-4473-b2d7-7ec6052bcd48"
      },
      "execution_count": 189,
      "outputs": [
        {
          "output_type": "stream",
          "name": "stdout",
          "text": [
            "+----------+--------------------+--------------------+--------------------+--------------------+-------+\n",
            "|product_id|               title|         description|       combined_text|            features|cluster|\n",
            "+----------+--------------------+--------------------+--------------------+--------------------+-------+\n",
            "|        P6|5 gal. #650C-2 Po...|BEHR PRO i300 Sem...|5 gal. #650C-2 Po...|[-0.0842302292585...|      1|\n",
            "|       P11|1 qt. #350F-7 Wil...|BEHR PREMIUM PLUS...|1 qt. #350F-7 Wil...|[-0.0015745830023...|      1|\n",
            "|       P16|5 gal. #BL-W10 Ma...|BEHR PREMIUM PLUS...|5 gal. #BL-W10 Ma...|[-0.0677598193287...|      1|\n",
            "|       P18|1 qt. #M400-5 Bab...|BEHR PREMIUM PLUS...|1 qt. #M400-5 Bab...|[-0.1190816760063...|      1|\n",
            "|       P21|Whimsicle Blue Mu...|In true bohemian ...|Whimsicle Blue Mu...|[0.04355436190962...|      2|\n",
            "|       P24|5-gal. #HDGO64U C...|The Glidden 5-gal...|5-gal. #HDGO64U C...|[-0.0584314018487...|      1|\n",
            "|       P26|5 gal. #W-B-320 W...|BEHR ULTRA SCUFF ...|5 gal. #W-B-320 W...|[-0.0350787900388...|      1|\n",
            "|       P30|1 qt. Bermuda San...|This Glidden Exte...|1 qt. Bermuda San...|[-0.0665861144661...|      1|\n",
            "|       P33|1 gal. #N210-6 Sw...|Love your space l...|1 gal. #N210-6 Sw...|[-0.0195712856948...|      1|\n",
            "|       P40|1 gal. #110B-6 Cr...|BEHR PREMIUM PLUS...|1 gal. #110B-6 Cr...|[-0.0678824782371...|      1|\n",
            "|       P50|1 qt. #640A-1 Sof...|BEHR PREMIUM PLUS...|1 qt. #640A-1 Sof...|[-0.1197154149413...|      1|\n",
            "|       P52|Irenea Tan/Ivory ...|Inspired by the v...|Irenea Tan/Ivory ...|[-0.0034062168560...|      2|\n",
            "|       P53|8 oz. #P140-7 No ...|The BEHR PREMIUM ...|8 oz. #P140-7 No ...|[-0.0116029018536...|      1|\n",
            "|       P58|1 qt. #MQ2-4 Butt...|BEHR ULTRA SCUFF ...|1 qt. #MQ2-4 Butt...|[-0.0399386659264...|      1|\n",
            "|       P59|1 gal. #HDGV43U I...|Glidden Premium e...|1 gal. #HDGV43U I...|[-0.0566692575812...|      1|\n",
            "|       P63|1 qt. #BIC-44 Cha...|BEHR PREMIUM PLUS...|1 qt. #BIC-44 Cha...|[-0.0484693646430...|      1|\n",
            "|       P65|1 qt. #230F-5 Sun...|BEHR ULTRA Exteri...|1 qt. #230F-5 Sun...|[-0.0574352107942...|      1|\n",
            "|       P69|5 gal. PPG1128-2 ...|Glidden Diamond O...|5 gal. PPG1128-2 ...|[-0.1016881689429...|      1|\n",
            "|       P71|Chelsea Light Gre...|100% pure virgin ...|Chelsea Light Gre...|[0.02648930437862...|      2|\n",
            "|       P72|1 gal. #MQ2-24 Go...|BEHR ULTRA SCUFF ...|1 gal. #MQ2-24 Go...|[-0.0169609691947...|      1|\n",
            "+----------+--------------------+--------------------+--------------------+--------------------+-------+\n",
            "only showing top 20 rows\n",
            "\n"
          ]
        }
      ]
    },
    {
      "cell_type": "markdown",
      "source": [
        "\n",
        "\n",
        "---\n",
        "\n",
        "\n",
        "\n",
        "> **4. filter out the products we recently viewed from unique clusters**\n",
        "\n",
        "---\n",
        "\n",
        "\n",
        "\n"
      ],
      "metadata": {
        "id": "pjtfCMy6h6mj"
      }
    },
    {
      "cell_type": "code",
      "source": [
        "unique_cluster_unviewed_products = unique_cluster_data.filter(~F.col('product_id').isin(recently_viewed_products))"
      ],
      "metadata": {
        "id": "0z16HSi3eled"
      },
      "execution_count": 190,
      "outputs": []
    },
    {
      "cell_type": "markdown",
      "source": [
        "\n",
        "\n",
        "---\n",
        "\n",
        "> **5. aggregate pid's to which unique clusters it belong**\n",
        "**and convert to dataframe**\n",
        "\n",
        "---\n",
        "\n",
        "\n",
        "\n"
      ],
      "metadata": {
        "id": "V7S5Q8t7iJmO"
      }
    },
    {
      "cell_type": "code",
      "source": [
        "recommendations = unique_cluster_unviewed_products.groupby('cluster').agg(F.collect_list('product_id').alias('recommendations'))\n",
        "\n",
        "recommendations_df = recommendations.toPandas()\n",
        "\n",
        "recommendations_df"
      ],
      "metadata": {
        "colab": {
          "base_uri": "https://localhost:8080/",
          "height": 125
        },
        "id": "_nxzGtrBfFgI",
        "outputId": "cbe04c9b-7bc9-47ef-9eeb-944822e6cfc7"
      },
      "execution_count": 191,
      "outputs": [
        {
          "output_type": "execute_result",
          "data": {
            "text/plain": [
              "   cluster                                    recommendations\n",
              "0        1  [P6, P11, P16, P18, P24, P26, P30, P33, P40, P...\n",
              "1        2  [P21, P52, P71, P87, P101, P108, P119, P126, P..."
            ],
            "text/html": [
              "\n",
              "  <div id=\"df-d224219e-7dda-4f60-921d-257b0611a843\" class=\"colab-df-container\">\n",
              "    <div>\n",
              "<style scoped>\n",
              "    .dataframe tbody tr th:only-of-type {\n",
              "        vertical-align: middle;\n",
              "    }\n",
              "\n",
              "    .dataframe tbody tr th {\n",
              "        vertical-align: top;\n",
              "    }\n",
              "\n",
              "    .dataframe thead th {\n",
              "        text-align: right;\n",
              "    }\n",
              "</style>\n",
              "<table border=\"1\" class=\"dataframe\">\n",
              "  <thead>\n",
              "    <tr style=\"text-align: right;\">\n",
              "      <th></th>\n",
              "      <th>cluster</th>\n",
              "      <th>recommendations</th>\n",
              "    </tr>\n",
              "  </thead>\n",
              "  <tbody>\n",
              "    <tr>\n",
              "      <th>0</th>\n",
              "      <td>1</td>\n",
              "      <td>[P6, P11, P16, P18, P24, P26, P30, P33, P40, P...</td>\n",
              "    </tr>\n",
              "    <tr>\n",
              "      <th>1</th>\n",
              "      <td>2</td>\n",
              "      <td>[P21, P52, P71, P87, P101, P108, P119, P126, P...</td>\n",
              "    </tr>\n",
              "  </tbody>\n",
              "</table>\n",
              "</div>\n",
              "    <div class=\"colab-df-buttons\">\n",
              "\n",
              "  <div class=\"colab-df-container\">\n",
              "    <button class=\"colab-df-convert\" onclick=\"convertToInteractive('df-d224219e-7dda-4f60-921d-257b0611a843')\"\n",
              "            title=\"Convert this dataframe to an interactive table.\"\n",
              "            style=\"display:none;\">\n",
              "\n",
              "  <svg xmlns=\"http://www.w3.org/2000/svg\" height=\"24px\" viewBox=\"0 -960 960 960\">\n",
              "    <path d=\"M120-120v-720h720v720H120Zm60-500h600v-160H180v160Zm220 220h160v-160H400v160Zm0 220h160v-160H400v160ZM180-400h160v-160H180v160Zm440 0h160v-160H620v160ZM180-180h160v-160H180v160Zm440 0h160v-160H620v160Z\"/>\n",
              "  </svg>\n",
              "    </button>\n",
              "\n",
              "  <style>\n",
              "    .colab-df-container {\n",
              "      display:flex;\n",
              "      gap: 12px;\n",
              "    }\n",
              "\n",
              "    .colab-df-convert {\n",
              "      background-color: #E8F0FE;\n",
              "      border: none;\n",
              "      border-radius: 50%;\n",
              "      cursor: pointer;\n",
              "      display: none;\n",
              "      fill: #1967D2;\n",
              "      height: 32px;\n",
              "      padding: 0 0 0 0;\n",
              "      width: 32px;\n",
              "    }\n",
              "\n",
              "    .colab-df-convert:hover {\n",
              "      background-color: #E2EBFA;\n",
              "      box-shadow: 0px 1px 2px rgba(60, 64, 67, 0.3), 0px 1px 3px 1px rgba(60, 64, 67, 0.15);\n",
              "      fill: #174EA6;\n",
              "    }\n",
              "\n",
              "    .colab-df-buttons div {\n",
              "      margin-bottom: 4px;\n",
              "    }\n",
              "\n",
              "    [theme=dark] .colab-df-convert {\n",
              "      background-color: #3B4455;\n",
              "      fill: #D2E3FC;\n",
              "    }\n",
              "\n",
              "    [theme=dark] .colab-df-convert:hover {\n",
              "      background-color: #434B5C;\n",
              "      box-shadow: 0px 1px 3px 1px rgba(0, 0, 0, 0.15);\n",
              "      filter: drop-shadow(0px 1px 2px rgba(0, 0, 0, 0.3));\n",
              "      fill: #FFFFFF;\n",
              "    }\n",
              "  </style>\n",
              "\n",
              "    <script>\n",
              "      const buttonEl =\n",
              "        document.querySelector('#df-d224219e-7dda-4f60-921d-257b0611a843 button.colab-df-convert');\n",
              "      buttonEl.style.display =\n",
              "        google.colab.kernel.accessAllowed ? 'block' : 'none';\n",
              "\n",
              "      async function convertToInteractive(key) {\n",
              "        const element = document.querySelector('#df-d224219e-7dda-4f60-921d-257b0611a843');\n",
              "        const dataTable =\n",
              "          await google.colab.kernel.invokeFunction('convertToInteractive',\n",
              "                                                    [key], {});\n",
              "        if (!dataTable) return;\n",
              "\n",
              "        const docLinkHtml = 'Like what you see? Visit the ' +\n",
              "          '<a target=\"_blank\" href=https://colab.research.google.com/notebooks/data_table.ipynb>data table notebook</a>'\n",
              "          + ' to learn more about interactive tables.';\n",
              "        element.innerHTML = '';\n",
              "        dataTable['output_type'] = 'display_data';\n",
              "        await google.colab.output.renderOutput(dataTable, element);\n",
              "        const docLink = document.createElement('div');\n",
              "        docLink.innerHTML = docLinkHtml;\n",
              "        element.appendChild(docLink);\n",
              "      }\n",
              "    </script>\n",
              "  </div>\n",
              "\n",
              "\n",
              "<div id=\"df-71c662e1-9147-4cf5-855a-81c134772c2a\">\n",
              "  <button class=\"colab-df-quickchart\" onclick=\"quickchart('df-71c662e1-9147-4cf5-855a-81c134772c2a')\"\n",
              "            title=\"Suggest charts\"\n",
              "            style=\"display:none;\">\n",
              "\n",
              "<svg xmlns=\"http://www.w3.org/2000/svg\" height=\"24px\"viewBox=\"0 0 24 24\"\n",
              "     width=\"24px\">\n",
              "    <g>\n",
              "        <path d=\"M19 3H5c-1.1 0-2 .9-2 2v14c0 1.1.9 2 2 2h14c1.1 0 2-.9 2-2V5c0-1.1-.9-2-2-2zM9 17H7v-7h2v7zm4 0h-2V7h2v10zm4 0h-2v-4h2v4z\"/>\n",
              "    </g>\n",
              "</svg>\n",
              "  </button>\n",
              "\n",
              "<style>\n",
              "  .colab-df-quickchart {\n",
              "      --bg-color: #E8F0FE;\n",
              "      --fill-color: #1967D2;\n",
              "      --hover-bg-color: #E2EBFA;\n",
              "      --hover-fill-color: #174EA6;\n",
              "      --disabled-fill-color: #AAA;\n",
              "      --disabled-bg-color: #DDD;\n",
              "  }\n",
              "\n",
              "  [theme=dark] .colab-df-quickchart {\n",
              "      --bg-color: #3B4455;\n",
              "      --fill-color: #D2E3FC;\n",
              "      --hover-bg-color: #434B5C;\n",
              "      --hover-fill-color: #FFFFFF;\n",
              "      --disabled-bg-color: #3B4455;\n",
              "      --disabled-fill-color: #666;\n",
              "  }\n",
              "\n",
              "  .colab-df-quickchart {\n",
              "    background-color: var(--bg-color);\n",
              "    border: none;\n",
              "    border-radius: 50%;\n",
              "    cursor: pointer;\n",
              "    display: none;\n",
              "    fill: var(--fill-color);\n",
              "    height: 32px;\n",
              "    padding: 0;\n",
              "    width: 32px;\n",
              "  }\n",
              "\n",
              "  .colab-df-quickchart:hover {\n",
              "    background-color: var(--hover-bg-color);\n",
              "    box-shadow: 0 1px 2px rgba(60, 64, 67, 0.3), 0 1px 3px 1px rgba(60, 64, 67, 0.15);\n",
              "    fill: var(--button-hover-fill-color);\n",
              "  }\n",
              "\n",
              "  .colab-df-quickchart-complete:disabled,\n",
              "  .colab-df-quickchart-complete:disabled:hover {\n",
              "    background-color: var(--disabled-bg-color);\n",
              "    fill: var(--disabled-fill-color);\n",
              "    box-shadow: none;\n",
              "  }\n",
              "\n",
              "  .colab-df-spinner {\n",
              "    border: 2px solid var(--fill-color);\n",
              "    border-color: transparent;\n",
              "    border-bottom-color: var(--fill-color);\n",
              "    animation:\n",
              "      spin 1s steps(1) infinite;\n",
              "  }\n",
              "\n",
              "  @keyframes spin {\n",
              "    0% {\n",
              "      border-color: transparent;\n",
              "      border-bottom-color: var(--fill-color);\n",
              "      border-left-color: var(--fill-color);\n",
              "    }\n",
              "    20% {\n",
              "      border-color: transparent;\n",
              "      border-left-color: var(--fill-color);\n",
              "      border-top-color: var(--fill-color);\n",
              "    }\n",
              "    30% {\n",
              "      border-color: transparent;\n",
              "      border-left-color: var(--fill-color);\n",
              "      border-top-color: var(--fill-color);\n",
              "      border-right-color: var(--fill-color);\n",
              "    }\n",
              "    40% {\n",
              "      border-color: transparent;\n",
              "      border-right-color: var(--fill-color);\n",
              "      border-top-color: var(--fill-color);\n",
              "    }\n",
              "    60% {\n",
              "      border-color: transparent;\n",
              "      border-right-color: var(--fill-color);\n",
              "    }\n",
              "    80% {\n",
              "      border-color: transparent;\n",
              "      border-right-color: var(--fill-color);\n",
              "      border-bottom-color: var(--fill-color);\n",
              "    }\n",
              "    90% {\n",
              "      border-color: transparent;\n",
              "      border-bottom-color: var(--fill-color);\n",
              "    }\n",
              "  }\n",
              "</style>\n",
              "\n",
              "  <script>\n",
              "    async function quickchart(key) {\n",
              "      const quickchartButtonEl =\n",
              "        document.querySelector('#' + key + ' button');\n",
              "      quickchartButtonEl.disabled = true;  // To prevent multiple clicks.\n",
              "      quickchartButtonEl.classList.add('colab-df-spinner');\n",
              "      try {\n",
              "        const charts = await google.colab.kernel.invokeFunction(\n",
              "            'suggestCharts', [key], {});\n",
              "      } catch (error) {\n",
              "        console.error('Error during call to suggestCharts:', error);\n",
              "      }\n",
              "      quickchartButtonEl.classList.remove('colab-df-spinner');\n",
              "      quickchartButtonEl.classList.add('colab-df-quickchart-complete');\n",
              "    }\n",
              "    (() => {\n",
              "      let quickchartButtonEl =\n",
              "        document.querySelector('#df-71c662e1-9147-4cf5-855a-81c134772c2a button');\n",
              "      quickchartButtonEl.style.display =\n",
              "        google.colab.kernel.accessAllowed ? 'block' : 'none';\n",
              "    })();\n",
              "  </script>\n",
              "</div>\n",
              "\n",
              "  <div id=\"id_f9836f0c-774a-4e01-94b8-1e9e441c4d94\">\n",
              "    <style>\n",
              "      .colab-df-generate {\n",
              "        background-color: #E8F0FE;\n",
              "        border: none;\n",
              "        border-radius: 50%;\n",
              "        cursor: pointer;\n",
              "        display: none;\n",
              "        fill: #1967D2;\n",
              "        height: 32px;\n",
              "        padding: 0 0 0 0;\n",
              "        width: 32px;\n",
              "      }\n",
              "\n",
              "      .colab-df-generate:hover {\n",
              "        background-color: #E2EBFA;\n",
              "        box-shadow: 0px 1px 2px rgba(60, 64, 67, 0.3), 0px 1px 3px 1px rgba(60, 64, 67, 0.15);\n",
              "        fill: #174EA6;\n",
              "      }\n",
              "\n",
              "      [theme=dark] .colab-df-generate {\n",
              "        background-color: #3B4455;\n",
              "        fill: #D2E3FC;\n",
              "      }\n",
              "\n",
              "      [theme=dark] .colab-df-generate:hover {\n",
              "        background-color: #434B5C;\n",
              "        box-shadow: 0px 1px 3px 1px rgba(0, 0, 0, 0.15);\n",
              "        filter: drop-shadow(0px 1px 2px rgba(0, 0, 0, 0.3));\n",
              "        fill: #FFFFFF;\n",
              "      }\n",
              "    </style>\n",
              "    <button class=\"colab-df-generate\" onclick=\"generateWithVariable('recommendations_df')\"\n",
              "            title=\"Generate code using this dataframe.\"\n",
              "            style=\"display:none;\">\n",
              "\n",
              "  <svg xmlns=\"http://www.w3.org/2000/svg\" height=\"24px\"viewBox=\"0 0 24 24\"\n",
              "       width=\"24px\">\n",
              "    <path d=\"M7,19H8.4L18.45,9,17,7.55,7,17.6ZM5,21V16.75L18.45,3.32a2,2,0,0,1,2.83,0l1.4,1.43a1.91,1.91,0,0,1,.58,1.4,1.91,1.91,0,0,1-.58,1.4L9.25,21ZM18.45,9,17,7.55Zm-12,3A5.31,5.31,0,0,0,4.9,8.1,5.31,5.31,0,0,0,1,6.5,5.31,5.31,0,0,0,4.9,4.9,5.31,5.31,0,0,0,6.5,1,5.31,5.31,0,0,0,8.1,4.9,5.31,5.31,0,0,0,12,6.5,5.46,5.46,0,0,0,6.5,12Z\"/>\n",
              "  </svg>\n",
              "    </button>\n",
              "    <script>\n",
              "      (() => {\n",
              "      const buttonEl =\n",
              "        document.querySelector('#id_f9836f0c-774a-4e01-94b8-1e9e441c4d94 button.colab-df-generate');\n",
              "      buttonEl.style.display =\n",
              "        google.colab.kernel.accessAllowed ? 'block' : 'none';\n",
              "\n",
              "      buttonEl.onclick = () => {\n",
              "        google.colab.notebook.generateWithVariable('recommendations_df');\n",
              "      }\n",
              "      })();\n",
              "    </script>\n",
              "  </div>\n",
              "\n",
              "    </div>\n",
              "  </div>\n"
            ],
            "application/vnd.google.colaboratory.intrinsic+json": {
              "type": "dataframe",
              "variable_name": "recommendations_df",
              "summary": "{\n  \"name\": \"recommendations_df\",\n  \"rows\": 2,\n  \"fields\": [\n    {\n      \"column\": \"cluster\",\n      \"properties\": {\n        \"dtype\": \"int32\",\n        \"num_unique_values\": 2,\n        \"samples\": [\n          2,\n          1\n        ],\n        \"semantic_type\": \"\",\n        \"description\": \"\"\n      }\n    },\n    {\n      \"column\": \"recommendations\",\n      \"properties\": {\n        \"dtype\": \"object\",\n        \"semantic_type\": \"\",\n        \"description\": \"\"\n      }\n    }\n  ]\n}"
            }
          },
          "metadata": {},
          "execution_count": 191
        }
      ]
    },
    {
      "cell_type": "markdown",
      "source": [
        "\n",
        "\n",
        "---\n",
        "\n",
        "\n",
        "\n",
        "> **6. recommend only random 5 similar products**\n",
        "\n",
        "---\n",
        "\n",
        "\n",
        "\n"
      ],
      "metadata": {
        "id": "xDCRs-1XihIu"
      }
    },
    {
      "cell_type": "code",
      "source": [
        "recommendations_df['random_recommendations'] = recommendations_df.recommendations.apply(lambda x : np.random.choice(x,5,replace=False).tolist())\n",
        "\n",
        "\n",
        "recommendations_df"
      ],
      "metadata": {
        "colab": {
          "base_uri": "https://localhost:8080/",
          "height": 125
        },
        "id": "O6mXPpEGf_lR",
        "outputId": "f3cc9308-0ca3-414d-afba-4cd5fe40c102"
      },
      "execution_count": 192,
      "outputs": [
        {
          "output_type": "execute_result",
          "data": {
            "text/plain": [
              "   cluster                                    recommendations  \\\n",
              "0        1  [P6, P11, P16, P18, P24, P26, P30, P33, P40, P...   \n",
              "1        2  [P21, P52, P71, P87, P101, P108, P119, P126, P...   \n",
              "\n",
              "              random_recommendations  \n",
              "0  [P1042, P1968, P888, P241, P1470]  \n",
              "1  [P1147, P655, P262, P1707, P1654]  "
            ],
            "text/html": [
              "\n",
              "  <div id=\"df-f810c304-6979-438d-bfd3-87ee944da55c\" class=\"colab-df-container\">\n",
              "    <div>\n",
              "<style scoped>\n",
              "    .dataframe tbody tr th:only-of-type {\n",
              "        vertical-align: middle;\n",
              "    }\n",
              "\n",
              "    .dataframe tbody tr th {\n",
              "        vertical-align: top;\n",
              "    }\n",
              "\n",
              "    .dataframe thead th {\n",
              "        text-align: right;\n",
              "    }\n",
              "</style>\n",
              "<table border=\"1\" class=\"dataframe\">\n",
              "  <thead>\n",
              "    <tr style=\"text-align: right;\">\n",
              "      <th></th>\n",
              "      <th>cluster</th>\n",
              "      <th>recommendations</th>\n",
              "      <th>random_recommendations</th>\n",
              "    </tr>\n",
              "  </thead>\n",
              "  <tbody>\n",
              "    <tr>\n",
              "      <th>0</th>\n",
              "      <td>1</td>\n",
              "      <td>[P6, P11, P16, P18, P24, P26, P30, P33, P40, P...</td>\n",
              "      <td>[P1042, P1968, P888, P241, P1470]</td>\n",
              "    </tr>\n",
              "    <tr>\n",
              "      <th>1</th>\n",
              "      <td>2</td>\n",
              "      <td>[P21, P52, P71, P87, P101, P108, P119, P126, P...</td>\n",
              "      <td>[P1147, P655, P262, P1707, P1654]</td>\n",
              "    </tr>\n",
              "  </tbody>\n",
              "</table>\n",
              "</div>\n",
              "    <div class=\"colab-df-buttons\">\n",
              "\n",
              "  <div class=\"colab-df-container\">\n",
              "    <button class=\"colab-df-convert\" onclick=\"convertToInteractive('df-f810c304-6979-438d-bfd3-87ee944da55c')\"\n",
              "            title=\"Convert this dataframe to an interactive table.\"\n",
              "            style=\"display:none;\">\n",
              "\n",
              "  <svg xmlns=\"http://www.w3.org/2000/svg\" height=\"24px\" viewBox=\"0 -960 960 960\">\n",
              "    <path d=\"M120-120v-720h720v720H120Zm60-500h600v-160H180v160Zm220 220h160v-160H400v160Zm0 220h160v-160H400v160ZM180-400h160v-160H180v160Zm440 0h160v-160H620v160ZM180-180h160v-160H180v160Zm440 0h160v-160H620v160Z\"/>\n",
              "  </svg>\n",
              "    </button>\n",
              "\n",
              "  <style>\n",
              "    .colab-df-container {\n",
              "      display:flex;\n",
              "      gap: 12px;\n",
              "    }\n",
              "\n",
              "    .colab-df-convert {\n",
              "      background-color: #E8F0FE;\n",
              "      border: none;\n",
              "      border-radius: 50%;\n",
              "      cursor: pointer;\n",
              "      display: none;\n",
              "      fill: #1967D2;\n",
              "      height: 32px;\n",
              "      padding: 0 0 0 0;\n",
              "      width: 32px;\n",
              "    }\n",
              "\n",
              "    .colab-df-convert:hover {\n",
              "      background-color: #E2EBFA;\n",
              "      box-shadow: 0px 1px 2px rgba(60, 64, 67, 0.3), 0px 1px 3px 1px rgba(60, 64, 67, 0.15);\n",
              "      fill: #174EA6;\n",
              "    }\n",
              "\n",
              "    .colab-df-buttons div {\n",
              "      margin-bottom: 4px;\n",
              "    }\n",
              "\n",
              "    [theme=dark] .colab-df-convert {\n",
              "      background-color: #3B4455;\n",
              "      fill: #D2E3FC;\n",
              "    }\n",
              "\n",
              "    [theme=dark] .colab-df-convert:hover {\n",
              "      background-color: #434B5C;\n",
              "      box-shadow: 0px 1px 3px 1px rgba(0, 0, 0, 0.15);\n",
              "      filter: drop-shadow(0px 1px 2px rgba(0, 0, 0, 0.3));\n",
              "      fill: #FFFFFF;\n",
              "    }\n",
              "  </style>\n",
              "\n",
              "    <script>\n",
              "      const buttonEl =\n",
              "        document.querySelector('#df-f810c304-6979-438d-bfd3-87ee944da55c button.colab-df-convert');\n",
              "      buttonEl.style.display =\n",
              "        google.colab.kernel.accessAllowed ? 'block' : 'none';\n",
              "\n",
              "      async function convertToInteractive(key) {\n",
              "        const element = document.querySelector('#df-f810c304-6979-438d-bfd3-87ee944da55c');\n",
              "        const dataTable =\n",
              "          await google.colab.kernel.invokeFunction('convertToInteractive',\n",
              "                                                    [key], {});\n",
              "        if (!dataTable) return;\n",
              "\n",
              "        const docLinkHtml = 'Like what you see? Visit the ' +\n",
              "          '<a target=\"_blank\" href=https://colab.research.google.com/notebooks/data_table.ipynb>data table notebook</a>'\n",
              "          + ' to learn more about interactive tables.';\n",
              "        element.innerHTML = '';\n",
              "        dataTable['output_type'] = 'display_data';\n",
              "        await google.colab.output.renderOutput(dataTable, element);\n",
              "        const docLink = document.createElement('div');\n",
              "        docLink.innerHTML = docLinkHtml;\n",
              "        element.appendChild(docLink);\n",
              "      }\n",
              "    </script>\n",
              "  </div>\n",
              "\n",
              "\n",
              "<div id=\"df-634fe177-36da-4118-be47-4035326850af\">\n",
              "  <button class=\"colab-df-quickchart\" onclick=\"quickchart('df-634fe177-36da-4118-be47-4035326850af')\"\n",
              "            title=\"Suggest charts\"\n",
              "            style=\"display:none;\">\n",
              "\n",
              "<svg xmlns=\"http://www.w3.org/2000/svg\" height=\"24px\"viewBox=\"0 0 24 24\"\n",
              "     width=\"24px\">\n",
              "    <g>\n",
              "        <path d=\"M19 3H5c-1.1 0-2 .9-2 2v14c0 1.1.9 2 2 2h14c1.1 0 2-.9 2-2V5c0-1.1-.9-2-2-2zM9 17H7v-7h2v7zm4 0h-2V7h2v10zm4 0h-2v-4h2v4z\"/>\n",
              "    </g>\n",
              "</svg>\n",
              "  </button>\n",
              "\n",
              "<style>\n",
              "  .colab-df-quickchart {\n",
              "      --bg-color: #E8F0FE;\n",
              "      --fill-color: #1967D2;\n",
              "      --hover-bg-color: #E2EBFA;\n",
              "      --hover-fill-color: #174EA6;\n",
              "      --disabled-fill-color: #AAA;\n",
              "      --disabled-bg-color: #DDD;\n",
              "  }\n",
              "\n",
              "  [theme=dark] .colab-df-quickchart {\n",
              "      --bg-color: #3B4455;\n",
              "      --fill-color: #D2E3FC;\n",
              "      --hover-bg-color: #434B5C;\n",
              "      --hover-fill-color: #FFFFFF;\n",
              "      --disabled-bg-color: #3B4455;\n",
              "      --disabled-fill-color: #666;\n",
              "  }\n",
              "\n",
              "  .colab-df-quickchart {\n",
              "    background-color: var(--bg-color);\n",
              "    border: none;\n",
              "    border-radius: 50%;\n",
              "    cursor: pointer;\n",
              "    display: none;\n",
              "    fill: var(--fill-color);\n",
              "    height: 32px;\n",
              "    padding: 0;\n",
              "    width: 32px;\n",
              "  }\n",
              "\n",
              "  .colab-df-quickchart:hover {\n",
              "    background-color: var(--hover-bg-color);\n",
              "    box-shadow: 0 1px 2px rgba(60, 64, 67, 0.3), 0 1px 3px 1px rgba(60, 64, 67, 0.15);\n",
              "    fill: var(--button-hover-fill-color);\n",
              "  }\n",
              "\n",
              "  .colab-df-quickchart-complete:disabled,\n",
              "  .colab-df-quickchart-complete:disabled:hover {\n",
              "    background-color: var(--disabled-bg-color);\n",
              "    fill: var(--disabled-fill-color);\n",
              "    box-shadow: none;\n",
              "  }\n",
              "\n",
              "  .colab-df-spinner {\n",
              "    border: 2px solid var(--fill-color);\n",
              "    border-color: transparent;\n",
              "    border-bottom-color: var(--fill-color);\n",
              "    animation:\n",
              "      spin 1s steps(1) infinite;\n",
              "  }\n",
              "\n",
              "  @keyframes spin {\n",
              "    0% {\n",
              "      border-color: transparent;\n",
              "      border-bottom-color: var(--fill-color);\n",
              "      border-left-color: var(--fill-color);\n",
              "    }\n",
              "    20% {\n",
              "      border-color: transparent;\n",
              "      border-left-color: var(--fill-color);\n",
              "      border-top-color: var(--fill-color);\n",
              "    }\n",
              "    30% {\n",
              "      border-color: transparent;\n",
              "      border-left-color: var(--fill-color);\n",
              "      border-top-color: var(--fill-color);\n",
              "      border-right-color: var(--fill-color);\n",
              "    }\n",
              "    40% {\n",
              "      border-color: transparent;\n",
              "      border-right-color: var(--fill-color);\n",
              "      border-top-color: var(--fill-color);\n",
              "    }\n",
              "    60% {\n",
              "      border-color: transparent;\n",
              "      border-right-color: var(--fill-color);\n",
              "    }\n",
              "    80% {\n",
              "      border-color: transparent;\n",
              "      border-right-color: var(--fill-color);\n",
              "      border-bottom-color: var(--fill-color);\n",
              "    }\n",
              "    90% {\n",
              "      border-color: transparent;\n",
              "      border-bottom-color: var(--fill-color);\n",
              "    }\n",
              "  }\n",
              "</style>\n",
              "\n",
              "  <script>\n",
              "    async function quickchart(key) {\n",
              "      const quickchartButtonEl =\n",
              "        document.querySelector('#' + key + ' button');\n",
              "      quickchartButtonEl.disabled = true;  // To prevent multiple clicks.\n",
              "      quickchartButtonEl.classList.add('colab-df-spinner');\n",
              "      try {\n",
              "        const charts = await google.colab.kernel.invokeFunction(\n",
              "            'suggestCharts', [key], {});\n",
              "      } catch (error) {\n",
              "        console.error('Error during call to suggestCharts:', error);\n",
              "      }\n",
              "      quickchartButtonEl.classList.remove('colab-df-spinner');\n",
              "      quickchartButtonEl.classList.add('colab-df-quickchart-complete');\n",
              "    }\n",
              "    (() => {\n",
              "      let quickchartButtonEl =\n",
              "        document.querySelector('#df-634fe177-36da-4118-be47-4035326850af button');\n",
              "      quickchartButtonEl.style.display =\n",
              "        google.colab.kernel.accessAllowed ? 'block' : 'none';\n",
              "    })();\n",
              "  </script>\n",
              "</div>\n",
              "\n",
              "  <div id=\"id_653ee158-7070-409b-bce8-f03430b7c03d\">\n",
              "    <style>\n",
              "      .colab-df-generate {\n",
              "        background-color: #E8F0FE;\n",
              "        border: none;\n",
              "        border-radius: 50%;\n",
              "        cursor: pointer;\n",
              "        display: none;\n",
              "        fill: #1967D2;\n",
              "        height: 32px;\n",
              "        padding: 0 0 0 0;\n",
              "        width: 32px;\n",
              "      }\n",
              "\n",
              "      .colab-df-generate:hover {\n",
              "        background-color: #E2EBFA;\n",
              "        box-shadow: 0px 1px 2px rgba(60, 64, 67, 0.3), 0px 1px 3px 1px rgba(60, 64, 67, 0.15);\n",
              "        fill: #174EA6;\n",
              "      }\n",
              "\n",
              "      [theme=dark] .colab-df-generate {\n",
              "        background-color: #3B4455;\n",
              "        fill: #D2E3FC;\n",
              "      }\n",
              "\n",
              "      [theme=dark] .colab-df-generate:hover {\n",
              "        background-color: #434B5C;\n",
              "        box-shadow: 0px 1px 3px 1px rgba(0, 0, 0, 0.15);\n",
              "        filter: drop-shadow(0px 1px 2px rgba(0, 0, 0, 0.3));\n",
              "        fill: #FFFFFF;\n",
              "      }\n",
              "    </style>\n",
              "    <button class=\"colab-df-generate\" onclick=\"generateWithVariable('recommendations_df')\"\n",
              "            title=\"Generate code using this dataframe.\"\n",
              "            style=\"display:none;\">\n",
              "\n",
              "  <svg xmlns=\"http://www.w3.org/2000/svg\" height=\"24px\"viewBox=\"0 0 24 24\"\n",
              "       width=\"24px\">\n",
              "    <path d=\"M7,19H8.4L18.45,9,17,7.55,7,17.6ZM5,21V16.75L18.45,3.32a2,2,0,0,1,2.83,0l1.4,1.43a1.91,1.91,0,0,1,.58,1.4,1.91,1.91,0,0,1-.58,1.4L9.25,21ZM18.45,9,17,7.55Zm-12,3A5.31,5.31,0,0,0,4.9,8.1,5.31,5.31,0,0,0,1,6.5,5.31,5.31,0,0,0,4.9,4.9,5.31,5.31,0,0,0,6.5,1,5.31,5.31,0,0,0,8.1,4.9,5.31,5.31,0,0,0,12,6.5,5.46,5.46,0,0,0,6.5,12Z\"/>\n",
              "  </svg>\n",
              "    </button>\n",
              "    <script>\n",
              "      (() => {\n",
              "      const buttonEl =\n",
              "        document.querySelector('#id_653ee158-7070-409b-bce8-f03430b7c03d button.colab-df-generate');\n",
              "      buttonEl.style.display =\n",
              "        google.colab.kernel.accessAllowed ? 'block' : 'none';\n",
              "\n",
              "      buttonEl.onclick = () => {\n",
              "        google.colab.notebook.generateWithVariable('recommendations_df');\n",
              "      }\n",
              "      })();\n",
              "    </script>\n",
              "  </div>\n",
              "\n",
              "    </div>\n",
              "  </div>\n"
            ],
            "application/vnd.google.colaboratory.intrinsic+json": {
              "type": "dataframe",
              "variable_name": "recommendations_df",
              "summary": "{\n  \"name\": \"recommendations_df\",\n  \"rows\": 2,\n  \"fields\": [\n    {\n      \"column\": \"cluster\",\n      \"properties\": {\n        \"dtype\": \"int32\",\n        \"num_unique_values\": 2,\n        \"samples\": [\n          2,\n          1\n        ],\n        \"semantic_type\": \"\",\n        \"description\": \"\"\n      }\n    },\n    {\n      \"column\": \"recommendations\",\n      \"properties\": {\n        \"dtype\": \"object\",\n        \"semantic_type\": \"\",\n        \"description\": \"\"\n      }\n    },\n    {\n      \"column\": \"random_recommendations\",\n      \"properties\": {\n        \"dtype\": \"object\",\n        \"semantic_type\": \"\",\n        \"description\": \"\"\n      }\n    }\n  ]\n}"
            }
          },
          "metadata": {},
          "execution_count": 192
        }
      ]
    },
    {
      "cell_type": "markdown",
      "source": [
        "\n",
        "\n",
        "---\n",
        "\n",
        "\n",
        "\n",
        ">  **7. display products from pid**'s\n",
        "\n",
        "---\n",
        "\n",
        "\n",
        "\n"
      ],
      "metadata": {
        "id": "p_sNyWfeioxf"
      }
    },
    {
      "cell_type": "code",
      "source": [
        "# write a python function to display the recommendations\n",
        "def display_recommendations(row):\n",
        "  # find the title of the product in df\n",
        "  product_ids = row['random_recommendations']\n",
        "  cluster = row.cluster\n",
        "\n",
        "  # Use the 'df' DataFrame instead of 'data'\n",
        "  titles = df. \\\n",
        "          filter(df[\"product_id\"]. \\\n",
        "          isin(product_ids)).select(\"title\").collect()\n",
        "\n",
        "  print(\"\\n\")\n",
        "  print(\"Recommendations for Cluster:\", cluster)\n",
        "  for title in titles:\n",
        "    print(title[0])\n",
        "\n",
        "recommendations_df.apply(display_recommendations, axis=1)"
      ],
      "metadata": {
        "colab": {
          "base_uri": "https://localhost:8080/",
          "height": 424
        },
        "id": "upR4UepKgkxo",
        "outputId": "cfc95844-c42f-487e-d403-8ff08557f8fa"
      },
      "execution_count": 193,
      "outputs": [
        {
          "output_type": "stream",
          "name": "stdout",
          "text": [
            "\n",
            "\n",
            "Recommendations for Cluster: 1\n",
            "1 qt. #P180-4 Guava Jelly Satin Enamel Interior Paint & Primer\n",
            "1 qt. PPG1208-7 Gothic Gold Satin Interior Paint with Primer\n",
            "1 gal. #200B-7 Fireglow Matte Interior Stain-Blocking Paint & Primer\n",
            "5 gal. #HDGR57D Seascape Flat Interior Paint with Primer\n",
            "5 gal. #HDGG31U Mountain Mist Satin Interior Paint with Primer\n",
            "\n",
            "\n",
            "Recommendations for Cluster: 2\n",
            "Arctic Shag Ivory 5 ft. x 8 ft. Solid Area Rug\n",
            "Samba Neutral Trellis 5 ft. x 7 ft. Indoor/Outdoor Area Rug\n",
            "Madrid Vintage Filigree Textured Weave Black/Khaki 5 ft. Round Indoor/Outdoor Area Rug\n",
            "Durant Taupe 2 ft. 7 in. x 10 ft. Runner Rug\n",
            "Jarrett White 5 ft. x 7 ft. Flatweave Indoor/Outdoor Area Rug\n"
          ]
        },
        {
          "output_type": "execute_result",
          "data": {
            "text/plain": [
              "0    None\n",
              "1    None\n",
              "dtype: object"
            ],
            "text/html": [
              "<div>\n",
              "<style scoped>\n",
              "    .dataframe tbody tr th:only-of-type {\n",
              "        vertical-align: middle;\n",
              "    }\n",
              "\n",
              "    .dataframe tbody tr th {\n",
              "        vertical-align: top;\n",
              "    }\n",
              "\n",
              "    .dataframe thead th {\n",
              "        text-align: right;\n",
              "    }\n",
              "</style>\n",
              "<table border=\"1\" class=\"dataframe\">\n",
              "  <thead>\n",
              "    <tr style=\"text-align: right;\">\n",
              "      <th></th>\n",
              "      <th>0</th>\n",
              "    </tr>\n",
              "  </thead>\n",
              "  <tbody>\n",
              "    <tr>\n",
              "      <th>0</th>\n",
              "      <td>None</td>\n",
              "    </tr>\n",
              "    <tr>\n",
              "      <th>1</th>\n",
              "      <td>None</td>\n",
              "    </tr>\n",
              "  </tbody>\n",
              "</table>\n",
              "</div><br><label><b>dtype:</b> object</label>"
            ]
          },
          "metadata": {},
          "execution_count": 193
        }
      ]
    },
    {
      "cell_type": "code",
      "source": [],
      "metadata": {
        "id": "hmvFAznpg5mH"
      },
      "execution_count": 193,
      "outputs": []
    }
  ],
  "metadata": {
    "colab": {
      "provenance": [],
      "authorship_tag": "ABX9TyML10Rh2plMPTjNEEE3SI9Q",
      "include_colab_link": true
    },
    "kernelspec": {
      "display_name": "Python 3",
      "name": "python3"
    },
    "language_info": {
      "name": "python"
    }
  },
  "nbformat": 4,
  "nbformat_minor": 0
}